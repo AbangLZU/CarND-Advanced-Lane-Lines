{
 "cells": [
  {
   "cell_type": "markdown",
   "metadata": {},
   "source": [
    "# Reuse the functions in 1_lane_detect_for_test_images.ipynb"
   ]
  },
  {
   "cell_type": "code",
   "execution_count": 22,
   "metadata": {
    "collapsed": true
   },
   "outputs": [],
   "source": [
    "from __future__ import print_function\n",
    "\n",
    "import numpy as np\n",
    "import cv2\n",
    "import glob\n",
    "import matplotlib.pyplot as plt\n",
    "import pickle\n",
    "import os\n",
    "from collections import deque\n",
    "from moviepy.editor import VideoFileClip\n",
    "from IPython.display import HTML\n",
    "%matplotlib inline\n",
    "\n",
    "# image distortion correction and\n",
    "# returns the undistorted image\n",
    "def cal_undistort(img, mtx, dist):\n",
    "    undist = cv2.undistort(img, mtx, dist, None, mtx)\n",
    "    return undist\n",
    "\n",
    "\n",
    "def subplot(rows, cols, imgs):\n",
    "    nums = rows * cols\n",
    "    fig = plt.figure(1, figsize=(16, 9))\n",
    "    for i in range(1, nums+1):\n",
    "        plt.subplot(rows, cols, i)\n",
    "        plt.imshow(imgs[i-1])\n",
    "\n",
    "\n",
    "def abs_sobel_thresh(img, sobel_kernel=3, orient='x', thresh=(0, 255)):\n",
    "    gray = cv2.cvtColor(img, cv2.COLOR_RGB2GRAY)\n",
    "    if orient == 'x':\n",
    "        sobel = cv2.Sobel(gray, cv2.CV_64F, 1, 0, ksize=sobel_kernel)\n",
    "    else:\n",
    "        sobel = cv2.Sobel(gray, cv2.CV_64F, 0, 1, ksize=sobel_kernel)\n",
    "    abs_sobel = np.absolute(sobel)\n",
    "    scaled_sobel = np.uint8(255 * abs_sobel / np.max(abs_sobel))\n",
    "    sxbinary = np.zeros_like(scaled_sobel)\n",
    "    sxbinary[(scaled_sobel >= thresh[0]) & (scaled_sobel <= thresh[1])] = 1\n",
    "    return sxbinary\n",
    "\n",
    "\n",
    "def mag_thresh(img, sobel_kernel=3, mag_thresh=(0, 255)):\n",
    "    # Convert to grayscale\n",
    "    gray = cv2.cvtColor(img, cv2.COLOR_RGB2GRAY)\n",
    "    # Take both Sobel x and y gradients\n",
    "    sobelx = cv2.Sobel(gray, cv2.CV_64F, 1, 0, ksize=sobel_kernel)\n",
    "    sobely = cv2.Sobel(gray, cv2.CV_64F, 0, 1, ksize=sobel_kernel)\n",
    "    # Calculate the gradient magnitude\n",
    "    gradmag = np.sqrt(sobelx**2 + sobely**2)\n",
    "    # Rescale to 8 bit\n",
    "    scale_factor = np.max(gradmag)/255\n",
    "    gradmag = (gradmag/scale_factor).astype(np.uint8)\n",
    "    # Create a binary image of ones where threshold is met, zeros otherwise\n",
    "    binary_output = np.zeros_like(gradmag)\n",
    "    binary_output[(gradmag >= mag_thresh[0]) & (gradmag <= mag_thresh[1])] = 1\n",
    "\n",
    "    # Return the binary image\n",
    "    return binary_output\n",
    "\n",
    "\n",
    "def dir_threshold(img, sobel_kernel=3, thresh=(0, np.pi/2)):\n",
    "    # Grayscale\n",
    "    gray = cv2.cvtColor(img, cv2.COLOR_RGB2GRAY)\n",
    "    # Calculate the x and y gradients\n",
    "    sobelx = cv2.Sobel(gray, cv2.CV_64F, 1, 0, ksize=sobel_kernel)\n",
    "    sobely = cv2.Sobel(gray, cv2.CV_64F, 0, 1, ksize=sobel_kernel)\n",
    "    # Take the absolute value of the gradient direction,\n",
    "    # apply a threshold, and create a binary image result\n",
    "    absgraddir = np.arctan2(np.absolute(sobely), np.absolute(sobelx))\n",
    "    binary_output =  np.zeros_like(absgraddir)\n",
    "    binary_output[(absgraddir >= thresh[0]) & (absgraddir <= thresh[1])] = 1\n",
    "\n",
    "    # Return the binary image\n",
    "    return binary_output\n",
    "\n",
    "\n",
    "def hls_select(img, channel='S', thresh=(90, 255)):\n",
    "    # 1) Convert to HLS color space\n",
    "    # 2) Apply a threshold to the S channel\n",
    "    # 3) Return a binary image of threshold result\n",
    "    hls = cv2.cvtColor(img, cv2.COLOR_RGB2HLS)\n",
    "    if channel == 'S':\n",
    "        X = hls[:, :, 2]\n",
    "    elif channel == 'H':\n",
    "        X = hls[:, :, 0]\n",
    "    elif channel == 'L':\n",
    "        X = hls[:, :, 1]\n",
    "    else:\n",
    "        print('illegal channel !!!')\n",
    "        return\n",
    "    binary_output = np.zeros_like(X)\n",
    "    binary_output[(X > thresh[0]) & (X <= thresh[1])] = 1\n",
    "    return binary_output\n",
    "\n",
    "\n",
    "def r_select(img, thresh=(200, 255)):\n",
    "    R = img[:,:,0]\n",
    "    binary = np.zeros_like(R)\n",
    "    binary[(R > thresh[0]) & (R <= thresh[1])] = 1\n",
    "    return binary\n",
    "\n",
    "\n",
    "def combine_filters(img):\n",
    "    gradx = abs_sobel_thresh(img, orient='x', sobel_kernel=3, thresh=(20, 255))\n",
    "    l_binary = hls_select(img, channel='L', thresh=(40, 255))\n",
    "    s_binary = hls_select(img, channel='S', thresh=(120, 255))\n",
    "    combined_lsx = np.zeros_like(gradx)\n",
    "    combined_lsx[((l_binary == 1) & (s_binary == 1) |(gradx == 1))] = 1\n",
    "    return combined_lsx\n",
    "\n",
    "\n",
    "def perspective_transform(img, M):\n",
    "    img_size = (img.shape[1], img.shape[0])\n",
    "    warped = cv2.warpPerspective(img, M, img_size, flags=cv2.INTER_LINEAR)\n",
    "    return warped\n",
    "\n",
    "\n",
    "def find_line_pixel_from_detected(wrap_img, c, margin=70):\n",
    "    # Identify the x and y positions of all nonzero pixels in the image\n",
    "    nonzero = wrap_img.nonzero()\n",
    "    nonzeroy = np.array(nonzero[0])\n",
    "    nonzerox = np.array(nonzero[1])\n",
    "    lane_inds = ((nonzerox > (c[0] * (nonzeroy ** 2) + c[1] * nonzeroy + c[2] - margin)) &\n",
    "                 (nonzerox < (c[0] * (nonzeroy ** 2) + c[1] * nonzeroy + c[2] + margin)))\n",
    "    x = nonzerox[lane_inds]\n",
    "    y = nonzeroy[lane_inds]\n",
    "    return x, y\n",
    "\n",
    "\n",
    "def find_line_pixel_without_detected(wrap_img, flag='L', nwindows=9, margin=100, minpix=50):\n",
    "    # Identify the x and y positions of all nonzero pixels in the image\n",
    "    nonzero = wrap_img.nonzero()\n",
    "    nonzeroy = np.array(nonzero[0])\n",
    "    nonzerox = np.array(nonzero[1])\n",
    "\n",
    "    histogram = np.sum(wrap_img[wrap_img.shape[0] // 2:, :], axis=0)\n",
    "    # Find the peak of the left and right halves of the histogram\n",
    "    # These will be the starting point\n",
    "    midpoint = np.int(histogram.shape[0] / 2)\n",
    "    if flag == 'L':\n",
    "        base = np.argmax(histogram[:midpoint])\n",
    "    else:\n",
    "        base = np.argmax(histogram[midpoint:]) + midpoint\n",
    "    # Set height of windows\n",
    "    window_height = np.int(wrap_img.shape[0] / nwindows)\n",
    "    # Current positions to be updated for each window\n",
    "    current = base\n",
    "    # Create empty lists to receive left and right lane pixel indices\n",
    "    lane_inds = []\n",
    "    # Step through the windows one by one\n",
    "    for window in range(nwindows):\n",
    "        # Identify window boundaries in x and y (and right and left)\n",
    "        win_y_low = wrap_img.shape[0] - (window + 1) * window_height\n",
    "        win_y_high = wrap_img.shape[0] - window * window_height\n",
    "\n",
    "        win_x_low = current - margin\n",
    "        win_x_high = current + margin\n",
    "\n",
    "        good_inds = ((nonzeroy >= win_y_low) & (nonzeroy < win_y_high) &\n",
    "                           (nonzerox >= win_x_low) & (nonzerox < win_x_high)).nonzero()[0]\n",
    "        # Append these indices to the lists\n",
    "        lane_inds.append(good_inds)\n",
    "        # If you found > minpix pixels, recenter next window on their mean position\n",
    "        if len(good_inds) > minpix:\n",
    "            current = np.int(np.mean(nonzerox[good_inds]))\n",
    "    # Concatenate the arrays of indices\n",
    "    lane_inds = np.concatenate(lane_inds)\n",
    "    x = nonzerox[lane_inds]\n",
    "    y = nonzeroy[lane_inds]\n",
    "    return x, y\n",
    "\n",
    "\n",
    "# Generate x and y values for plotting\n",
    "def get_fit_xy(wrap_img, left_fit, right_fit):\n",
    "    ploty = np.linspace(0, wrap_img.shape[0]-1, wrap_img.shape[0])\n",
    "    left_fitx = left_fit[0]*ploty**2 + left_fit[1]*ploty + left_fit[2]\n",
    "    right_fitx = right_fit[0]*ploty**2 + right_fit[1]*ploty + right_fit[2]\n",
    "    return left_fitx, right_fitx, ploty\n",
    "\n",
    "\n",
    "def getCurveRadius(ploty, x, xm_per_pix, ym_per_pix):\n",
    "    # Fit new polynomials to x,y in world space\n",
    "    fit_cr = np.polyfit(ploty*ym_per_pix, x*xm_per_pix, 2)\n",
    "    # Calculate the new radii of curvature\n",
    "    y_eval1 = np.max(ploty)-20\n",
    "    curverad1 = ((1 + (2*fit_cr[0]*y_eval1*ym_per_pix + fit_cr[1])**2)**1.5) / np.absolute(2*fit_cr[0])\n",
    "    y_eval2 = np.max(ploty)-60\n",
    "    curverad2 = ((1 + (2*fit_cr[0]*y_eval2*ym_per_pix + fit_cr[1])**2)**1.5) / np.absolute(2*fit_cr[0])\n",
    "    y_eval3 = np.max(ploty)-100\n",
    "    curverad3 = ((1 + (2*fit_cr[0]*y_eval3*ym_per_pix + fit_cr[1])**2)**1.5) / np.absolute(2*fit_cr[0])\n",
    "    curverad = (curverad1 + curverad2 + curverad3) / 3\n",
    "    return curverad\n",
    "\n",
    "\n",
    "def getCarPositionOffCenter(left_fit, right_fit, img_size_x, img_size_y, xm_per_pix):\n",
    "    base_left = left_fit[0]*img_size_y**2 + left_fit[1]*img_size_y + left_fit[2]\n",
    "    base_right = right_fit[0]*img_size_y**2 + right_fit[1]*img_size_y + right_fit[2]\n",
    "    car_pos = img_size_x / 2.\n",
    "    centerOfLanes = base_left+((base_right-base_left)/2)\n",
    "    offset = (centerOfLanes - car_pos)*xm_per_pix\n",
    "    return offset\n",
    "\n",
    "\n",
    "def project_back(wrap_img, origin_img, left_fitx, right_fitx, ploty, M):\n",
    "    warp_zero = np.zeros_like(wrap_img).astype(np.uint8)\n",
    "    color_warp = np.dstack((warp_zero, warp_zero, warp_zero))\n",
    "    # Recast the x and y points into usable format for cv2.fillPoly()\n",
    "    pts_left = np.array([np.transpose(np.vstack([left_fitx, ploty]))])\n",
    "    pts_right = np.array([np.flipud(np.transpose(np.vstack([right_fitx, ploty])))])\n",
    "    pts = np.hstack((pts_left, pts_right))\n",
    "    # Draw the lane onto the warped blank image\n",
    "    cv2.fillPoly(color_warp, np.int_([pts]), (0, 255, 0))\n",
    "    # Warp the blank back to original image space using inverse perspective matrix (Minv)\n",
    "    newwarp = perspective_transform(color_warp, M)\n",
    "    # Combine the result with the original image\n",
    "    result = cv2.addWeighted(origin_img, 1, newwarp, 0.3, 0)\n",
    "    return result"
   ]
  },
  {
   "cell_type": "markdown",
   "metadata": {},
   "source": [
    "# Define a line class to do track, filter, smooth and so on"
   ]
  },
  {
   "cell_type": "code",
   "execution_count": 23,
   "metadata": {},
   "outputs": [],
   "source": [
    "# Define a class to receive the characteristics of each line detection\n",
    "class Line(object):\n",
    "    def __init__(self, buffer_len=5):\n",
    "        # the buffer length\n",
    "        self.buffer_len = buffer_len\n",
    "        # currunt number of buffered data\n",
    "        self.num_buffered = 0\n",
    "        # was the line detected in the last iteration?\n",
    "        self.detected = False\n",
    "        # polynomial coefficients over the last n iterations\n",
    "        self.last_n_coeffs = deque([], maxlen=buffer_len)\n",
    "        # last n x values\n",
    "        self.last_n_x_values = deque([], maxlen=buffer_len)\n",
    "        # average x values of the fitted line over the last n iterations\n",
    "        self.bestx = None\n",
    "        # polynomial coefficients averaged over the last n iterations\n",
    "        self.best_fit = None\n",
    "        # polynomial coefficients for the most recent fit\n",
    "        self.current_fit = []\n",
    "        # current fit y values\n",
    "        self.fit_y_value = np.linspace(0, 719, 720)\n",
    "        # current fit x values\n",
    "        self.fit_x_value = []\n",
    "        # radius of curvature of the line in some units\n",
    "        self.radius_of_curvature = None\n",
    "        # distance in meters of vehicle center from the line\n",
    "        self.line_base_pos = None\n",
    "        # the line x at bottom\n",
    "        self.line_pos = None\n",
    "        # difference in fit coefficients between last and new fits\n",
    "        self.diffs = np.array([0, 0, 0], dtype='float')\n",
    "        # x values for detected line pixels\n",
    "        self.allx = None\n",
    "        # y values for detected line pixels\n",
    "        self.ally = None\n",
    "        # the average distance of left and right line\n",
    "        self.line_distance = None\n",
    "\n",
    "    def set_allxy(self, x, y):\n",
    "        self.allx = x\n",
    "        self.ally = y\n",
    "\n",
    "    def set_current_fit(self):\n",
    "        self.current_fit = np.polyfit(self.ally, self.allx, 2)\n",
    "\n",
    "    def set_fit_x(self):\n",
    "        self.fit_x_value = self.current_fit[0] * self.fit_y_value ** 2 + self.current_fit[1] * self.fit_y_value \\\n",
    "                           + self.current_fit[2]\n",
    "\n",
    "    def get_diffs(self):\n",
    "        if self.num_buffered > 0:\n",
    "            self.diffs = self.current_fit - self.best_fit\n",
    "        else:\n",
    "            self.diffs = np.array([0, 0, 0], dtype='float')\n",
    "\n",
    "    def set_curvature_pos(self):\n",
    "        self.radius_of_curvature = getCurveRadius(self.fit_y_value, self.fit_x_value, 3.7 / 700, 30. / 720)\n",
    "        y_eval = max(self.fit_y_value)\n",
    "        self.line_pos = self.current_fit[0] * y_eval ** 2 \\\n",
    "                        + self.current_fit[1] * y_eval \\\n",
    "                        + self.current_fit[2]\n",
    "        basepos = 640\n",
    "        self.line_base_pos = (self.line_pos - basepos) * 3.7 / 700.0\n",
    "\n",
    "    # here come sanity checks of the computed metrics\n",
    "    def sanity_check(self):\n",
    "        is_pass = True\n",
    "        if abs(self.line_base_pos) > 2.8:\n",
    "            print('lane too far away')\n",
    "            is_pass = False\n",
    "        if self.num_buffered > 0:\n",
    "            relative_delta = self.diffs / self.best_fit\n",
    "            # allow maximally this percentage of variation in the fit coefficients from frame to frame\n",
    "            if not (abs(relative_delta) < np.array([0.7, 0.5, 0.15])).all():\n",
    "                print('fit coeffs too far off [%]', relative_delta)\n",
    "                is_pass = False\n",
    "        return is_pass\n",
    "\n",
    "    def set_avgx(self):\n",
    "        fits = self.last_n_x_values\n",
    "        if len(fits) > 0:\n",
    "            avg = 0\n",
    "            for fit in fits:\n",
    "                avg += np.array(fit)\n",
    "            avg = avg / len(fits)\n",
    "            self.bestx = avg\n",
    "\n",
    "\n",
    "    def set_avgcoeffs(self):\n",
    "        coeffs = self.last_n_coeffs\n",
    "        if len(coeffs)>0:\n",
    "            avg=0\n",
    "            for coeff in coeffs:\n",
    "                avg +=np.array(coeff)\n",
    "            avg = avg / len(coeffs)\n",
    "            self.best_fit = avg\n",
    "\n",
    "    def add_data(self):\n",
    "        self.last_n_x_values.append(self.fit_x_value)\n",
    "        self.last_n_coeffs.append(self.current_fit)\n",
    "        assert len(self.last_n_x_values) == len(self.last_n_coeffs)\n",
    "        self.num_buffered = len(self.last_n_x_values)\n",
    "\n",
    "    def pop_data(self):\n",
    "        if self.num_buffered > 0:\n",
    "            self.last_n_x_values.popleft()\n",
    "            self.last_n_coeffs.popleft()\n",
    "            assert len(self.last_n_x_values) == len(self.last_n_coeffs)\n",
    "            self.num_buffered = len(self.last_n_x_values)\n",
    "\n",
    "    def update_para(self, x, y):\n",
    "        self.set_allxy(x, y)\n",
    "        self.set_current_fit()\n",
    "        self.set_fit_x()\n",
    "        self.set_curvature_pos()\n",
    "        self.get_diffs()\n",
    "        if self.sanity_check():\n",
    "            self.detected = True\n",
    "            self.add_data()\n",
    "            self.set_avgx()\n",
    "            self.set_avgcoeffs()\n",
    "        else:\n",
    "            self.detected = False\n",
    "            self.pop_data()\n",
    "            if self.num_buffered > 0:\n",
    "                self.set_avgx()\n",
    "                self.set_avgcoeffs()\n",
    "\n",
    "\n",
    "class ImageInfo(object):\n",
    "    def __init__(self, raw_image):\n",
    "        self.img_size = raw_image.shape\n",
    "        self.wrap_offset = 100\n",
    "        src_corners = [(603, 445), (677, 445), (1105, self.img_size[0]), (205, self.img_size[0])]\n",
    "        dst_corners = [(205 + self.wrap_offset, 0), (1105 - self.wrap_offset, 0), (1105 - self.wrap_offset, self.img_size[0]),\n",
    "                       (205 + self.wrap_offset, self.img_size[0])]\n",
    "        self.M = cv2.getPerspectiveTransform(np.float32(src_corners), np.float32(dst_corners))\n",
    "        self.M_inverse = cv2.getPerspectiveTransform(np.float32(dst_corners), np.float32(src_corners))"
   ]
  },
  {
   "cell_type": "markdown",
   "metadata": {},
   "source": [
    "## Some helper function to draw more imformations"
   ]
  },
  {
   "cell_type": "code",
   "execution_count": 24,
   "metadata": {
    "collapsed": true
   },
   "outputs": [],
   "source": [
    "def makeTextDataImage(warped_bin, lineLeft, lineRight, fontFace=cv2.FONT_HERSHEY_DUPLEX, fontScale=0.8, thickness=1):\n",
    "    warpedImgSize = (warped_bin.shape[1], warped_bin.shape[0])\n",
    "    imgSize = (390, 500, 3)\n",
    "    fontColor = (0, 255, 0)\n",
    "    data_img = np.zeros(imgSize, dtype=np.uint8)\n",
    "    # calculate the CurveRadius and CarOffset by using the bestx\n",
    "    if lineLeft.bestx != None:\n",
    "        curvature = getCurveRadius(lineLeft.fit_y_value, lineLeft.bestx, 3.7 / 700, 30. / 720)\n",
    "        cv2.putText(data_img, 'left crv rad: {:.0f}m'.format(curvature), (10, 30), fontFace, fontScale, fontColor, thickness, lineType=cv2.LINE_AA)\n",
    "        cv2.putText(data_img, 'l coeff: {:.7f}, {:.2f}, {:.2f}'.format(lineLeft.best_fit[0], lineLeft.best_fit[1], lineLeft.best_fit[2]), (10, 110), fontFace, fontScale, fontColor, thickness, lineType=cv2.LINE_AA)\n",
    "        cv2.putText(data_img, 'l differs: {:.7f}, {:.2f}, {:.2f}'.format(lineLeft.diffs[0], lineLeft.diffs[1], lineLeft.diffs[2]), (10, 160), fontFace, fontScale, fontColor, thickness, lineType=cv2.LINE_AA)\n",
    "    if lineRight.bestx != None:\n",
    "        curvature = getCurveRadius(lineRight.fit_y_value, lineRight.bestx, 3.7 / 700, 30. / 720)\n",
    "        cv2.putText(data_img, 'right crv rad: {:.0f}m'.format(curvature), (10, 60), fontFace, fontScale, fontColor, thickness, lineType=cv2.LINE_AA)\n",
    "        cv2.putText(data_img, 'r coeff: {:.7f}, {:.2f}, {:.2f}'.format(lineRight.best_fit[0], lineRight.best_fit[1], lineRight.best_fit[2]), (10, 140), fontFace, fontScale, fontColor, thickness, lineType=cv2.LINE_AA)\n",
    "        cv2.putText(data_img, 'r differs: {:.7f}, {:.2f}, {:.2f}'.format(lineRight.diffs[0], lineRight.diffs[1], lineRight.diffs[2]), (10, 190), fontFace, fontScale, fontColor, thickness, lineType=cv2.LINE_AA)\n",
    "    if lineLeft.best_fit != None and lineRight.best_fit != None:\n",
    "        car_offset = getCarPositionOffCenter(left.best_fit, right.best_fit, warpedImgSize[0], warpedImgSize[1],\n",
    "                                             3.7 / 700)\n",
    "        cv2.putText(data_img, 'off center: {:.1f}m'.format(car_offset), (10, 280), fontFace, fontScale, fontColor, thickness, lineType=cv2.LINE_AA)\n",
    "    return data_img\n",
    "\n",
    "\n",
    "def makeCtrlImg(finalImg, textDataImg, diagImg, warped_bin):\n",
    "    imgSize = (750, 1280, 3)\n",
    "    ctrl_img = np.zeros(imgSize, dtype=np.uint8)\n",
    "    #ctrl_img = ctrl_img + (30,30,30)\n",
    "    smallFinal = cv2.resize(finalImg, (0, 0), fx=0.5, fy=0.5)\n",
    "    smallFinalSize = (smallFinal.shape[1], smallFinal.shape[0])\n",
    "    ctrl_img[0:smallFinalSize[1], 0:smallFinalSize[0]] = smallFinal\n",
    "\n",
    "    xOffset = smallFinalSize[0]+20\n",
    "    yOffset = 35\n",
    "    smallWarped = cv2.resize(warped_bin, (0, 0), fx=0.45, fy=0.45)\n",
    "    smallWarpedSize = (smallWarped.shape[1], smallWarped.shape[0])\n",
    "    ctrl_img[yOffset:(yOffset+smallWarpedSize[1]), xOffset:(xOffset+smallWarpedSize[0])] = smallWarped\n",
    "\n",
    "    xOffset = smallFinalSize[0]+20\n",
    "    yOffset = smallWarpedSize[1] + 35\n",
    "    smallDiag = cv2.resize(diagImg, (0, 0), fx=0.45, fy=0.45)\n",
    "    smallDiagSize = (smallDiag.shape[1], smallDiag.shape[0])\n",
    "    ctrl_img[yOffset:(yOffset+smallDiagSize[1]), xOffset:(xOffset+smallDiagSize[0])] = smallDiag\n",
    "\n",
    "    yOffset = smallFinalSize[1]\n",
    "    #smallDiag = cv2.resize(textDataImg, (0,0), fx=0.5, fy=0.5)\n",
    "    smallTextSize = (textDataImg.shape[1], textDataImg.shape[0])\n",
    "    ctrl_img[yOffset:(yOffset+smallTextSize[1]), 0:smallTextSize[0]] = textDataImg\n",
    "    return ctrl_img\n",
    "\n",
    "\n",
    "'''\n",
    "the image should be RGB\n",
    "'''\n",
    "def process_image(image):\n",
    "    global image_info\n",
    "    global left\n",
    "    global right\n",
    "\n",
    "    if image_info is None:\n",
    "        image_info = ImageInfo(image)\n",
    "    undistorted = cal_undistort(image, mtx, dist)\n",
    "    binary_img = combine_filters(undistorted)\n",
    "\n",
    "    wrap_img = perspective_transform(binary_img, image_info.M)\n",
    "\n",
    "    if left.detected:\n",
    "        l_x, l_y = find_line_pixel_from_detected(wrap_img, left.best_fit)\n",
    "    else:\n",
    "        l_x, l_y = find_line_pixel_without_detected(wrap_img, 'L')\n",
    "    left.update_para(l_x, l_y)\n",
    "\n",
    "    if right.detected:\n",
    "        r_x, r_y = find_line_pixel_from_detected(wrap_img, right.best_fit)\n",
    "    else:\n",
    "        r_x, r_y = find_line_pixel_without_detected(wrap_img, 'R')\n",
    "    right.update_para(r_x, r_y)\n",
    "\n",
    "    out_img_1 = np.dstack((wrap_img, wrap_img, wrap_img)) * 255\n",
    "    out_img_1[l_y, l_x] = [255, 0, 0]\n",
    "    out_img_1[r_y, r_x] = [0, 0, 255]\n",
    "\n",
    "    out_img_2 = np.zeros_like(out_img_1)\n",
    "    # Generate a polygon to illustrate the search window area\n",
    "    # And recast the x and y points into usable format for cv2.fillPoly()\n",
    "    left_line_window1 = np.array([np.transpose(np.vstack([left.bestx - 10, left.fit_y_value]))])\n",
    "    left_line_window2 = np.array([np.flipud(np.transpose(np.vstack([left.bestx + 10,\n",
    "                                                                        left.fit_y_value])))])\n",
    "    left_line_pts = np.hstack((left_line_window1, left_line_window2))\n",
    "    right_line_window1 = np.array([np.transpose(np.vstack([right.bestx - 10, right.fit_y_value]))])\n",
    "    right_line_window2 = np.array([np.flipud(np.transpose(np.vstack([right.bestx + 10,\n",
    "                                                                         right.fit_y_value])))])\n",
    "    right_line_pts = np.hstack((right_line_window1, right_line_window2))\n",
    "\n",
    "    # Draw the lane onto the warped blank image\n",
    "    cv2.fillPoly(out_img_2, np.int_([left_line_pts]), (0, 255, 0))\n",
    "    cv2.fillPoly(out_img_2, np.int_([right_line_pts]), (0, 255, 0))\n",
    "    result = project_back(wrap_img, undistorted, left.bestx, right.bestx, left.fit_y_value, image_info.M_inverse)\n",
    "\n",
    "    text_image = makeTextDataImage(wrap_img, left, right)\n",
    "    control_img = makeCtrlImg(result, text_image, out_img_2, out_img_1)\n",
    "    return control_img"
   ]
  },
  {
   "cell_type": "markdown",
   "metadata": {},
   "source": [
    "## The main"
   ]
  },
  {
   "cell_type": "code",
   "execution_count": 25,
   "metadata": {},
   "outputs": [
    {
     "name": "stdout",
     "output_type": "stream",
     "text": [
      "[MoviePy] >>>> Building video test_videos_output/project_video.mp4\n",
      "[MoviePy] Writing video test_videos_output/project_video.mp4\n"
     ]
    },
    {
     "name": "stderr",
     "output_type": "stream",
     "text": [
      "\n",
      "  0%|          | 0/1261 [00:00<?, ?it/s]\u001b[A\n",
      "  0%|          | 1/1261 [00:00<03:03,  6.87it/s]\u001b[A\n",
      "  0%|          | 2/1261 [00:00<03:24,  6.17it/s]\u001b[A\n",
      "  0%|          | 3/1261 [00:00<03:09,  6.65it/s]\u001b[A\n",
      "  0%|          | 4/1261 [00:00<02:56,  7.12it/s]"
     ]
    },
    {
     "name": "stdout",
     "output_type": "stream",
     "text": [
      "fit coeffs too far off [%] [ 0.02368804  0.02675853 -0.159949  ]\n"
     ]
    },
    {
     "name": "stderr",
     "output_type": "stream",
     "text": [
      "\u001b[A\n",
      "  0%|          | 5/1261 [00:00<02:44,  7.66it/s]\u001b[A"
     ]
    },
    {
     "name": "stdout",
     "output_type": "stream",
     "text": [
      "fit coeffs too far off [%] [ 0.04024296  0.03744897 -0.23901154]\n"
     ]
    },
    {
     "name": "stderr",
     "output_type": "stream",
     "text": [
      "\n",
      "  0%|          | 6/1261 [00:01<05:46,  3.63it/s]\u001b[A\n",
      "  1%|          | 7/1261 [00:01<05:20,  3.92it/s]\u001b[A\n",
      "  1%|          | 8/1261 [00:01<04:26,  4.69it/s]"
     ]
    },
    {
     "name": "stdout",
     "output_type": "stream",
     "text": [
      "fit coeffs too far off [%] [ 0.01277517  0.02839501 -0.31500514]\n",
      "fit coeffs too far off [%] [-0.02946777  0.00873363 -0.26002853]\n"
     ]
    },
    {
     "name": "stderr",
     "output_type": "stream",
     "text": [
      "\u001b[A\n",
      "  1%|          | 9/1261 [00:01<03:59,  5.22it/s]\u001b[A\n",
      "  1%|          | 10/1261 [00:01<03:32,  5.88it/s]"
     ]
    },
    {
     "name": "stdout",
     "output_type": "stream",
     "text": [
      "fit coeffs too far off [%] [-0.06932668 -0.01748706 -0.18640256]\n"
     ]
    },
    {
     "name": "stderr",
     "output_type": "stream",
     "text": [
      "\u001b[A\n",
      "  1%|          | 11/1261 [00:02<03:11,  6.54it/s]\u001b[A\n",
      "  1%|          | 12/1261 [00:02<02:55,  7.10it/s]"
     ]
    },
    {
     "name": "stdout",
     "output_type": "stream",
     "text": [
      "fit coeffs too far off [%] [ 0.05141546  0.02980403 -0.23615721]\n"
     ]
    },
    {
     "name": "stderr",
     "output_type": "stream",
     "text": [
      "\u001b[A\n",
      "  1%|          | 13/1261 [00:02<02:45,  7.55it/s]\u001b[A\n",
      "  1%|          | 14/1261 [00:02<02:35,  8.01it/s]"
     ]
    },
    {
     "name": "stdout",
     "output_type": "stream",
     "text": [
      "fit coeffs too far off [%] [ 0.03614706  0.02456424 -0.23659598]\n"
     ]
    },
    {
     "name": "stderr",
     "output_type": "stream",
     "text": [
      "\u001b[A\n",
      "  1%|          | 15/1261 [00:02<02:29,  8.32it/s]\u001b[A\n",
      "  1%|▏         | 16/1261 [00:02<02:31,  8.19it/s]"
     ]
    },
    {
     "name": "stdout",
     "output_type": "stream",
     "text": [
      "fit coeffs too far off [%] [ 0.13978909  0.07345914 -0.85191452]\n"
     ]
    },
    {
     "name": "stderr",
     "output_type": "stream",
     "text": [
      "\u001b[A\n",
      "  1%|▏         | 17/1261 [00:02<02:24,  8.58it/s]\u001b[A\n",
      "  1%|▏         | 18/1261 [00:02<02:21,  8.80it/s]"
     ]
    },
    {
     "name": "stdout",
     "output_type": "stream",
     "text": [
      "fit coeffs too far off [%] [ 0.02603695  0.0262385  -7.10873683]\n"
     ]
    },
    {
     "name": "stderr",
     "output_type": "stream",
     "text": [
      "\u001b[A\n",
      "  2%|▏         | 19/1261 [00:02<02:22,  8.71it/s]\u001b[A\n",
      "  2%|▏         | 20/1261 [00:03<02:23,  8.63it/s]"
     ]
    },
    {
     "name": "stdout",
     "output_type": "stream",
     "text": [
      "fit coeffs too far off [%] [-0.00650588  0.00247832  0.54056737]\n"
     ]
    },
    {
     "name": "stderr",
     "output_type": "stream",
     "text": [
      "\u001b[A\n",
      "  2%|▏         | 21/1261 [00:03<02:22,  8.68it/s]\u001b[A\n",
      "  2%|▏         | 22/1261 [00:03<02:20,  8.84it/s]"
     ]
    },
    {
     "name": "stdout",
     "output_type": "stream",
     "text": [
      "fit coeffs too far off [%] [-0.03713468 -0.02168863 -0.20650676]\n"
     ]
    },
    {
     "name": "stderr",
     "output_type": "stream",
     "text": [
      "\u001b[A\n",
      "  2%|▏         | 23/1261 [00:03<02:36,  7.89it/s]\u001b[A"
     ]
    },
    {
     "name": "stdout",
     "output_type": "stream",
     "text": [
      "fit coeffs too far off [%] [-0.04777939 -0.02502497 -0.33735776]\n"
     ]
    },
    {
     "name": "stderr",
     "output_type": "stream",
     "text": [
      "\n",
      "  2%|▏         | 24/1261 [00:03<02:53,  7.15it/s]\u001b[A\n",
      "  2%|▏         | 25/1261 [00:03<02:48,  7.33it/s]\u001b[A\n",
      "  2%|▏         | 26/1261 [00:03<02:44,  7.50it/s]"
     ]
    },
    {
     "name": "stdout",
     "output_type": "stream",
     "text": [
      "fit coeffs too far off [%] [ 0.05546266  0.03402236  0.53142688]\n"
     ]
    },
    {
     "name": "stderr",
     "output_type": "stream",
     "text": [
      "\u001b[A\n",
      "  2%|▏         | 27/1261 [00:03<02:40,  7.70it/s]\u001b[A\n",
      "  2%|▏         | 28/1261 [00:04<02:42,  7.59it/s]"
     ]
    },
    {
     "name": "stdout",
     "output_type": "stream",
     "text": [
      "fit coeffs too far off [%] [ 0.01754816  0.01537193  0.48092921]\n"
     ]
    },
    {
     "name": "stderr",
     "output_type": "stream",
     "text": [
      "\u001b[A\n",
      "  2%|▏         | 29/1261 [00:04<02:43,  7.54it/s]\u001b[A\n",
      "  2%|▏         | 30/1261 [00:04<02:38,  7.74it/s]"
     ]
    },
    {
     "name": "stdout",
     "output_type": "stream",
     "text": [
      "fit coeffs too far off [%] [ 0.08061899  0.04818973  0.60342133]\n"
     ]
    },
    {
     "name": "stderr",
     "output_type": "stream",
     "text": [
      "\u001b[A\n",
      "  2%|▏         | 31/1261 [00:04<02:45,  7.44it/s]\u001b[A\n",
      "  3%|▎         | 32/1261 [00:04<02:46,  7.38it/s]"
     ]
    },
    {
     "name": "stdout",
     "output_type": "stream",
     "text": [
      "fit coeffs too far off [%] [ 0.06783479  0.04264812  0.25557212]\n"
     ]
    },
    {
     "name": "stderr",
     "output_type": "stream",
     "text": [
      "\u001b[A\n",
      "  3%|▎         | 33/1261 [00:04<02:37,  7.78it/s]\u001b[A\n",
      "  3%|▎         | 34/1261 [00:04<02:33,  8.00it/s]\u001b[A\n",
      "  3%|▎         | 35/1261 [00:04<02:41,  7.60it/s]"
     ]
    },
    {
     "name": "stdout",
     "output_type": "stream",
     "text": [
      "fit coeffs too far off [%] [ 0.02574047  0.02802181  0.27836115]\n"
     ]
    },
    {
     "name": "stderr",
     "output_type": "stream",
     "text": [
      "\u001b[A\n",
      "  3%|▎         | 36/1261 [00:05<02:40,  7.61it/s]\u001b[A\n",
      "  3%|▎         | 37/1261 [00:05<02:34,  7.92it/s]"
     ]
    },
    {
     "name": "stdout",
     "output_type": "stream",
     "text": [
      "fit coeffs too far off [%] [ 0.05953109  0.05268874  0.37009436]\n",
      "fit coeffs too far off [%] [ 0.01021748  0.01822813  0.15685515]\n"
     ]
    },
    {
     "name": "stderr",
     "output_type": "stream",
     "text": [
      "\u001b[A\n",
      "  3%|▎         | 38/1261 [00:05<02:46,  7.34it/s]\u001b[A\n",
      "  3%|▎         | 39/1261 [00:05<02:41,  7.56it/s]\u001b[A\n",
      "  3%|▎         | 40/1261 [00:05<02:35,  7.83it/s]"
     ]
    },
    {
     "name": "stdout",
     "output_type": "stream",
     "text": [
      "fit coeffs too far off [%] [ 0.01839166  0.02480087  0.1944521 ]\n"
     ]
    },
    {
     "name": "stderr",
     "output_type": "stream",
     "text": [
      "\u001b[A\n",
      "  3%|▎         | 41/1261 [00:05<02:42,  7.52it/s]\u001b[A\n",
      "  3%|▎         | 42/1261 [00:05<02:39,  7.67it/s]\u001b[A\n",
      "  3%|▎         | 43/1261 [00:06<02:35,  7.85it/s]\u001b[A\n",
      "  3%|▎         | 44/1261 [00:06<02:32,  7.96it/s]\u001b[A\n",
      "  4%|▎         | 45/1261 [00:06<02:28,  8.20it/s]"
     ]
    },
    {
     "name": "stdout",
     "output_type": "stream",
     "text": [
      "fit coeffs too far off [%] [-0.12103263 -0.06162953 -0.15242035]\n",
      "fit coeffs too far off [%] [-0.18421312 -0.09958837 -0.28737266]\n"
     ]
    },
    {
     "name": "stderr",
     "output_type": "stream",
     "text": [
      "\u001b[A\n",
      "  4%|▎         | 46/1261 [00:06<02:29,  8.10it/s]\u001b[A\n",
      "  4%|▎         | 47/1261 [00:06<02:35,  7.83it/s]"
     ]
    },
    {
     "name": "stdout",
     "output_type": "stream",
     "text": [
      "fit coeffs too far off [%] [-0.18105312 -0.09934935 -0.29243577]\n",
      "fit coeffs too far off [%] [-0.1776547  -0.09911726 -0.29170135]\n"
     ]
    },
    {
     "name": "stderr",
     "output_type": "stream",
     "text": [
      "\u001b[A\n",
      "  4%|▍         | 48/1261 [00:06<02:35,  7.78it/s]\u001b[A\n",
      "  4%|▍         | 49/1261 [00:06<02:37,  7.69it/s]\u001b[A\n",
      "  4%|▍         | 50/1261 [00:06<02:42,  7.44it/s]\u001b[A\n",
      "  4%|▍         | 51/1261 [00:07<02:34,  7.83it/s]\u001b[A\n",
      "  4%|▍         | 52/1261 [00:07<02:31,  7.98it/s]\u001b[A\n",
      "  4%|▍         | 53/1261 [00:07<02:31,  7.98it/s]\u001b[A\n",
      "  4%|▍         | 54/1261 [00:07<02:28,  8.14it/s]\u001b[A\n",
      "  4%|▍         | 55/1261 [00:07<02:23,  8.38it/s]"
     ]
    },
    {
     "name": "stdout",
     "output_type": "stream",
     "text": [
      "fit coeffs too far off [%] [-0.04093392 -0.02554622 -0.16526499]\n",
      "fit coeffs too far off [%] [-0.05991276 -0.04170865 -0.27037188]\n"
     ]
    },
    {
     "name": "stderr",
     "output_type": "stream",
     "text": [
      "\u001b[A\n",
      "  4%|▍         | 56/1261 [00:07<02:20,  8.55it/s]\u001b[A\n",
      "  5%|▍         | 57/1261 [00:07<02:21,  8.50it/s]"
     ]
    },
    {
     "name": "stdout",
     "output_type": "stream",
     "text": [
      "fit coeffs too far off [%] [-0.07395962 -0.054182   -0.3478838 ]\n",
      "fit coeffs too far off [%] [-0.05558528 -0.04941207 -0.35908302]\n"
     ]
    },
    {
     "name": "stderr",
     "output_type": "stream",
     "text": [
      "\u001b[A\n",
      "  5%|▍         | 58/1261 [00:07<02:20,  8.58it/s]\u001b[A\n",
      "  5%|▍         | 59/1261 [00:07<02:21,  8.52it/s]"
     ]
    },
    {
     "name": "stdout",
     "output_type": "stream",
     "text": [
      "fit coeffs too far off [%] [-0.05894036 -0.05410379 -0.39135496]\n",
      "fit coeffs too far off [%] [-0.02950309 -0.04552344 -0.46637313]\n"
     ]
    },
    {
     "name": "stderr",
     "output_type": "stream",
     "text": [
      "\u001b[A\n",
      "  5%|▍         | 60/1261 [00:08<02:20,  8.55it/s]\u001b[A\n",
      "  5%|▍         | 61/1261 [00:08<02:14,  8.90it/s]\u001b[A\n",
      "  5%|▍         | 62/1261 [00:08<02:18,  8.64it/s]"
     ]
    },
    {
     "name": "stdout",
     "output_type": "stream",
     "text": [
      "fit coeffs too far off [%] [ 0.03270284  0.00680993 -0.17159408]\n"
     ]
    },
    {
     "name": "stderr",
     "output_type": "stream",
     "text": [
      "\u001b[A\n",
      "  5%|▍         | 63/1261 [00:08<02:18,  8.64it/s]\u001b[A\n",
      "  5%|▌         | 64/1261 [00:08<02:15,  8.80it/s]"
     ]
    },
    {
     "name": "stdout",
     "output_type": "stream",
     "text": [
      "fit coeffs too far off [%] [-0.05238559 -0.03342008 -0.40957064]\n"
     ]
    },
    {
     "name": "stderr",
     "output_type": "stream",
     "text": [
      "\u001b[A\n",
      "  5%|▌         | 65/1261 [00:08<02:12,  9.04it/s]\u001b[A\n",
      "  5%|▌         | 66/1261 [00:08<02:10,  9.17it/s]"
     ]
    },
    {
     "name": "stdout",
     "output_type": "stream",
     "text": [
      "fit coeffs too far off [%] [-0.04692918 -0.03041402 -0.62130145]\n"
     ]
    },
    {
     "name": "stderr",
     "output_type": "stream",
     "text": [
      "\u001b[A\n",
      "  5%|▌         | 67/1261 [00:08<02:12,  9.02it/s]\u001b[A\n",
      "  5%|▌         | 68/1261 [00:09<02:17,  8.70it/s]"
     ]
    },
    {
     "name": "stdout",
     "output_type": "stream",
     "text": [
      "fit coeffs too far off [%] [-0.01617802 -0.00778593 -1.83912567]\n"
     ]
    },
    {
     "name": "stderr",
     "output_type": "stream",
     "text": [
      "\u001b[A\n",
      "  5%|▌         | 69/1261 [00:09<02:19,  8.53it/s]\u001b[A\n",
      "  6%|▌         | 70/1261 [00:09<02:16,  8.73it/s]"
     ]
    },
    {
     "name": "stdout",
     "output_type": "stream",
     "text": [
      "fit coeffs too far off [%] [ 0.10213394  0.05652851 -0.87238245]\n"
     ]
    },
    {
     "name": "stderr",
     "output_type": "stream",
     "text": [
      "\u001b[A\n",
      "  6%|▌         | 71/1261 [00:09<02:12,  8.95it/s]\u001b[A\n",
      "  6%|▌         | 72/1261 [00:09<02:11,  9.05it/s]"
     ]
    },
    {
     "name": "stdout",
     "output_type": "stream",
     "text": [
      "fit coeffs too far off [%] [ 0.0768619  0.0426312 -0.6185612]\n"
     ]
    },
    {
     "name": "stderr",
     "output_type": "stream",
     "text": [
      "\u001b[A\n",
      "  6%|▌         | 73/1261 [00:09<02:08,  9.26it/s]\u001b[A\n",
      "  6%|▌         | 74/1261 [00:09<02:09,  9.20it/s]"
     ]
    },
    {
     "name": "stdout",
     "output_type": "stream",
     "text": [
      "fit coeffs too far off [%] [ 0.02862226  0.01924823 -0.4693943 ]\n"
     ]
    },
    {
     "name": "stderr",
     "output_type": "stream",
     "text": [
      "\u001b[A\n",
      "  6%|▌         | 75/1261 [00:09<02:11,  9.03it/s]\u001b[A\n",
      "  6%|▌         | 76/1261 [00:09<02:09,  9.15it/s]\u001b[A\n",
      "  6%|▌         | 77/1261 [00:10<02:12,  8.92it/s]"
     ]
    },
    {
     "name": "stdout",
     "output_type": "stream",
     "text": [
      "fit coeffs too far off [%] [ 0.01489255  0.00821035 -0.21481515]\n",
      "fit coeffs too far off [%] [-0.05672628 -0.03675944  0.19146925]\n"
     ]
    },
    {
     "name": "stderr",
     "output_type": "stream",
     "text": [
      "\u001b[A\n",
      "  6%|▌         | 78/1261 [00:10<02:10,  9.04it/s]\u001b[A\n",
      "  6%|▋         | 79/1261 [00:10<02:10,  9.09it/s]\u001b[A\n",
      "  6%|▋         | 80/1261 [00:10<02:11,  8.98it/s]\u001b[A\n",
      "  6%|▋         | 81/1261 [00:10<02:08,  9.19it/s]\u001b[A\n",
      "  7%|▋         | 82/1261 [00:10<02:07,  9.21it/s]\u001b[A\n",
      "  7%|▋         | 83/1261 [00:10<02:09,  9.10it/s]\u001b[A\n",
      "  7%|▋         | 84/1261 [00:10<02:08,  9.16it/s]\u001b[A\n",
      "  7%|▋         | 85/1261 [00:10<02:06,  9.33it/s]\u001b[A\n",
      "  7%|▋         | 86/1261 [00:10<02:06,  9.32it/s]\u001b[A\n",
      "  7%|▋         | 87/1261 [00:11<02:15,  8.64it/s]\u001b[A\n",
      "  7%|▋         | 88/1261 [00:11<02:11,  8.95it/s]"
     ]
    },
    {
     "name": "stdout",
     "output_type": "stream",
     "text": [
      "fit coeffs too far off [%] [ 0.18389525  0.08292172 -0.18661404]\n",
      "fit coeffs too far off [%] [ 0.28451167  0.13384155 -0.37034289]\n"
     ]
    },
    {
     "name": "stderr",
     "output_type": "stream",
     "text": [
      "\u001b[A\n",
      "  7%|▋         | 89/1261 [00:11<02:08,  9.10it/s]\u001b[A\n",
      "  7%|▋         | 90/1261 [00:11<02:09,  9.03it/s]"
     ]
    },
    {
     "name": "stdout",
     "output_type": "stream",
     "text": [
      "fit coeffs too far off [%] [ 0.35514028  0.17490243 -0.52254254]\n",
      "fit coeffs too far off [%] [ 0.5005143   0.26347039 -1.14860809]\n"
     ]
    },
    {
     "name": "stderr",
     "output_type": "stream",
     "text": [
      "\u001b[A\n",
      "  7%|▋         | 91/1261 [00:11<02:08,  9.09it/s]\u001b[A\n",
      "  7%|▋         | 92/1261 [00:11<02:10,  8.97it/s]"
     ]
    },
    {
     "name": "stdout",
     "output_type": "stream",
     "text": [
      "fit coeffs too far off [%] [ 0.48890464  0.25616861 -1.0685498 ]\n",
      "fit coeffs too far off [%] [ 0.41268179  0.22012062 -0.85430999]\n"
     ]
    },
    {
     "name": "stderr",
     "output_type": "stream",
     "text": [
      "\u001b[A\n",
      "  7%|▋         | 93/1261 [00:11<02:12,  8.81it/s]\u001b[A\n",
      "  7%|▋         | 94/1261 [00:11<02:10,  8.92it/s]"
     ]
    },
    {
     "name": "stdout",
     "output_type": "stream",
     "text": [
      "fit coeffs too far off [%] [ 0.4576756   0.25292935 -1.21480908]\n"
     ]
    },
    {
     "name": "stderr",
     "output_type": "stream",
     "text": [
      "\u001b[A\n",
      "  8%|▊         | 95/1261 [00:11<02:07,  9.16it/s]\u001b[A\n",
      "  8%|▊         | 96/1261 [00:12<02:08,  9.04it/s]\u001b[A\n",
      "  8%|▊         | 97/1261 [00:12<02:08,  9.06it/s]\u001b[A\n",
      "  8%|▊         | 98/1261 [00:12<02:07,  9.15it/s]"
     ]
    },
    {
     "name": "stdout",
     "output_type": "stream",
     "text": [
      "fit coeffs too far off [%] [-0.00854961  0.00101275  0.37909649]\n",
      "fit coeffs too far off [%] [-0.07407159 -0.04536035 -1.1235003 ]\n"
     ]
    },
    {
     "name": "stderr",
     "output_type": "stream",
     "text": [
      "\u001b[A\n",
      "  8%|▊         | 99/1261 [00:12<02:05,  9.27it/s]\u001b[A\n",
      "  8%|▊         | 100/1261 [00:12<02:04,  9.35it/s]"
     ]
    },
    {
     "name": "stdout",
     "output_type": "stream",
     "text": [
      "fit coeffs too far off [%] [-0.02569182 -0.01530606 -0.48601638]\n"
     ]
    },
    {
     "name": "stderr",
     "output_type": "stream",
     "text": [
      "\u001b[A\n",
      "  8%|▊         | 101/1261 [00:12<02:11,  8.83it/s]\u001b[A\n",
      "  8%|▊         | 102/1261 [00:12<02:18,  8.37it/s]"
     ]
    },
    {
     "name": "stdout",
     "output_type": "stream",
     "text": [
      "fit coeffs too far off [%] [ 0.02142569  0.02489123  3.90396842]\n"
     ]
    },
    {
     "name": "stderr",
     "output_type": "stream",
     "text": [
      "\u001b[A\n",
      "  8%|▊         | 103/1261 [00:12<02:17,  8.42it/s]\u001b[A\n",
      "  8%|▊         | 104/1261 [00:13<02:25,  7.95it/s]"
     ]
    },
    {
     "name": "stdout",
     "output_type": "stream",
     "text": [
      "fit coeffs too far off [%] [ 0.0135466   0.01435867  0.59637518]\n"
     ]
    },
    {
     "name": "stderr",
     "output_type": "stream",
     "text": [
      "\u001b[A\n",
      "  8%|▊         | 105/1261 [00:13<02:26,  7.89it/s]\u001b[A\n",
      "  8%|▊         | 106/1261 [00:13<02:21,  8.16it/s]"
     ]
    },
    {
     "name": "stdout",
     "output_type": "stream",
     "text": [
      "fit coeffs too far off [%] [-0.04797604 -0.02816414 -0.51390569]\n"
     ]
    },
    {
     "name": "stderr",
     "output_type": "stream",
     "text": [
      "\u001b[A\n",
      "  8%|▊         | 107/1261 [00:13<02:17,  8.40it/s]\u001b[A\n",
      "  9%|▊         | 108/1261 [00:13<02:12,  8.69it/s]"
     ]
    },
    {
     "name": "stdout",
     "output_type": "stream",
     "text": [
      "fit coeffs too far off [%] [-0.00673814 -0.00148937 -0.51339722]\n"
     ]
    },
    {
     "name": "stderr",
     "output_type": "stream",
     "text": [
      "\u001b[A\n",
      "  9%|▊         | 109/1261 [00:13<02:09,  8.91it/s]\u001b[A\n",
      "  9%|▊         | 110/1261 [00:13<02:07,  9.01it/s]"
     ]
    },
    {
     "name": "stdout",
     "output_type": "stream",
     "text": [
      "fit coeffs too far off [%] [ 0.01933272  0.01441249  1.84330636]\n"
     ]
    },
    {
     "name": "stderr",
     "output_type": "stream",
     "text": [
      "\u001b[A\n",
      "  9%|▉         | 111/1261 [00:13<02:07,  9.04it/s]\u001b[A\n",
      "  9%|▉         | 112/1261 [00:13<02:06,  9.10it/s]"
     ]
    },
    {
     "name": "stdout",
     "output_type": "stream",
     "text": [
      "fit coeffs too far off [%] [ 0.03273632  0.02593371 -5.21762794]\n"
     ]
    },
    {
     "name": "stderr",
     "output_type": "stream",
     "text": [
      "\u001b[A\n",
      "  9%|▉         | 113/1261 [00:14<02:04,  9.20it/s]\u001b[A\n",
      "  9%|▉         | 114/1261 [00:14<02:09,  8.86it/s]"
     ]
    },
    {
     "name": "stdout",
     "output_type": "stream",
     "text": [
      "fit coeffs too far off [%] [ 0.07295849  0.05385297 -2.71543937]\n"
     ]
    },
    {
     "name": "stderr",
     "output_type": "stream",
     "text": [
      "\u001b[A\n",
      "  9%|▉         | 115/1261 [00:14<02:10,  8.75it/s]\u001b[A\n",
      "  9%|▉         | 116/1261 [00:14<02:09,  8.87it/s]"
     ]
    },
    {
     "name": "stdout",
     "output_type": "stream",
     "text": [
      "fit coeffs too far off [%] [ 0.06232132  0.04845333  2.28052224]\n"
     ]
    },
    {
     "name": "stderr",
     "output_type": "stream",
     "text": [
      "\u001b[A\n",
      "  9%|▉         | 117/1261 [00:14<02:08,  8.92it/s]\u001b[A\n",
      "  9%|▉         | 118/1261 [00:14<02:05,  9.11it/s]"
     ]
    },
    {
     "name": "stdout",
     "output_type": "stream",
     "text": [
      "fit coeffs too far off [%] [-0.02394899 -0.00640381  0.17633472]\n"
     ]
    },
    {
     "name": "stderr",
     "output_type": "stream",
     "text": [
      "\u001b[A\n",
      "  9%|▉         | 119/1261 [00:14<02:04,  9.19it/s]\u001b[A\n",
      " 10%|▉         | 120/1261 [00:14<02:03,  9.26it/s]\u001b[A\n",
      " 10%|▉         | 121/1261 [00:14<02:01,  9.41it/s]"
     ]
    },
    {
     "name": "stdout",
     "output_type": "stream",
     "text": [
      "fit coeffs too far off [%] [ 0.01148677  0.01946291  0.40445114]\n"
     ]
    },
    {
     "name": "stderr",
     "output_type": "stream",
     "text": [
      "\u001b[A\n",
      " 10%|▉         | 122/1261 [00:15<01:59,  9.50it/s]\u001b[A\n",
      " 10%|▉         | 123/1261 [00:15<02:01,  9.38it/s]"
     ]
    },
    {
     "name": "stdout",
     "output_type": "stream",
     "text": [
      "fit coeffs too far off [%] [-0.01001696  0.00548361  0.22233657]\n",
      "fit coeffs too far off [%] [ 0.02568962  0.0231908   0.30757968]\n"
     ]
    },
    {
     "name": "stderr",
     "output_type": "stream",
     "text": [
      "\u001b[A\n",
      " 10%|▉         | 124/1261 [00:15<02:00,  9.44it/s]\u001b[A\n",
      " 10%|▉         | 125/1261 [00:15<02:03,  9.19it/s]\u001b[A\n",
      " 10%|▉         | 126/1261 [00:15<02:01,  9.37it/s]\u001b[A\n",
      " 10%|█         | 127/1261 [00:15<02:04,  9.08it/s]"
     ]
    },
    {
     "name": "stdout",
     "output_type": "stream",
     "text": [
      "fit coeffs too far off [%] [-0.07625266 -0.04367408 -0.3450813 ]\n",
      "fit coeffs too far off [%] [-0.0695112  -0.04343421 -0.3925151 ]\n"
     ]
    },
    {
     "name": "stderr",
     "output_type": "stream",
     "text": [
      "\u001b[A\n",
      " 10%|█         | 128/1261 [00:15<02:02,  9.23it/s]\u001b[A\n",
      " 10%|█         | 129/1261 [00:15<02:01,  9.30it/s]\u001b[A\n",
      " 10%|█         | 130/1261 [00:15<02:00,  9.36it/s]"
     ]
    },
    {
     "name": "stdout",
     "output_type": "stream",
     "text": [
      "fit coeffs too far off [%] [ 0.00386493  0.01401842  0.41586083]\n"
     ]
    },
    {
     "name": "stderr",
     "output_type": "stream",
     "text": [
      "\u001b[A\n",
      " 10%|█         | 131/1261 [00:15<02:01,  9.27it/s]\u001b[A"
     ]
    },
    {
     "name": "stdout",
     "output_type": "stream",
     "text": [
      "fit coeffs too far off [%] [-0.00058365  0.00552986  0.23159845]\n"
     ]
    },
    {
     "name": "stderr",
     "output_type": "stream",
     "text": [
      "\n",
      " 11%|█         | 133/1261 [00:16<01:58,  9.50it/s]\u001b[A\n",
      " 11%|█         | 134/1261 [00:16<01:56,  9.64it/s]\u001b[A\n",
      " 11%|█         | 135/1261 [00:16<01:58,  9.51it/s]"
     ]
    },
    {
     "name": "stdout",
     "output_type": "stream",
     "text": [
      "fit coeffs too far off [%] [-0.01481039 -0.00997393 -0.53702596]\n",
      "fit coeffs too far off [%] [-0.05221128 -0.03678277 -1.46426158]\n"
     ]
    },
    {
     "name": "stderr",
     "output_type": "stream",
     "text": [
      "\u001b[A\n",
      " 11%|█         | 136/1261 [00:16<02:05,  8.98it/s]\u001b[A\n",
      " 11%|█         | 137/1261 [00:16<02:03,  9.07it/s]\u001b[A\n",
      " 11%|█         | 138/1261 [00:16<02:04,  8.99it/s]\u001b[A\n",
      " 11%|█         | 139/1261 [00:16<02:03,  9.11it/s]"
     ]
    },
    {
     "name": "stdout",
     "output_type": "stream",
     "text": [
      "fit coeffs too far off [%] [-0.06877941 -0.04271236  0.6946768 ]\n",
      "fit coeffs too far off [%] [-0.10575736 -0.0730566   1.48353144]\n"
     ]
    },
    {
     "name": "stderr",
     "output_type": "stream",
     "text": [
      "\u001b[A\n",
      " 11%|█         | 140/1261 [00:16<02:06,  8.88it/s]\u001b[A\n",
      " 11%|█         | 141/1261 [00:17<02:02,  9.15it/s]\u001b[A\n",
      " 11%|█▏        | 142/1261 [00:17<02:01,  9.22it/s]\u001b[A\n",
      " 11%|█▏        | 143/1261 [00:17<02:02,  9.09it/s]\u001b[A\n",
      " 11%|█▏        | 144/1261 [00:17<02:02,  9.12it/s]\u001b[A\n",
      " 11%|█▏        | 145/1261 [00:17<02:01,  9.22it/s]\u001b[A\n",
      " 12%|█▏        | 146/1261 [00:17<02:06,  8.83it/s]\u001b[A\n",
      " 12%|█▏        | 147/1261 [00:17<02:02,  9.12it/s]\u001b[A\n",
      " 12%|█▏        | 148/1261 [00:17<01:59,  9.32it/s]\u001b[A\n",
      " 12%|█▏        | 149/1261 [00:17<01:58,  9.42it/s]"
     ]
    },
    {
     "name": "stdout",
     "output_type": "stream",
     "text": [
      "fit coeffs too far off [%] [ 0.26733464  0.14141337 -0.58654053]\n",
      "fit coeffs too far off [%] [ 0.18723523  0.09421386 -0.24736308]\n"
     ]
    },
    {
     "name": "stderr",
     "output_type": "stream",
     "text": [
      "\u001b[A\n",
      " 12%|█▏        | 150/1261 [00:18<01:59,  9.31it/s]\u001b[A\n",
      " 12%|█▏        | 151/1261 [00:18<02:00,  9.23it/s]\u001b[A\n",
      " 12%|█▏        | 152/1261 [00:18<02:07,  8.67it/s]"
     ]
    },
    {
     "name": "stdout",
     "output_type": "stream",
     "text": [
      "fit coeffs too far off [%] [ 0.11760232  0.06310948 -0.27610847]\n"
     ]
    },
    {
     "name": "stderr",
     "output_type": "stream",
     "text": [
      "\u001b[A\n",
      " 12%|█▏        | 153/1261 [00:18<02:06,  8.74it/s]\u001b[A\n",
      " 12%|█▏        | 154/1261 [00:18<02:04,  8.89it/s]"
     ]
    },
    {
     "name": "stdout",
     "output_type": "stream",
     "text": [
      "fit coeffs too far off [%] [ 0.13552029  0.08285923 -0.5781711 ]\n"
     ]
    },
    {
     "name": "stderr",
     "output_type": "stream",
     "text": [
      "\u001b[A\n",
      " 12%|█▏        | 155/1261 [00:18<02:02,  8.99it/s]\u001b[A\n",
      " 12%|█▏        | 156/1261 [00:18<02:04,  8.85it/s]"
     ]
    },
    {
     "name": "stdout",
     "output_type": "stream",
     "text": [
      "fit coeffs too far off [%] [ -2.91508884e-04   8.48059424e-03  -3.71683229e-01]\n",
      "fit coeffs too far off [%] [-0.02836075 -0.00635995 -0.37783285]\n"
     ]
    },
    {
     "name": "stderr",
     "output_type": "stream",
     "text": [
      "\u001b[A\n",
      " 12%|█▏        | 157/1261 [00:18<02:02,  9.01it/s]\u001b[A\n",
      " 13%|█▎        | 158/1261 [00:18<02:01,  9.10it/s]"
     ]
    },
    {
     "name": "stdout",
     "output_type": "stream",
     "text": [
      "fit coeffs too far off [%] [-0.0071384   0.01501892 -0.69196821]\n",
      "fit coeffs too far off [%] [ 0.08254411  0.07092531 -1.06122424]\n"
     ]
    },
    {
     "name": "stderr",
     "output_type": "stream",
     "text": [
      "\u001b[A\n",
      " 13%|█▎        | 159/1261 [00:19<01:59,  9.24it/s]\u001b[A\n",
      " 13%|█▎        | 160/1261 [00:19<01:57,  9.38it/s]"
     ]
    },
    {
     "name": "stdout",
     "output_type": "stream",
     "text": [
      "fit coeffs too far off [%] [ 0.08853704  0.07488393 -1.14949827]\n",
      "fit coeffs too far off [%] [ 0.15108191  0.11548293 -1.50615236]\n"
     ]
    },
    {
     "name": "stderr",
     "output_type": "stream",
     "text": [
      "\u001b[A\n",
      " 13%|█▎        | 161/1261 [00:19<02:05,  8.80it/s]\u001b[A\n",
      " 13%|█▎        | 162/1261 [00:19<02:01,  9.08it/s]\u001b[A\n",
      " 13%|█▎        | 163/1261 [00:19<01:58,  9.26it/s]"
     ]
    },
    {
     "name": "stdout",
     "output_type": "stream",
     "text": [
      "fit coeffs too far off [%] [-0.01063951  0.00584694  0.57717939]\n"
     ]
    },
    {
     "name": "stderr",
     "output_type": "stream",
     "text": [
      "\u001b[A\n",
      " 13%|█▎        | 164/1261 [00:19<02:00,  9.09it/s]\u001b[A\n",
      " 13%|█▎        | 165/1261 [00:19<02:00,  9.11it/s]"
     ]
    },
    {
     "name": "stdout",
     "output_type": "stream",
     "text": [
      "fit coeffs too far off [%] [ 0.06618141  0.04829263  0.69833046]\n"
     ]
    },
    {
     "name": "stderr",
     "output_type": "stream",
     "text": [
      "\u001b[A\n",
      " 13%|█▎        | 166/1261 [00:19<02:00,  9.12it/s]\u001b[A\n",
      " 13%|█▎        | 167/1261 [00:19<01:59,  9.13it/s]\u001b[A\n",
      " 13%|█▎        | 168/1261 [00:20<01:58,  9.19it/s]"
     ]
    },
    {
     "name": "stdout",
     "output_type": "stream",
     "text": [
      "fit coeffs too far off [%] [ 0.08102755  0.05784655  0.41142175]\n"
     ]
    },
    {
     "name": "stderr",
     "output_type": "stream",
     "text": [
      "\u001b[A\n",
      " 13%|█▎        | 169/1261 [00:20<02:04,  8.77it/s]\u001b[A\n",
      " 13%|█▎        | 170/1261 [00:20<02:02,  8.93it/s]"
     ]
    },
    {
     "name": "stdout",
     "output_type": "stream",
     "text": [
      "fit coeffs too far off [%] [-0.03705719 -0.01070075  0.16251602]\n"
     ]
    },
    {
     "name": "stderr",
     "output_type": "stream",
     "text": [
      "\u001b[A\n",
      " 14%|█▎        | 171/1261 [00:20<02:04,  8.74it/s]\u001b[A\n",
      " 14%|█▎        | 172/1261 [00:20<02:02,  8.86it/s]"
     ]
    },
    {
     "name": "stdout",
     "output_type": "stream",
     "text": [
      "fit coeffs too far off [%] [-0.0007477   0.00898705  0.28641156]\n",
      "fit coeffs too far off [%] [ 0.02750108  0.02003625  0.24580621]\n"
     ]
    },
    {
     "name": "stderr",
     "output_type": "stream",
     "text": [
      "\u001b[A\n",
      " 14%|█▎        | 173/1261 [00:20<02:02,  8.90it/s]\u001b[A\n",
      " 14%|█▍        | 174/1261 [00:20<01:58,  9.19it/s]\u001b[A\n",
      " 14%|█▍        | 175/1261 [00:20<01:56,  9.31it/s]"
     ]
    },
    {
     "name": "stdout",
     "output_type": "stream",
     "text": [
      "fit coeffs too far off [%] [ 0.1547908   0.09827643  0.40205739]\n"
     ]
    },
    {
     "name": "stderr",
     "output_type": "stream",
     "text": [
      "\u001b[A\n",
      " 14%|█▍        | 176/1261 [00:20<01:54,  9.45it/s]\u001b[A\n",
      " 14%|█▍        | 177/1261 [00:21<01:58,  9.14it/s]"
     ]
    },
    {
     "name": "stdout",
     "output_type": "stream",
     "text": [
      "fit coeffs too far off [%] [ 0.06435521  0.04589067  0.17820124]\n"
     ]
    },
    {
     "name": "stderr",
     "output_type": "stream",
     "text": [
      "\u001b[A\n",
      " 14%|█▍        | 178/1261 [00:21<01:58,  9.14it/s]\u001b[A\n",
      " 14%|█▍        | 179/1261 [00:21<01:59,  9.06it/s]\u001b[A\n",
      " 14%|█▍        | 180/1261 [00:21<02:00,  8.94it/s]\u001b[A\n",
      " 14%|█▍        | 181/1261 [00:21<02:02,  8.79it/s]\u001b[A\n",
      " 14%|█▍        | 182/1261 [00:21<01:58,  9.10it/s]\u001b[A\n",
      " 15%|█▍        | 183/1261 [00:21<01:55,  9.33it/s]\u001b[A\n",
      " 15%|█▍        | 184/1261 [00:21<01:53,  9.48it/s]\u001b[A\n",
      " 15%|█▍        | 185/1261 [00:21<01:54,  9.37it/s]\u001b[A\n",
      " 15%|█▍        | 186/1261 [00:22<01:55,  9.34it/s]"
     ]
    },
    {
     "name": "stdout",
     "output_type": "stream",
     "text": [
      "fit coeffs too far off [%] [ 0.15945113  0.09345167  0.16958395]\n",
      "fit coeffs too far off [%] [ 0.25725558  0.15891227  0.33813778]\n"
     ]
    },
    {
     "name": "stderr",
     "output_type": "stream",
     "text": [
      "\u001b[A\n",
      " 15%|█▍        | 187/1261 [00:22<01:55,  9.26it/s]\u001b[A\n",
      " 15%|█▍        | 188/1261 [00:22<01:55,  9.28it/s]"
     ]
    },
    {
     "name": "stdout",
     "output_type": "stream",
     "text": [
      "fit coeffs too far off [%] [ 0.22495867  0.1420695   0.29470054]\n",
      "fit coeffs too far off [%] [ 0.23288329  0.15505358  0.34581775]\n"
     ]
    },
    {
     "name": "stderr",
     "output_type": "stream",
     "text": [
      "\u001b[A\n",
      " 15%|█▍        | 189/1261 [00:22<01:56,  9.17it/s]\u001b[A\n",
      " 15%|█▌        | 190/1261 [00:22<01:55,  9.25it/s]"
     ]
    },
    {
     "name": "stdout",
     "output_type": "stream",
     "text": [
      "fit coeffs too far off [%] [ 0.20578439  0.14127361  0.30952276]\n",
      "fit coeffs too far off [%] [ 0.16084444  0.12056251  0.28443846]\n"
     ]
    },
    {
     "name": "stderr",
     "output_type": "stream",
     "text": [
      "\u001b[A\n",
      " 15%|█▌        | 191/1261 [00:22<01:56,  9.17it/s]\u001b[A\n",
      " 15%|█▌        | 192/1261 [00:22<01:53,  9.38it/s]"
     ]
    },
    {
     "name": "stdout",
     "output_type": "stream",
     "text": [
      "fit coeffs too far off [%] [ 0.14002025  0.1115744   0.25346527]\n"
     ]
    },
    {
     "name": "stderr",
     "output_type": "stream",
     "text": [
      "\u001b[A\n",
      " 15%|█▌        | 193/1261 [00:22<01:53,  9.44it/s]\u001b[A\n",
      " 15%|█▌        | 194/1261 [00:22<01:57,  9.06it/s]"
     ]
    },
    {
     "name": "stdout",
     "output_type": "stream",
     "text": [
      "fit coeffs too far off [%] [ 0.0867532   0.06945799  0.23314737]\n"
     ]
    },
    {
     "name": "stderr",
     "output_type": "stream",
     "text": [
      "\u001b[A\n",
      " 15%|█▌        | 195/1261 [00:23<01:56,  9.16it/s]\u001b[A\n",
      " 16%|█▌        | 196/1261 [00:23<01:55,  9.22it/s]\u001b[A\n",
      " 16%|█▌        | 197/1261 [00:23<01:55,  9.19it/s]"
     ]
    },
    {
     "name": "stdout",
     "output_type": "stream",
     "text": [
      "fit coeffs too far off [%] [-0.15125841 -0.10258928 -0.24752541]\n",
      "fit coeffs too far off [%] [-0.33330856 -0.2309844  -0.56151379]\n"
     ]
    },
    {
     "name": "stderr",
     "output_type": "stream",
     "text": [
      "\u001b[A\n",
      " 16%|█▌        | 198/1261 [00:23<01:54,  9.25it/s]\u001b[A\n",
      " 16%|█▌        | 199/1261 [00:23<01:52,  9.41it/s]\u001b[A\n",
      " 16%|█▌        | 200/1261 [00:23<01:51,  9.48it/s]\u001b[A\n",
      " 16%|█▌        | 201/1261 [00:23<01:59,  8.90it/s]"
     ]
    },
    {
     "name": "stdout",
     "output_type": "stream",
     "text": [
      "fit coeffs too far off [%] [ 0.00643633  0.00825068  0.17395155]\n",
      "fit coeffs too far off [%] [ 0.06394944 -0.05397097  0.19177273]\n",
      "fit coeffs too far off [%] [-0.51212755 -0.46476742  0.54743766]\n"
     ]
    },
    {
     "name": "stderr",
     "output_type": "stream",
     "text": [
      "\u001b[A\n",
      " 16%|█▌        | 202/1261 [00:23<02:01,  8.69it/s]\u001b[A\n",
      " 16%|█▌        | 203/1261 [00:23<02:01,  8.72it/s]"
     ]
    },
    {
     "name": "stdout",
     "output_type": "stream",
     "text": [
      "fit coeffs too far off [%] [ 0.08287964  0.04009681  0.17902048]\n",
      "fit coeffs too far off [%] [-0.37467905 -0.35235561  0.41525148]\n",
      "fit coeffs too far off [%] [-0.53834991 -0.4249986   0.41171579]\n"
     ]
    },
    {
     "name": "stderr",
     "output_type": "stream",
     "text": [
      "\u001b[A\n",
      " 16%|█▌        | 204/1261 [00:24<01:59,  8.83it/s]\u001b[A\n",
      " 16%|█▋        | 205/1261 [00:24<02:00,  8.75it/s]"
     ]
    },
    {
     "name": "stdout",
     "output_type": "stream",
     "text": [
      "fit coeffs too far off [%] [ 0.07584103  0.0393484   0.1587957 ]\n",
      "fit coeffs too far off [%] [-0.48053367 -0.38269316  0.35779109]\n",
      "fit coeffs too far off [%] [-0.48888806 -0.35711448  0.27742967]\n"
     ]
    },
    {
     "name": "stderr",
     "output_type": "stream",
     "text": [
      "\u001b[A\n",
      " 16%|█▋        | 206/1261 [00:24<02:00,  8.72it/s]\u001b[A\n",
      " 16%|█▋        | 207/1261 [00:24<01:58,  8.87it/s]"
     ]
    },
    {
     "name": "stdout",
     "output_type": "stream",
     "text": [
      "fit coeffs too far off [%] [ 0.07062366  0.04285909  0.1567982 ]\n",
      "fit coeffs too far off [%] [-0.51071116 -0.35908567  0.2370431 ]\n",
      "fit coeffs too far off [%] [ 0.17998327  0.10414665  0.33466605]\n"
     ]
    },
    {
     "name": "stderr",
     "output_type": "stream",
     "text": [
      "\u001b[A\n",
      " 16%|█▋        | 208/1261 [00:24<01:57,  8.96it/s]\u001b[A\n",
      " 17%|█▋        | 209/1261 [00:24<01:53,  9.23it/s]\u001b[A\n",
      " 17%|█▋        | 210/1261 [00:24<01:56,  8.98it/s]\u001b[A\n",
      " 17%|█▋        | 211/1261 [00:24<01:55,  9.06it/s]\u001b[A\n",
      " 17%|█▋        | 212/1261 [00:24<01:55,  9.05it/s]"
     ]
    },
    {
     "name": "stdout",
     "output_type": "stream",
     "text": [
      "fit coeffs too far off [%] [-0.14482764 -0.08359225 -0.19017371]\n",
      "fit coeffs too far off [%] [-0.14613879 -0.08786455 -0.24363699]\n"
     ]
    },
    {
     "name": "stderr",
     "output_type": "stream",
     "text": [
      "\u001b[A\n",
      " 17%|█▋        | 213/1261 [00:25<01:56,  9.02it/s]\u001b[A\n",
      " 17%|█▋        | 214/1261 [00:25<01:54,  9.16it/s]"
     ]
    },
    {
     "name": "stdout",
     "output_type": "stream",
     "text": [
      "fit coeffs too far off [%] [-0.14188997 -0.08237509 -0.21995927]\n"
     ]
    },
    {
     "name": "stderr",
     "output_type": "stream",
     "text": [
      "\u001b[A\n",
      " 17%|█▋        | 215/1261 [00:25<01:58,  8.84it/s]\u001b[A\n",
      " 17%|█▋        | 216/1261 [00:25<02:09,  8.05it/s]\u001b[A\n",
      " 17%|█▋        | 217/1261 [00:25<02:07,  8.19it/s]\u001b[A\n",
      " 17%|█▋        | 218/1261 [00:25<02:06,  8.23it/s]\u001b[A\n",
      " 17%|█▋        | 219/1261 [00:25<02:06,  8.23it/s]\u001b[A\n",
      " 17%|█▋        | 220/1261 [00:25<02:06,  8.21it/s]\u001b[A\n",
      " 18%|█▊        | 221/1261 [00:25<02:07,  8.16it/s]\u001b[A\n",
      " 18%|█▊        | 222/1261 [00:26<02:00,  8.61it/s]\u001b[A\n",
      " 18%|█▊        | 223/1261 [00:26<01:57,  8.82it/s]\u001b[A\n",
      " 18%|█▊        | 224/1261 [00:26<02:04,  8.32it/s]\u001b[A\n",
      " 18%|█▊        | 225/1261 [00:26<02:04,  8.30it/s]\u001b[A\n",
      " 18%|█▊        | 226/1261 [00:26<02:03,  8.39it/s]\u001b[A\n",
      " 18%|█▊        | 227/1261 [00:26<01:57,  8.80it/s]\u001b[A\n",
      " 18%|█▊        | 228/1261 [00:26<01:54,  9.04it/s]\u001b[A\n",
      " 18%|█▊        | 229/1261 [00:26<01:52,  9.18it/s]\u001b[A\n",
      " 18%|█▊        | 230/1261 [00:26<01:51,  9.26it/s]\u001b[A\n",
      " 18%|█▊        | 231/1261 [00:27<01:49,  9.39it/s]\u001b[A\n",
      " 18%|█▊        | 232/1261 [00:27<01:47,  9.54it/s]\u001b[A\n",
      " 18%|█▊        | 233/1261 [00:27<01:48,  9.48it/s]\u001b[A\n",
      " 19%|█▊        | 234/1261 [00:27<01:47,  9.52it/s]\u001b[A\n",
      " 19%|█▊        | 235/1261 [00:27<01:48,  9.49it/s]\u001b[A\n",
      " 19%|█▊        | 236/1261 [00:27<01:55,  8.84it/s]\u001b[A\n",
      " 19%|█▉        | 237/1261 [00:27<01:53,  8.99it/s]"
     ]
    },
    {
     "name": "stdout",
     "output_type": "stream",
     "text": [
      "fit coeffs too far off [%] [ 0.14574098  0.06736398  0.21912088]\n",
      "fit coeffs too far off [%] [ 0.16242312  0.06993922  0.20507425]\n"
     ]
    },
    {
     "name": "stderr",
     "output_type": "stream",
     "text": [
      "\u001b[A\n",
      " 19%|█▉        | 238/1261 [00:27<01:52,  9.13it/s]\u001b[A\n",
      " 19%|█▉        | 239/1261 [00:27<01:51,  9.19it/s]"
     ]
    },
    {
     "name": "stdout",
     "output_type": "stream",
     "text": [
      "fit coeffs too far off [%] [ 0.226226    0.10254527  0.27770506]\n",
      "fit coeffs too far off [%] [ 0.27186792  0.1209848   0.27182719]\n"
     ]
    },
    {
     "name": "stderr",
     "output_type": "stream",
     "text": [
      "\u001b[A\n",
      " 19%|█▉        | 240/1261 [00:28<01:50,  9.20it/s]\u001b[A\n",
      " 19%|█▉        | 241/1261 [00:28<01:56,  8.79it/s]"
     ]
    },
    {
     "name": "stdout",
     "output_type": "stream",
     "text": [
      "fit coeffs too far off [%] [ 0.23272101  0.10191439  0.21500321]\n",
      "fit coeffs too far off [%] [ 0.22364525  0.09612774  0.17813759]\n"
     ]
    },
    {
     "name": "stderr",
     "output_type": "stream",
     "text": [
      "\u001b[A\n",
      " 19%|█▉        | 242/1261 [00:28<01:54,  8.90it/s]\u001b[A\n",
      " 19%|█▉        | 243/1261 [00:28<01:56,  8.76it/s]\u001b[A\n",
      " 19%|█▉        | 244/1261 [00:28<01:52,  9.03it/s]\u001b[A\n",
      " 20%|█▉        | 246/1261 [00:28<01:48,  9.31it/s]\u001b[A\n",
      " 20%|█▉        | 247/1261 [00:28<01:48,  9.36it/s]\u001b[A\n",
      " 20%|█▉        | 248/1261 [00:28<01:47,  9.46it/s]\u001b[A\n",
      " 20%|█▉        | 249/1261 [00:29<01:46,  9.53it/s]\u001b[A\n",
      " 20%|█▉        | 250/1261 [00:29<01:45,  9.62it/s]\u001b[A\n",
      " 20%|█▉        | 251/1261 [00:29<01:44,  9.63it/s]\u001b[A\n",
      " 20%|█▉        | 252/1261 [00:29<01:47,  9.40it/s]\u001b[A\n",
      " 20%|██        | 253/1261 [00:29<01:47,  9.38it/s]"
     ]
    },
    {
     "name": "stdout",
     "output_type": "stream",
     "text": [
      "fit coeffs too far off [%] [-0.0797197  -0.05738198 -0.19849242]\n",
      "fit coeffs too far off [%] [-0.08145159 -0.06633732 -0.27412653]\n"
     ]
    },
    {
     "name": "stderr",
     "output_type": "stream",
     "text": [
      "\u001b[A\n",
      " 20%|██        | 254/1261 [00:29<01:51,  9.04it/s]\u001b[A\n",
      " 20%|██        | 255/1261 [00:29<01:49,  9.16it/s]"
     ]
    },
    {
     "name": "stdout",
     "output_type": "stream",
     "text": [
      "fit coeffs too far off [%] [-0.14935043 -0.10905183 -0.38818104]\n",
      "fit coeffs too far off [%] [-0.08262899 -0.07455758 -0.36516386]\n"
     ]
    },
    {
     "name": "stderr",
     "output_type": "stream",
     "text": [
      "\u001b[A\n",
      " 20%|██        | 256/1261 [00:29<01:48,  9.25it/s]\u001b[A\n",
      " 20%|██        | 257/1261 [00:29<01:48,  9.30it/s]"
     ]
    },
    {
     "name": "stdout",
     "output_type": "stream",
     "text": [
      "fit coeffs too far off [%] [-0.08926449 -0.08474231 -0.45481039]\n",
      "fit coeffs too far off [%] [-0.0989714  -0.09726458 -0.57153323]\n"
     ]
    },
    {
     "name": "stderr",
     "output_type": "stream",
     "text": [
      "\u001b[A\n",
      " 20%|██        | 258/1261 [00:29<01:47,  9.30it/s]\u001b[A\n",
      " 21%|██        | 259/1261 [00:30<01:48,  9.22it/s]"
     ]
    },
    {
     "name": "stdout",
     "output_type": "stream",
     "text": [
      "fit coeffs too far off [%] [-0.07041853 -0.08795658 -0.6652224 ]\n"
     ]
    },
    {
     "name": "stderr",
     "output_type": "stream",
     "text": [
      "\u001b[A\n",
      " 21%|██        | 260/1261 [00:30<01:47,  9.29it/s]\u001b[A\n",
      " 21%|██        | 261/1261 [00:30<01:51,  8.96it/s]\u001b[A\n",
      " 21%|██        | 262/1261 [00:30<01:49,  9.09it/s]"
     ]
    },
    {
     "name": "stdout",
     "output_type": "stream",
     "text": [
      "fit coeffs too far off [%] [-0.05261445 -0.03692646 -0.64464461]\n",
      "fit coeffs too far off [%] [-0.06643771 -0.05368335 -1.14687797]\n"
     ]
    },
    {
     "name": "stderr",
     "output_type": "stream",
     "text": [
      "\u001b[A\n",
      " 21%|██        | 263/1261 [00:30<01:51,  8.91it/s]\u001b[A\n",
      " 21%|██        | 264/1261 [00:30<01:50,  9.00it/s]\u001b[A\n",
      " 21%|██        | 265/1261 [00:30<01:48,  9.14it/s]"
     ]
    },
    {
     "name": "stdout",
     "output_type": "stream",
     "text": [
      "fit coeffs too far off [%] [-0.04790909 -0.03177458  0.76817312]\n"
     ]
    },
    {
     "name": "stderr",
     "output_type": "stream",
     "text": [
      "\u001b[A\n",
      " 21%|██        | 266/1261 [00:30<01:49,  9.10it/s]\u001b[A\n",
      " 21%|██        | 267/1261 [00:31<01:55,  8.58it/s]\u001b[A\n",
      " 21%|██▏       | 268/1261 [00:31<01:51,  8.91it/s]\u001b[A\n",
      " 21%|██▏       | 269/1261 [00:31<01:50,  8.95it/s]"
     ]
    },
    {
     "name": "stdout",
     "output_type": "stream",
     "text": [
      "fit coeffs too far off [%] [-0.04365668 -0.03332551  0.32006232]\n",
      "fit coeffs too far off [%] [-0.07461265 -0.05744053  0.44652611]\n"
     ]
    },
    {
     "name": "stderr",
     "output_type": "stream",
     "text": [
      "\u001b[A\n",
      " 21%|██▏       | 270/1261 [00:31<01:48,  9.12it/s]\u001b[A\n",
      " 21%|██▏       | 271/1261 [00:31<01:47,  9.17it/s]"
     ]
    },
    {
     "name": "stdout",
     "output_type": "stream",
     "text": [
      "fit coeffs too far off [%] [-0.09725107 -0.07725908  0.56225924]\n"
     ]
    },
    {
     "name": "stderr",
     "output_type": "stream",
     "text": [
      "\u001b[A\n",
      " 22%|██▏       | 272/1261 [00:31<01:46,  9.29it/s]\u001b[A\n",
      " 22%|██▏       | 273/1261 [00:31<01:44,  9.44it/s]"
     ]
    },
    {
     "name": "stdout",
     "output_type": "stream",
     "text": [
      "fit coeffs too far off [%] [ 0.03056184  0.00619235  0.16906455]\n"
     ]
    },
    {
     "name": "stderr",
     "output_type": "stream",
     "text": [
      "\u001b[A\n",
      " 22%|██▏       | 274/1261 [00:31<01:43,  9.51it/s]\u001b[A\n",
      " 22%|██▏       | 275/1261 [00:31<01:44,  9.39it/s]\u001b[A\n",
      " 22%|██▏       | 276/1261 [00:31<01:44,  9.42it/s]\u001b[A\n",
      " 22%|██▏       | 277/1261 [00:32<01:45,  9.37it/s]\u001b[A\n",
      " 22%|██▏       | 278/1261 [00:32<01:46,  9.25it/s]"
     ]
    },
    {
     "name": "stdout",
     "output_type": "stream",
     "text": [
      "fit coeffs too far off [%] [-0.09798806 -0.06707173  0.16255512]\n",
      "fit coeffs too far off [%] [-0.14711176 -0.09674701  0.17438755]\n"
     ]
    },
    {
     "name": "stderr",
     "output_type": "stream",
     "text": [
      "\u001b[A\n",
      " 22%|██▏       | 279/1261 [00:32<01:51,  8.77it/s]\u001b[A\n",
      " 22%|██▏       | 280/1261 [00:32<01:50,  8.88it/s]"
     ]
    },
    {
     "name": "stdout",
     "output_type": "stream",
     "text": [
      "fit coeffs too far off [%] [-0.09132525 -0.0791465   0.24183196]\n",
      "fit coeffs too far off [%] [-0.10002755 -0.09476903  0.32003151]\n"
     ]
    },
    {
     "name": "stderr",
     "output_type": "stream",
     "text": [
      "\u001b[A\n",
      " 22%|██▏       | 281/1261 [00:32<01:48,  9.04it/s]\u001b[A\n",
      " 22%|██▏       | 282/1261 [00:32<01:48,  8.99it/s]\u001b[A\n",
      " 22%|██▏       | 283/1261 [00:32<01:46,  9.19it/s]\u001b[A\n",
      " 23%|██▎       | 284/1261 [00:32<01:43,  9.41it/s]\u001b[A\n",
      " 23%|██▎       | 285/1261 [00:32<01:44,  9.35it/s]\u001b[A\n",
      " 23%|██▎       | 287/1261 [00:33<01:41,  9.60it/s]\u001b[A\n",
      " 23%|██▎       | 288/1261 [00:33<01:42,  9.53it/s]"
     ]
    },
    {
     "name": "stdout",
     "output_type": "stream",
     "text": [
      "fit coeffs too far off [%] [-0.1689795  -0.12948682  0.18475608]\n",
      "fit coeffs too far off [%] [-0.16071658 -0.13518531  0.18366184]\n"
     ]
    },
    {
     "name": "stderr",
     "output_type": "stream",
     "text": [
      "\u001b[A\n",
      " 23%|██▎       | 289/1261 [00:33<01:52,  8.66it/s]\u001b[A\n",
      " 23%|██▎       | 290/1261 [00:33<01:49,  8.83it/s]"
     ]
    },
    {
     "name": "stdout",
     "output_type": "stream",
     "text": [
      "fit coeffs too far off [%] [-0.15771153 -0.15692027  0.27192068]\n",
      "fit coeffs too far off [%] [-0.194169   -0.18187333  0.28350518]\n"
     ]
    },
    {
     "name": "stderr",
     "output_type": "stream",
     "text": [
      "\u001b[A\n",
      " 23%|██▎       | 291/1261 [00:33<01:51,  8.72it/s]\u001b[A\n",
      " 23%|██▎       | 292/1261 [00:33<01:48,  8.94it/s]"
     ]
    },
    {
     "name": "stdout",
     "output_type": "stream",
     "text": [
      "fit coeffs too far off [%] [-0.19478585 -0.2114145   0.367827  ]\n",
      "fit coeffs too far off [%] [-0.15038048 -0.20307612  0.39057582]\n"
     ]
    },
    {
     "name": "stderr",
     "output_type": "stream",
     "text": [
      "\u001b[A\n",
      " 23%|██▎       | 293/1261 [00:33<01:49,  8.85it/s]\u001b[A\n",
      " 23%|██▎       | 294/1261 [00:33<01:47,  8.96it/s]\u001b[A\n",
      " 23%|██▎       | 295/1261 [00:34<01:45,  9.14it/s]\u001b[A\n",
      " 23%|██▎       | 296/1261 [00:34<01:44,  9.20it/s]\u001b[A\n",
      " 24%|██▎       | 297/1261 [00:34<01:51,  8.67it/s]\u001b[A\n",
      " 24%|██▎       | 298/1261 [00:34<01:51,  8.66it/s]\u001b[A\n",
      " 24%|██▎       | 299/1261 [00:34<01:48,  8.89it/s]\u001b[A\n",
      " 24%|██▍       | 300/1261 [00:34<01:46,  9.01it/s]\u001b[A\n",
      " 24%|██▍       | 301/1261 [00:34<01:47,  8.93it/s]\u001b[A\n",
      " 24%|██▍       | 302/1261 [00:34<01:49,  8.75it/s]\u001b[A\n",
      " 24%|██▍       | 303/1261 [00:34<01:47,  8.88it/s]\u001b[A\n",
      " 24%|██▍       | 304/1261 [00:35<01:46,  8.96it/s]\u001b[A\n",
      " 24%|██▍       | 305/1261 [00:35<01:44,  9.13it/s]\u001b[A\n",
      " 24%|██▍       | 306/1261 [00:35<01:44,  9.10it/s]\u001b[A\n",
      " 24%|██▍       | 307/1261 [00:35<01:42,  9.27it/s]\u001b[A\n",
      " 24%|██▍       | 308/1261 [00:35<01:42,  9.27it/s]\u001b[A\n",
      " 25%|██▍       | 309/1261 [00:35<01:47,  8.90it/s]"
     ]
    },
    {
     "name": "stdout",
     "output_type": "stream",
     "text": [
      "fit coeffs too far off [%] [-0.3064097  -0.27384015  0.16658676]\n",
      "fit coeffs too far off [%] [-0.53440907 -0.40510217  0.21835693]\n"
     ]
    },
    {
     "name": "stderr",
     "output_type": "stream",
     "text": [
      "\u001b[A\n",
      " 25%|██▍       | 310/1261 [00:35<01:46,  8.91it/s]\u001b[A\n",
      " 25%|██▍       | 311/1261 [00:35<01:44,  9.08it/s]"
     ]
    },
    {
     "name": "stdout",
     "output_type": "stream",
     "text": [
      "fit coeffs too far off [%] [-0.3771202  -0.41055881  0.24792712]\n",
      "fit coeffs too far off [%] [-0.880722   -0.63035162  0.32569014]\n"
     ]
    },
    {
     "name": "stderr",
     "output_type": "stream",
     "text": [
      "\u001b[A\n",
      " 25%|██▍       | 312/1261 [00:35<01:44,  9.05it/s]\u001b[A\n",
      " 25%|██▍       | 313/1261 [00:36<01:43,  9.14it/s]"
     ]
    },
    {
     "name": "stdout",
     "output_type": "stream",
     "text": [
      "fit coeffs too far off [%] [-1.00637961 -0.7040038   0.34903385]\n",
      "fit coeffs too far off [%] [-1.41148361 -0.92833534  0.42403512]\n"
     ]
    },
    {
     "name": "stderr",
     "output_type": "stream",
     "text": [
      "\u001b[A\n",
      " 25%|██▍       | 314/1261 [00:36<01:43,  9.13it/s]\u001b[A\n",
      " 25%|██▍       | 315/1261 [00:36<01:45,  9.00it/s]"
     ]
    },
    {
     "name": "stdout",
     "output_type": "stream",
     "text": [
      "fit coeffs too far off [%] [-1.24498618 -0.88222156  0.43191983]\n"
     ]
    },
    {
     "name": "stderr",
     "output_type": "stream",
     "text": [
      "\u001b[A\n",
      " 25%|██▌       | 316/1261 [00:36<01:46,  8.85it/s]\u001b[A\n",
      " 25%|██▌       | 317/1261 [00:36<01:45,  8.98it/s]"
     ]
    },
    {
     "name": "stdout",
     "output_type": "stream",
     "text": [
      "fit coeffs too far off [%] [  2.29851455e-01  -4.69866962e+00   1.01318190e-03]\n"
     ]
    },
    {
     "name": "stderr",
     "output_type": "stream",
     "text": [
      "\u001b[A\n",
      " 25%|██▌       | 318/1261 [00:36<01:46,  8.82it/s]\u001b[A\n",
      " 25%|██▌       | 319/1261 [00:36<01:45,  8.94it/s]"
     ]
    },
    {
     "name": "stdout",
     "output_type": "stream",
     "text": [
      "fit coeffs too far off [%] [ 1.01439436 -3.49461195  0.0699131 ]\n"
     ]
    },
    {
     "name": "stderr",
     "output_type": "stream",
     "text": [
      "\u001b[A\n",
      " 25%|██▌       | 320/1261 [00:36<01:46,  8.81it/s]\u001b[A\n",
      " 25%|██▌       | 321/1261 [00:36<01:49,  8.56it/s]\u001b[A\n",
      " 26%|██▌       | 322/1261 [00:37<01:48,  8.66it/s]\u001b[A\n",
      " 26%|██▌       | 323/1261 [00:37<01:45,  8.92it/s]\u001b[A\n",
      " 26%|██▌       | 324/1261 [00:37<01:42,  9.16it/s]\u001b[A\n",
      " 26%|██▌       | 325/1261 [00:37<01:46,  8.78it/s]\u001b[A\n",
      " 26%|██▌       | 326/1261 [00:37<01:54,  8.16it/s]\u001b[A\n",
      " 26%|██▌       | 327/1261 [00:37<02:00,  7.73it/s]\u001b[A\n",
      " 26%|██▌       | 328/1261 [00:37<01:54,  8.14it/s]\u001b[A\n",
      " 26%|██▌       | 329/1261 [00:37<01:50,  8.43it/s]\u001b[A\n",
      " 26%|██▌       | 330/1261 [00:38<01:47,  8.64it/s]\u001b[A\n",
      " 26%|██▌       | 331/1261 [00:38<01:53,  8.21it/s]\u001b[A\n",
      " 26%|██▋       | 332/1261 [00:38<01:53,  8.21it/s]\u001b[A\n",
      " 26%|██▋       | 333/1261 [00:38<01:50,  8.38it/s]"
     ]
    },
    {
     "name": "stdout",
     "output_type": "stream",
     "text": [
      "fit coeffs too far off [%] [-1.89151105 -0.41840783  0.04843875]\n",
      "fit coeffs too far off [%] [-2.51666233 -0.52619528  0.06286238]\n"
     ]
    },
    {
     "name": "stderr",
     "output_type": "stream",
     "text": [
      "\u001b[A\n",
      " 26%|██▋       | 334/1261 [00:38<01:49,  8.46it/s]\u001b[A\n",
      " 27%|██▋       | 335/1261 [00:38<01:48,  8.57it/s]"
     ]
    },
    {
     "name": "stdout",
     "output_type": "stream",
     "text": [
      "fit coeffs too far off [%] [-2.81301211 -0.88127411  0.05477727]\n",
      "fit coeffs too far off [%] [-2.32352447 -0.60853     0.05902413]\n"
     ]
    },
    {
     "name": "stderr",
     "output_type": "stream",
     "text": [
      "\u001b[A\n",
      " 27%|██▋       | 336/1261 [00:38<01:46,  8.71it/s]\u001b[A\n",
      " 27%|██▋       | 337/1261 [00:38<01:48,  8.55it/s]"
     ]
    },
    {
     "name": "stdout",
     "output_type": "stream",
     "text": [
      "fit coeffs too far off [%] [-1.60773881 -0.84141622  0.01340474]\n",
      "fit coeffs too far off [%] [-1.98892229 -0.84025314  0.00431462]\n"
     ]
    },
    {
     "name": "stderr",
     "output_type": "stream",
     "text": [
      "\u001b[A\n",
      " 27%|██▋       | 338/1261 [00:38<01:46,  8.68it/s]\u001b[A\n",
      " 27%|██▋       | 339/1261 [00:39<01:43,  8.87it/s]"
     ]
    },
    {
     "name": "stdout",
     "output_type": "stream",
     "text": [
      "fit coeffs too far off [%] [-1.73460178 -0.70886988 -0.0055284 ]\n"
     ]
    },
    {
     "name": "stderr",
     "output_type": "stream",
     "text": [
      "\u001b[A\n",
      " 27%|██▋       | 340/1261 [00:39<01:43,  8.89it/s]\u001b[A\n",
      " 27%|██▋       | 341/1261 [00:39<01:48,  8.51it/s]"
     ]
    },
    {
     "name": "stdout",
     "output_type": "stream",
     "text": [
      "fit coeffs too far off [%] [ 4.00599999 -1.23551239  0.01303308]\n"
     ]
    },
    {
     "name": "stderr",
     "output_type": "stream",
     "text": [
      "\u001b[A\n",
      " 27%|██▋       | 342/1261 [00:39<01:50,  8.29it/s]\u001b[A\n",
      " 27%|██▋       | 343/1261 [00:39<01:51,  8.27it/s]"
     ]
    },
    {
     "name": "stdout",
     "output_type": "stream",
     "text": [
      "fit coeffs too far off [%] [-0.42052081 -7.91979706  0.04674229]\n"
     ]
    },
    {
     "name": "stderr",
     "output_type": "stream",
     "text": [
      "\u001b[A\n",
      " 27%|██▋       | 344/1261 [00:39<01:51,  8.26it/s]\u001b[A\n",
      " 27%|██▋       | 345/1261 [00:39<01:55,  7.95it/s]\u001b[A\n",
      " 27%|██▋       | 346/1261 [00:39<01:53,  8.07it/s]"
     ]
    },
    {
     "name": "stdout",
     "output_type": "stream",
     "text": [
      "fit coeffs too far off [%] [-5.01866709  0.66720487 -0.01371028]\n",
      "fit coeffs too far off [%] [-3.29400114 -0.06628923 -0.0298023 ]\n"
     ]
    },
    {
     "name": "stderr",
     "output_type": "stream",
     "text": [
      "\u001b[A\n",
      " 28%|██▊       | 347/1261 [00:40<01:50,  8.28it/s]\u001b[A\n",
      " 28%|██▊       | 348/1261 [00:40<01:48,  8.38it/s]\u001b[A\n",
      " 28%|██▊       | 349/1261 [00:40<01:45,  8.68it/s]\u001b[A\n",
      " 28%|██▊       | 350/1261 [00:40<01:44,  8.74it/s]"
     ]
    },
    {
     "name": "stdout",
     "output_type": "stream",
     "text": [
      "fit coeffs too far off [%] [ 0.84401096  0.72840076  0.02394568]\n",
      "fit coeffs too far off [%] [ 1.30497966  1.3262093   0.02482659]\n"
     ]
    },
    {
     "name": "stderr",
     "output_type": "stream",
     "text": [
      "\u001b[A\n",
      " 28%|██▊       | 351/1261 [00:40<01:43,  8.81it/s]\u001b[A\n",
      " 28%|██▊       | 352/1261 [00:40<01:41,  8.99it/s]\u001b[A\n",
      " 28%|██▊       | 353/1261 [00:40<01:38,  9.22it/s]\u001b[A\n",
      " 28%|██▊       | 354/1261 [00:40<01:38,  9.16it/s]\u001b[A\n",
      " 28%|██▊       | 355/1261 [00:40<01:39,  9.15it/s]\u001b[A\n",
      " 28%|██▊       | 356/1261 [00:41<01:38,  9.17it/s]\u001b[A\n",
      " 28%|██▊       | 357/1261 [00:41<01:41,  8.90it/s]\u001b[A\n",
      " 28%|██▊       | 358/1261 [00:41<01:39,  9.03it/s]\u001b[A\n",
      " 28%|██▊       | 359/1261 [00:41<01:37,  9.24it/s]\u001b[A\n",
      " 29%|██▊       | 360/1261 [00:41<01:36,  9.35it/s]\u001b[A\n",
      " 29%|██▊       | 361/1261 [00:41<01:35,  9.39it/s]\u001b[A\n",
      " 29%|██▊       | 362/1261 [00:41<01:36,  9.28it/s]\u001b[A\n",
      " 29%|██▉       | 363/1261 [00:41<01:36,  9.30it/s]\u001b[A\n",
      " 29%|██▉       | 364/1261 [00:41<01:37,  9.18it/s]\u001b[A\n",
      " 29%|██▉       | 365/1261 [00:42<01:36,  9.24it/s]\u001b[A\n",
      " 29%|██▉       | 366/1261 [00:42<01:38,  9.09it/s]"
     ]
    },
    {
     "name": "stdout",
     "output_type": "stream",
     "text": [
      "fit coeffs too far off [%] [-1.09642607 -0.44366272  0.00118139]\n"
     ]
    },
    {
     "name": "stderr",
     "output_type": "stream",
     "text": [
      "\u001b[A\n",
      " 29%|██▉       | 367/1261 [00:42<01:38,  9.12it/s]\u001b[A\n",
      " 29%|██▉       | 368/1261 [00:42<01:38,  9.07it/s]\u001b[A\n",
      " 29%|██▉       | 369/1261 [00:42<01:40,  8.92it/s]"
     ]
    },
    {
     "name": "stdout",
     "output_type": "stream",
     "text": [
      "fit coeffs too far off [%] [-0.94183702 -0.58736523  0.02432352]\n"
     ]
    },
    {
     "name": "stderr",
     "output_type": "stream",
     "text": [
      "\u001b[A\n",
      " 29%|██▉       | 370/1261 [00:42<01:44,  8.54it/s]\u001b[A\n",
      " 29%|██▉       | 371/1261 [00:42<01:40,  8.85it/s]\u001b[A\n",
      " 30%|██▉       | 372/1261 [00:42<01:37,  9.12it/s]\u001b[A\n",
      " 30%|██▉       | 373/1261 [00:42<01:41,  8.73it/s]\u001b[A\n",
      " 30%|██▉       | 374/1261 [00:43<01:39,  8.89it/s]"
     ]
    },
    {
     "name": "stdout",
     "output_type": "stream",
     "text": [
      "fit coeffs too far off [%] [-0.84403463 -0.43212643 -0.05076424]\n",
      "fit coeffs too far off [%] [-1.3149592  -0.54164076 -0.04512649]\n"
     ]
    },
    {
     "name": "stderr",
     "output_type": "stream",
     "text": [
      "\u001b[A\n",
      " 30%|██▉       | 375/1261 [00:43<01:39,  8.89it/s]\u001b[A\n",
      " 30%|██▉       | 376/1261 [00:43<01:38,  9.02it/s]"
     ]
    },
    {
     "name": "stdout",
     "output_type": "stream",
     "text": [
      "fit coeffs too far off [%] [-1.82434381 -0.64989083 -0.04150135]\n",
      "fit coeffs too far off [%] [-2.5383542  -0.66650334 -0.01482991]\n",
      "fit coeffs too far off [%] [-2.63233208 -0.6275979  -0.00809097]\n"
     ]
    },
    {
     "name": "stderr",
     "output_type": "stream",
     "text": [
      "\u001b[A\n",
      " 30%|██▉       | 377/1261 [00:43<01:41,  8.68it/s]\u001b[A\n",
      " 30%|██▉       | 378/1261 [00:43<01:41,  8.70it/s]"
     ]
    },
    {
     "name": "stdout",
     "output_type": "stream",
     "text": [
      "fit coeffs too far off [%] [-3.30288101 -0.8504919  -0.02576698]\n",
      "fit coeffs too far off [%] [ -3.34549057e+00  -9.33483652e-01  -1.18033951e-03]\n",
      "fit coeffs too far off [%] [-3.81331143 -0.88394769 -0.02090244]\n",
      "fit coeffs too far off [%] [-3.45505445 -0.89800136 -0.00715775]\n"
     ]
    },
    {
     "name": "stderr",
     "output_type": "stream",
     "text": [
      "\u001b[A\n",
      " 30%|███       | 379/1261 [00:43<01:40,  8.75it/s]\u001b[A\n",
      " 30%|███       | 380/1261 [00:43<01:41,  8.67it/s]"
     ]
    },
    {
     "name": "stdout",
     "output_type": "stream",
     "text": [
      "fit coeffs too far off [%] [-4.14978326 -1.03655915 -0.03155096]\n",
      "fit coeffs too far off [%] [-3.11776244 -1.03948538  0.00513543]\n",
      "fit coeffs too far off [%] [-2.77855083 -1.0658578   0.01015263]\n"
     ]
    },
    {
     "name": "stderr",
     "output_type": "stream",
     "text": [
      "\u001b[A\n",
      " 30%|███       | 381/1261 [00:43<01:40,  8.76it/s]\u001b[A\n",
      " 30%|███       | 382/1261 [00:43<01:38,  8.91it/s]"
     ]
    },
    {
     "name": "stdout",
     "output_type": "stream",
     "text": [
      "fit coeffs too far off [%] [ 0.01909719  1.1994185  -0.02060204]\n",
      "fit coeffs too far off [%] [-2.9143033  -1.30870003  0.02024245]\n",
      "fit coeffs too far off [%] [-3.35753897 -1.59237982  0.02551152]\n"
     ]
    },
    {
     "name": "stderr",
     "output_type": "stream",
     "text": [
      "\u001b[A\n",
      " 30%|███       | 383/1261 [00:44<01:37,  9.00it/s]\u001b[A\n",
      " 30%|███       | 384/1261 [00:44<01:37,  9.02it/s]"
     ]
    },
    {
     "name": "stdout",
     "output_type": "stream",
     "text": [
      "fit coeffs too far off [%] [-3.35189916 -1.51811997  0.01996764]\n",
      "fit coeffs too far off [%] [-2.54941038 -1.18563124  0.02093508]\n"
     ]
    },
    {
     "name": "stderr",
     "output_type": "stream",
     "text": [
      "\u001b[A\n",
      " 31%|███       | 385/1261 [00:44<01:36,  9.03it/s]\u001b[A\n",
      " 31%|███       | 386/1261 [00:44<01:38,  8.91it/s]"
     ]
    },
    {
     "name": "stdout",
     "output_type": "stream",
     "text": [
      "fit coeffs too far off [%] [-3.39349858 -1.19468506  0.02386241]\n"
     ]
    },
    {
     "name": "stderr",
     "output_type": "stream",
     "text": [
      "\u001b[A\n",
      " 31%|███       | 387/1261 [00:44<01:36,  9.02it/s]\u001b[A\n",
      " 31%|███       | 388/1261 [00:44<01:41,  8.60it/s]"
     ]
    },
    {
     "name": "stdout",
     "output_type": "stream",
     "text": [
      "fit coeffs too far off [%] [-0.25654939  0.50484744 -0.0551756 ]\n",
      "fit coeffs too far off [%] [ 0.40040398  1.3479978   0.01350799]\n",
      "fit coeffs too far off [%] [-0.22789539  0.61835292 -0.05051892]\n"
     ]
    },
    {
     "name": "stderr",
     "output_type": "stream",
     "text": [
      "\u001b[A\n",
      " 31%|███       | 389/1261 [00:44<01:39,  8.76it/s]\u001b[A\n",
      " 31%|███       | 390/1261 [00:44<01:40,  8.70it/s]"
     ]
    },
    {
     "name": "stdout",
     "output_type": "stream",
     "text": [
      "fit coeffs too far off [%] [-0.32441558  0.77419514 -0.06940726]\n",
      "fit coeffs too far off [%] [ 0.66722845  3.58552192  0.00985518]\n"
     ]
    },
    {
     "name": "stderr",
     "output_type": "stream",
     "text": [
      "\u001b[A\n",
      " 31%|███       | 391/1261 [00:44<01:38,  8.81it/s]\u001b[A\n",
      " 31%|███       | 392/1261 [00:45<01:40,  8.66it/s]"
     ]
    },
    {
     "name": "stdout",
     "output_type": "stream",
     "text": [
      "fit coeffs too far off [%] [-1.19926867 -1.16234761 -0.00746116]\n",
      "fit coeffs too far off [%] [-0.72292279  0.25576264 -0.07045353]\n"
     ]
    },
    {
     "name": "stderr",
     "output_type": "stream",
     "text": [
      "\u001b[A\n",
      " 31%|███       | 393/1261 [00:45<01:38,  8.78it/s]\u001b[A\n",
      " 31%|███       | 394/1261 [00:45<01:38,  8.85it/s]"
     ]
    },
    {
     "name": "stdout",
     "output_type": "stream",
     "text": [
      "fit coeffs too far off [%] [-1.23602506 -0.64783289 -0.02207023]\n",
      "fit coeffs too far off [%] [-0.93406808 -1.46263041 -0.02356887]\n",
      "fit coeffs too far off [%] [-1.11192986 -0.23826643 -0.02845193]\n"
     ]
    },
    {
     "name": "stderr",
     "output_type": "stream",
     "text": [
      "\u001b[A\n",
      " 31%|███▏      | 395/1261 [00:45<01:37,  8.90it/s]\u001b[A\n",
      " 31%|███▏      | 396/1261 [00:45<01:43,  8.33it/s]"
     ]
    },
    {
     "name": "stdout",
     "output_type": "stream",
     "text": [
      "fit coeffs too far off [%] [-1.25711727 -0.369775   -0.02068618]\n",
      "fit coeffs too far off [%] [-1.93475524 -0.77620559 -0.00314791]\n"
     ]
    },
    {
     "name": "stderr",
     "output_type": "stream",
     "text": [
      "\u001b[A\n",
      " 31%|███▏      | 397/1261 [00:45<01:43,  8.35it/s]\u001b[A\n",
      " 32%|███▏      | 398/1261 [00:45<01:39,  8.66it/s]"
     ]
    },
    {
     "name": "stdout",
     "output_type": "stream",
     "text": [
      "fit coeffs too far off [%] [  3.29295417e-01  -1.19156265e+01   7.89240759e-03]\n",
      "fit coeffs too far off [%] [-2.53991785  0.63832221 -0.02202149]\n"
     ]
    },
    {
     "name": "stderr",
     "output_type": "stream",
     "text": [
      "\u001b[A\n",
      " 32%|███▏      | 399/1261 [00:45<01:38,  8.79it/s]\u001b[A\n",
      " 32%|███▏      | 400/1261 [00:46<01:38,  8.71it/s]"
     ]
    },
    {
     "name": "stdout",
     "output_type": "stream",
     "text": [
      "fit coeffs too far off [%] [-5.2456609   1.06898297 -0.04028045]\n",
      "fit coeffs too far off [%] [ 0.10554519  0.52804484  0.00826563]\n"
     ]
    },
    {
     "name": "stderr",
     "output_type": "stream",
     "text": [
      "\u001b[A\n",
      " 32%|███▏      | 401/1261 [00:46<01:37,  8.85it/s]\u001b[A\n",
      " 32%|███▏      | 402/1261 [00:46<01:36,  8.93it/s]"
     ]
    },
    {
     "name": "stdout",
     "output_type": "stream",
     "text": [
      "fit coeffs too far off [%] [ 2.81361181  0.42855724 -0.02341939]\n",
      "fit coeffs too far off [%] [-0.72466358 -0.6601128  -0.0041205 ]\n"
     ]
    },
    {
     "name": "stderr",
     "output_type": "stream",
     "text": [
      "\u001b[A\n",
      " 32%|███▏      | 403/1261 [00:46<01:34,  9.11it/s]\u001b[A\n",
      " 32%|███▏      | 404/1261 [00:46<01:35,  9.00it/s]"
     ]
    },
    {
     "name": "stdout",
     "output_type": "stream",
     "text": [
      "fit coeffs too far off [%] [-0.49060386 -0.54055581 -0.01212849]\n"
     ]
    },
    {
     "name": "stderr",
     "output_type": "stream",
     "text": [
      "\u001b[A\n",
      " 32%|███▏      | 405/1261 [00:46<01:34,  9.07it/s]\u001b[A\n",
      " 32%|███▏      | 406/1261 [00:46<01:33,  9.17it/s]"
     ]
    },
    {
     "name": "stdout",
     "output_type": "stream",
     "text": [
      "fit coeffs too far off [%] [-1.98886732 -0.47516699  0.02222233]\n",
      "fit coeffs too far off [%] [-1.68479574 -1.65504616 -0.02073531]\n"
     ]
    },
    {
     "name": "stderr",
     "output_type": "stream",
     "text": [
      "\u001b[A\n",
      " 32%|███▏      | 407/1261 [00:46<01:37,  8.72it/s]\u001b[A\n",
      " 32%|███▏      | 408/1261 [00:46<01:37,  8.74it/s]"
     ]
    },
    {
     "name": "stdout",
     "output_type": "stream",
     "text": [
      "fit coeffs too far off [%] [-0.86931717 -0.08039068 -0.01580202]\n",
      "fit coeffs too far off [%] [ 0.38847461  0.72733012 -0.00383025]\n"
     ]
    },
    {
     "name": "stderr",
     "output_type": "stream",
     "text": [
      "\u001b[A\n",
      " 32%|███▏      | 409/1261 [00:47<01:39,  8.53it/s]\u001b[A\n",
      " 33%|███▎      | 410/1261 [00:47<01:40,  8.43it/s]\u001b[A\n",
      " 33%|███▎      | 411/1261 [00:47<01:38,  8.66it/s]"
     ]
    },
    {
     "name": "stdout",
     "output_type": "stream",
     "text": [
      "fit coeffs too far off [%] [ -3.20234934e+00  -3.25878564e+00   4.53018702e-04]\n",
      "fit coeffs too far off [%] [ 1.41601097  0.19558646 -0.00941026]\n",
      "fit coeffs too far off [%] [ -5.06694619e+00  -4.56146189e+00   3.30635033e-03]\n"
     ]
    },
    {
     "name": "stderr",
     "output_type": "stream",
     "text": [
      "\u001b[A\n",
      " 33%|███▎      | 412/1261 [00:47<01:36,  8.81it/s]\u001b[A\n",
      " 33%|███▎      | 413/1261 [00:47<01:34,  8.94it/s]"
     ]
    },
    {
     "name": "stdout",
     "output_type": "stream",
     "text": [
      "fit coeffs too far off [%] [ 2.10357169  0.34884751 -0.01363653]\n",
      "fit coeffs too far off [%] [ 2.00415993  0.29248844 -0.00979747]\n"
     ]
    },
    {
     "name": "stderr",
     "output_type": "stream",
     "text": [
      "\u001b[A\n",
      " 33%|███▎      | 414/1261 [00:47<01:37,  8.70it/s]\u001b[A\n",
      " 33%|███▎      | 415/1261 [00:47<01:41,  8.35it/s]"
     ]
    },
    {
     "name": "stdout",
     "output_type": "stream",
     "text": [
      "fit coeffs too far off [%] [ 2.32591513  0.42727943 -0.01571184]\n",
      "fit coeffs too far off [%] [ 2.17413681  0.31410637  0.01496837]\n",
      "fit coeffs too far off [%] [-2.50121184 -3.52971116 -0.02796969]\n"
     ]
    },
    {
     "name": "stderr",
     "output_type": "stream",
     "text": [
      "\u001b[A\n",
      " 33%|███▎      | 416/1261 [00:47<01:42,  8.25it/s]\u001b[A\n",
      " 33%|███▎      | 417/1261 [00:47<01:42,  8.25it/s]"
     ]
    },
    {
     "name": "stdout",
     "output_type": "stream",
     "text": [
      "fit coeffs too far off [%] [-1.52998819 -1.59001466 -0.00529573]\n",
      "fit coeffs too far off [%] [-2.72647773 -3.71284035 -0.02527668]\n"
     ]
    },
    {
     "name": "stderr",
     "output_type": "stream",
     "text": [
      "\u001b[A\n",
      " 33%|███▎      | 418/1261 [00:48<01:38,  8.53it/s]\u001b[A\n",
      " 33%|███▎      | 419/1261 [00:48<01:36,  8.70it/s]\u001b[A\n",
      " 33%|███▎      | 420/1261 [00:48<01:35,  8.82it/s]\u001b[A\n",
      " 33%|███▎      | 421/1261 [00:48<01:33,  8.97it/s]"
     ]
    },
    {
     "name": "stdout",
     "output_type": "stream",
     "text": [
      "fit coeffs too far off [%] [-0.7986379  -0.46850854 -0.00243654]\n",
      "fit coeffs too far off [%] [-0.77971002 -0.4042765   0.02454348]\n",
      "fit coeffs too far off [%] [-1.0530451  -0.70914967 -0.00109335]\n"
     ]
    },
    {
     "name": "stderr",
     "output_type": "stream",
     "text": [
      "\u001b[A\n",
      " 33%|███▎      | 422/1261 [00:48<01:33,  8.98it/s]\u001b[A\n",
      " 34%|███▎      | 423/1261 [00:48<01:33,  8.97it/s]"
     ]
    },
    {
     "name": "stdout",
     "output_type": "stream",
     "text": [
      "fit coeffs too far off [%] [-0.79146942 -0.54325316  0.0552045 ]\n",
      "fit coeffs too far off [%] [-0.89167348 -0.47624619  0.03314517]\n",
      "fit coeffs too far off [%] [ 2.02978942 -1.07432294  0.01430948]\n"
     ]
    },
    {
     "name": "stderr",
     "output_type": "stream",
     "text": [
      "\u001b[A\n",
      " 34%|███▎      | 424/1261 [00:48<01:33,  8.99it/s]\u001b[A\n",
      " 34%|███▎      | 425/1261 [00:48<01:31,  9.09it/s]"
     ]
    },
    {
     "name": "stdout",
     "output_type": "stream",
     "text": [
      "fit coeffs too far off [%] [-1.45706949 -0.64576422  0.03388659]\n",
      "fit coeffs too far off [%] [-2.07942915 -0.73702598  0.01453077]\n",
      "fit coeffs too far off [%] [ 1.38447203  0.57149811 -0.00393732]\n"
     ]
    },
    {
     "name": "stderr",
     "output_type": "stream",
     "text": [
      "\u001b[A\n",
      " 34%|███▍      | 426/1261 [00:48<01:31,  9.11it/s]\u001b[A\n",
      " 34%|███▍      | 427/1261 [00:49<01:33,  8.93it/s]\u001b[A\n",
      " 34%|███▍      | 428/1261 [00:49<01:33,  8.93it/s]"
     ]
    },
    {
     "name": "stdout",
     "output_type": "stream",
     "text": [
      "fit coeffs too far off [%] [ 1.11619875 -0.62536865  0.02418661]\n",
      "fit coeffs too far off [%] [ 0.76188938  1.20442788 -0.0161468 ]\n"
     ]
    },
    {
     "name": "stderr",
     "output_type": "stream",
     "text": [
      "\u001b[A\n",
      " 34%|███▍      | 429/1261 [00:49<01:33,  8.94it/s]\u001b[A\n",
      " 34%|███▍      | 430/1261 [00:49<01:31,  9.13it/s]"
     ]
    },
    {
     "name": "stdout",
     "output_type": "stream",
     "text": [
      "fit coeffs too far off [%] [ 0.0704189   1.46161837  0.0241383 ]\n"
     ]
    },
    {
     "name": "stderr",
     "output_type": "stream",
     "text": [
      "\u001b[A\n",
      " 34%|███▍      | 431/1261 [00:49<01:30,  9.14it/s]\u001b[A\n",
      " 34%|███▍      | 432/1261 [00:49<01:29,  9.31it/s]\u001b[A\n",
      " 34%|███▍      | 433/1261 [00:49<01:28,  9.36it/s]\u001b[A\n",
      " 34%|███▍      | 434/1261 [00:49<01:28,  9.40it/s]\u001b[A\n",
      " 34%|███▍      | 435/1261 [00:49<01:28,  9.37it/s]\u001b[A\n",
      " 35%|███▍      | 436/1261 [00:50<01:28,  9.31it/s]"
     ]
    },
    {
     "name": "stdout",
     "output_type": "stream",
     "text": [
      "fit coeffs too far off [%] [ 0.3176491   1.30540417  0.01762802]\n",
      "fit coeffs too far off [%] [ 0.25956906  2.03226438  0.06261421]\n"
     ]
    },
    {
     "name": "stderr",
     "output_type": "stream",
     "text": [
      "\u001b[A\n",
      " 35%|███▍      | 437/1261 [00:50<01:31,  8.98it/s]\u001b[A\n",
      " 35%|███▍      | 438/1261 [00:50<01:31,  9.01it/s]"
     ]
    },
    {
     "name": "stdout",
     "output_type": "stream",
     "text": [
      "fit coeffs too far off [%] [ 0.34298992  3.38406253  0.1291311 ]\n",
      "fit coeffs too far off [%] [ 0.91781146  0.99632575 -0.03006854]\n",
      "fit coeffs too far off [%] [ 0.19955892  2.85913665  0.10552155]\n",
      "fit coeffs too far off [%] [ 1.00484789  0.86096718 -0.01780358]\n"
     ]
    },
    {
     "name": "stderr",
     "output_type": "stream",
     "text": [
      "\u001b[A\n",
      " 35%|███▍      | 439/1261 [00:50<01:38,  8.35it/s]\u001b[A\n",
      " 35%|███▍      | 440/1261 [00:50<01:39,  8.29it/s]"
     ]
    },
    {
     "name": "stdout",
     "output_type": "stream",
     "text": [
      "fit coeffs too far off [%] [ 0.16418279  2.80572813  0.156109  ]\n",
      "fit coeffs too far off [%] [ 0.2019133   0.6730255  -0.03365688]\n",
      "fit coeffs too far off [%] [-0.03306395  0.89369474 -0.05132519]\n"
     ]
    },
    {
     "name": "stderr",
     "output_type": "stream",
     "text": [
      "\u001b[A\n",
      " 35%|███▍      | 441/1261 [00:50<01:36,  8.53it/s]\u001b[A\n",
      " 35%|███▌      | 442/1261 [00:50<01:33,  8.76it/s]"
     ]
    },
    {
     "name": "stdout",
     "output_type": "stream",
     "text": [
      "fit coeffs too far off [%] [-0.14742123  0.66626267 -0.0408733 ]\n"
     ]
    },
    {
     "name": "stderr",
     "output_type": "stream",
     "text": [
      "\u001b[A\n",
      " 35%|███▌      | 443/1261 [00:50<01:31,  8.92it/s]\u001b[A\n",
      " 35%|███▌      | 444/1261 [00:50<01:30,  9.04it/s]\u001b[A\n",
      " 35%|███▌      | 445/1261 [00:51<01:28,  9.22it/s]\u001b[A\n",
      " 35%|███▌      | 446/1261 [00:51<01:32,  8.82it/s]\u001b[A\n",
      " 35%|███▌      | 447/1261 [00:51<01:31,  8.93it/s]"
     ]
    },
    {
     "name": "stdout",
     "output_type": "stream",
     "text": [
      "fit coeffs too far off [%] [-0.67611986 -0.52407964 -0.04408256]\n",
      "fit coeffs too far off [%] [-1.06005555 -0.56858351 -0.00114728]\n",
      "fit coeffs too far off [%] [ 0.29451028  0.57899769 -0.02491508]\n"
     ]
    },
    {
     "name": "stderr",
     "output_type": "stream",
     "text": [
      "\u001b[A\n",
      " 36%|███▌      | 448/1261 [00:51<01:31,  8.89it/s]\u001b[A\n",
      " 36%|███▌      | 449/1261 [00:51<01:33,  8.65it/s]"
     ]
    },
    {
     "name": "stdout",
     "output_type": "stream",
     "text": [
      "fit coeffs too far off [%] [-1.20083207 -0.69234229 -0.00353342]\n",
      "fit coeffs too far off [%] [ 0.4626791   0.51667112 -0.01818551]\n",
      "fit coeffs too far off [%] [-1.22552667 -0.51273072  0.04759613]\n"
     ]
    },
    {
     "name": "stderr",
     "output_type": "stream",
     "text": [
      "\u001b[A\n",
      " 36%|███▌      | 450/1261 [00:51<01:34,  8.58it/s]\u001b[A\n",
      " 36%|███▌      | 451/1261 [00:51<01:33,  8.66it/s]"
     ]
    },
    {
     "name": "stdout",
     "output_type": "stream",
     "text": [
      "fit coeffs too far off [%] [-1.45667709 -0.70432374  0.03225277]\n",
      "fit coeffs too far off [%] [-1.39964857 -0.55155488  0.05843497]\n",
      "fit coeffs too far off [%] [-1.67352659 -0.49317861 -0.00966416]\n"
     ]
    },
    {
     "name": "stderr",
     "output_type": "stream",
     "text": [
      "\u001b[A\n",
      " 36%|███▌      | 452/1261 [00:51<01:33,  8.67it/s]\u001b[A\n",
      " 36%|███▌      | 453/1261 [00:51<01:30,  8.94it/s]"
     ]
    },
    {
     "name": "stdout",
     "output_type": "stream",
     "text": [
      "fit coeffs too far off [%] [-2.21642866 -0.91353067  0.0038462 ]\n",
      "fit coeffs too far off [%] [-2.5781321  -1.09664268  0.01487475]\n"
     ]
    },
    {
     "name": "stderr",
     "output_type": "stream",
     "text": [
      "\u001b[A\n",
      " 36%|███▌      | 454/1261 [00:52<01:35,  8.48it/s]\u001b[A\n",
      " 36%|███▌      | 455/1261 [00:52<01:33,  8.63it/s]"
     ]
    },
    {
     "name": "stdout",
     "output_type": "stream",
     "text": [
      "fit coeffs too far off [%] [-3.70289636 -1.38144609  0.00696198]\n",
      "fit coeffs too far off [%] [ 0.43865385 -1.21096067  0.01659353]\n",
      "fit coeffs too far off [%] [-3.45435614 -1.40212058  0.01471337]\n"
     ]
    },
    {
     "name": "stderr",
     "output_type": "stream",
     "text": [
      "\u001b[A\n",
      " 36%|███▌      | 456/1261 [00:52<01:32,  8.69it/s]\u001b[A\n",
      " 36%|███▌      | 457/1261 [00:52<01:36,  8.37it/s]"
     ]
    },
    {
     "name": "stdout",
     "output_type": "stream",
     "text": [
      "fit coeffs too far off [%] [ 0.42418786 -1.34552218  0.02012904]\n",
      "fit coeffs too far off [%] [-2.91147404 -1.22891337  0.01639694]\n",
      "fit coeffs too far off [%] [-0.09795283  1.0642433   0.01897991]\n",
      "fit coeffs too far off [%] [-3.65647161 -1.58530464  0.02837605]\n"
     ]
    },
    {
     "name": "stderr",
     "output_type": "stream",
     "text": [
      "\u001b[A\n",
      " 36%|███▋      | 458/1261 [00:52<01:37,  8.21it/s]\u001b[A\n",
      " 36%|███▋      | 459/1261 [00:52<01:34,  8.46it/s]"
     ]
    },
    {
     "name": "stdout",
     "output_type": "stream",
     "text": [
      "fit coeffs too far off [%] [-3.11027503 -1.44257894  0.03997548]\n",
      "fit coeffs too far off [%] [ -0.28012556 -35.47344498   0.04675131]\n",
      "fit coeffs too far off [%] [-2.06628853 -0.91019914  0.01930424]\n"
     ]
    },
    {
     "name": "stderr",
     "output_type": "stream",
     "text": [
      "\u001b[A\n",
      " 36%|███▋      | 460/1261 [00:52<01:32,  8.63it/s]\u001b[A\n",
      " 37%|███▋      | 461/1261 [00:52<01:30,  8.86it/s]\u001b[A\n",
      " 37%|███▋      | 462/1261 [00:53<01:29,  8.92it/s]"
     ]
    },
    {
     "name": "stdout",
     "output_type": "stream",
     "text": [
      "fit coeffs too far off [%] [-8.95591667 -2.8448995   0.01208017]\n",
      "fit coeffs too far off [%] [ 0.00698442 -0.78053229 -0.02953684]\n"
     ]
    },
    {
     "name": "stderr",
     "output_type": "stream",
     "text": [
      "\u001b[A\n",
      " 37%|███▋      | 463/1261 [00:53<01:29,  8.95it/s]\u001b[A\n",
      " 37%|███▋      | 464/1261 [00:53<01:27,  9.11it/s]"
     ]
    },
    {
     "name": "stdout",
     "output_type": "stream",
     "text": [
      "fit coeffs too far off [%] [ 0.44051048 -1.9091148  -0.06602058]\n",
      "fit coeffs too far off [%] [ 1.16479198  1.10933818  0.01735112]\n"
     ]
    },
    {
     "name": "stderr",
     "output_type": "stream",
     "text": [
      "\u001b[A\n",
      " 37%|███▋      | 465/1261 [00:53<01:27,  9.13it/s]\u001b[A\n",
      " 37%|███▋      | 466/1261 [00:53<01:26,  9.22it/s]"
     ]
    },
    {
     "name": "stdout",
     "output_type": "stream",
     "text": [
      "fit coeffs too far off [%] [ 1.40651614  0.84224143  0.00949025]\n"
     ]
    },
    {
     "name": "stderr",
     "output_type": "stream",
     "text": [
      "\u001b[A\n",
      " 37%|███▋      | 467/1261 [00:53<01:25,  9.27it/s]\u001b[A\n",
      " 37%|███▋      | 468/1261 [00:53<01:29,  8.86it/s]"
     ]
    },
    {
     "name": "stdout",
     "output_type": "stream",
     "text": [
      "fit coeffs too far off [%] [ 0.63658539  0.63458484  0.00948763]\n",
      "fit coeffs too far off [%] [-0.77855404  0.46329144  0.00460532]\n"
     ]
    },
    {
     "name": "stderr",
     "output_type": "stream",
     "text": [
      "\u001b[A\n",
      " 37%|███▋      | 469/1261 [00:53<01:32,  8.58it/s]\u001b[A\n",
      " 37%|███▋      | 470/1261 [00:53<01:32,  8.51it/s]"
     ]
    },
    {
     "name": "stdout",
     "output_type": "stream",
     "text": [
      "fit coeffs too far off [%] [-1.07872888  0.60189792  0.00266529]\n",
      "fit coeffs too far off [%] [-1.36607242 -0.18731419 -0.05423519]\n",
      "fit coeffs too far off [%] [ 0.67035004  0.77440447  0.02320222]\n"
     ]
    },
    {
     "name": "stderr",
     "output_type": "stream",
     "text": [
      "\u001b[A\n",
      " 37%|███▋      | 471/1261 [00:54<01:31,  8.67it/s]\u001b[A\n",
      " 37%|███▋      | 472/1261 [00:54<01:28,  8.88it/s]"
     ]
    },
    {
     "name": "stdout",
     "output_type": "stream",
     "text": [
      "fit coeffs too far off [%] [-1.96460066  0.46838398 -0.01232466]\n"
     ]
    },
    {
     "name": "stderr",
     "output_type": "stream",
     "text": [
      "\u001b[A\n",
      " 38%|███▊      | 473/1261 [00:54<01:27,  9.04it/s]\u001b[A\n",
      " 38%|███▊      | 474/1261 [00:54<01:27,  9.03it/s]"
     ]
    },
    {
     "name": "stdout",
     "output_type": "stream",
     "text": [
      "fit coeffs too far off [%] [-1.34554954 -0.40979548  0.00181817]\n",
      "fit coeffs too far off [%] [ 0.83307827  0.56244637  0.02517103]\n",
      "fit coeffs too far off [%] [-4.73768629 -1.55998724 -0.01657545]\n"
     ]
    },
    {
     "name": "stderr",
     "output_type": "stream",
     "text": [
      "\u001b[A\n",
      " 38%|███▊      | 475/1261 [00:54<01:27,  9.01it/s]\u001b[A\n",
      " 38%|███▊      | 476/1261 [00:54<01:29,  8.82it/s]"
     ]
    },
    {
     "name": "stdout",
     "output_type": "stream",
     "text": [
      "fit coeffs too far off [%] [ -3.80359853e+00  -1.00327481e+00   1.40772791e-03]\n"
     ]
    },
    {
     "name": "stderr",
     "output_type": "stream",
     "text": [
      "\u001b[A\n",
      " 38%|███▊      | 477/1261 [00:54<01:27,  8.97it/s]\u001b[A\n",
      " 38%|███▊      | 478/1261 [00:54<01:32,  8.46it/s]"
     ]
    },
    {
     "name": "stdout",
     "output_type": "stream",
     "text": [
      "fit coeffs too far off [%] [-0.29572714 -1.18198524  0.01526042]\n"
     ]
    },
    {
     "name": "stderr",
     "output_type": "stream",
     "text": [
      "\u001b[A\n",
      " 38%|███▊      | 479/1261 [00:54<01:30,  8.64it/s]\u001b[A\n",
      " 38%|███▊      | 480/1261 [00:55<01:28,  8.84it/s]"
     ]
    },
    {
     "name": "stdout",
     "output_type": "stream",
     "text": [
      "fit coeffs too far off [%] [  1.91887259e-01  -1.04608720e+00  -3.08969539e-04]\n",
      "fit coeffs too far off [%] [ 0.01701091 -0.71074323 -0.05945849]\n"
     ]
    },
    {
     "name": "stderr",
     "output_type": "stream",
     "text": [
      "\u001b[A\n",
      " 38%|███▊      | 481/1261 [00:55<01:27,  8.94it/s]\u001b[A\n",
      " 38%|███▊      | 482/1261 [00:55<01:25,  9.08it/s]\u001b[A\n",
      " 38%|███▊      | 483/1261 [00:55<01:25,  9.05it/s]"
     ]
    },
    {
     "name": "stdout",
     "output_type": "stream",
     "text": [
      "fit coeffs too far off [%] [-0.00233312  0.74420809  0.0059577 ]\n",
      "fit coeffs too far off [%] [-0.22302241  4.02054389  0.01491837]\n"
     ]
    },
    {
     "name": "stderr",
     "output_type": "stream",
     "text": [
      "\u001b[A\n",
      " 38%|███▊      | 484/1261 [00:55<01:25,  9.07it/s]\u001b[A\n",
      " 38%|███▊      | 485/1261 [00:55<01:24,  9.16it/s]\u001b[A\n",
      " 39%|███▊      | 486/1261 [00:55<01:24,  9.12it/s]"
     ]
    },
    {
     "name": "stdout",
     "output_type": "stream",
     "text": [
      "fit coeffs too far off [%] [-2.47287397 -0.37652545 -0.0047436 ]\n"
     ]
    },
    {
     "name": "stderr",
     "output_type": "stream",
     "text": [
      "\u001b[A\n",
      " 39%|███▊      | 487/1261 [00:55<01:26,  8.95it/s]\u001b[A\n",
      " 39%|███▊      | 488/1261 [00:55<01:26,  8.90it/s]"
     ]
    },
    {
     "name": "stdout",
     "output_type": "stream",
     "text": [
      "fit coeffs too far off [%] [-0.80726507 -0.02810319  0.04886993]\n",
      "fit coeffs too far off [%] [ 1.12688155 -8.42876537 -0.01032605]\n",
      "fit coeffs too far off [%] [-0.8788388   0.51997884  0.0994542 ]\n"
     ]
    },
    {
     "name": "stderr",
     "output_type": "stream",
     "text": [
      "\u001b[A\n",
      " 39%|███▉      | 489/1261 [00:56<01:26,  8.90it/s]\u001b[A\n",
      " 39%|███▉      | 490/1261 [00:56<01:26,  8.95it/s]"
     ]
    },
    {
     "name": "stdout",
     "output_type": "stream",
     "text": [
      "fit coeffs too far off [%] [-0.79132485  0.92983667  0.12721128]\n",
      "fit coeffs too far off [%] [-1.2045602   0.4399143   0.11077314]\n",
      "fit coeffs too far off [%] [-0.86080821 -1.12800892  0.00599553]\n"
     ]
    },
    {
     "name": "stderr",
     "output_type": "stream",
     "text": [
      "\u001b[A\n",
      " 39%|███▉      | 491/1261 [00:56<01:29,  8.58it/s]\u001b[A\n",
      " 39%|███▉      | 492/1261 [00:56<01:29,  8.63it/s]"
     ]
    },
    {
     "name": "stdout",
     "output_type": "stream",
     "text": [
      "fit coeffs too far off [%] [-0.99093976  0.88756773  0.11845696]\n",
      "fit coeffs too far off [%] [-1.08729612 -1.37438147  0.00595897]\n",
      "fit coeffs too far off [%] [-1.7983734  -0.1461044   0.06217911]\n"
     ]
    },
    {
     "name": "stderr",
     "output_type": "stream",
     "text": [
      "\u001b[A\n",
      " 39%|███▉      | 493/1261 [00:56<01:28,  8.65it/s]\u001b[A\n",
      " 39%|███▉      | 494/1261 [00:56<01:29,  8.52it/s]"
     ]
    },
    {
     "name": "stdout",
     "output_type": "stream",
     "text": [
      "fit coeffs too far off [%] [-2.22807037 -0.53728392  0.02866729]\n",
      "fit coeffs too far off [%] [-3.22523866  2.99602593  0.01569393]\n"
     ]
    },
    {
     "name": "stderr",
     "output_type": "stream",
     "text": [
      "\u001b[A\n",
      " 39%|███▉      | 495/1261 [00:56<01:28,  8.69it/s]\u001b[A\n",
      " 39%|███▉      | 496/1261 [00:56<01:26,  8.83it/s]"
     ]
    },
    {
     "name": "stdout",
     "output_type": "stream",
     "text": [
      "fit coeffs too far off [%] [ 1.69314781 -2.51555635 -0.01935092]\n",
      "fit coeffs too far off [%] [-1.79732586  3.68444263  0.01950406]\n"
     ]
    },
    {
     "name": "stderr",
     "output_type": "stream",
     "text": [
      "\u001b[A\n",
      " 39%|███▉      | 497/1261 [00:56<01:28,  8.63it/s]\u001b[A\n",
      " 39%|███▉      | 498/1261 [00:57<01:27,  8.70it/s]"
     ]
    },
    {
     "name": "stdout",
     "output_type": "stream",
     "text": [
      "fit coeffs too far off [%] [  7.72346493e-01   1.52614954e+01  -1.42782480e-02]\n",
      "fit coeffs too far off [%] [-1.32003049 -0.64899198 -0.00693449]\n"
     ]
    },
    {
     "name": "stderr",
     "output_type": "stream",
     "text": [
      "\u001b[A\n",
      " 40%|███▉      | 499/1261 [00:57<01:25,  8.89it/s]\u001b[A\n",
      " 40%|███▉      | 500/1261 [00:57<01:23,  9.06it/s]\u001b[A\n",
      " 40%|███▉      | 501/1261 [00:57<01:27,  8.71it/s]"
     ]
    },
    {
     "name": "stdout",
     "output_type": "stream",
     "text": [
      "fit coeffs too far off [%] [-0.11598174  0.59956942 -0.05539384]\n",
      "fit coeffs too far off [%] [-0.08955807 -0.71591277  0.02011757]\n",
      "fit coeffs too far off [%] [ 0.37949055  1.42973216 -0.08753994]\n",
      "fit coeffs too far off [%] [-0.5719001  -2.2241027   0.03143286]\n"
     ]
    },
    {
     "name": "stderr",
     "output_type": "stream",
     "text": [
      "\u001b[A\n",
      " 40%|███▉      | 502/1261 [00:57<01:29,  8.45it/s]\u001b[A\n",
      " 40%|███▉      | 503/1261 [00:57<01:26,  8.74it/s]\u001b[A\n",
      " 40%|███▉      | 504/1261 [00:57<01:26,  8.78it/s]"
     ]
    },
    {
     "name": "stdout",
     "output_type": "stream",
     "text": [
      "fit coeffs too far off [%] [ 4.58272326 -1.29786906 -0.02473274]\n",
      "fit coeffs too far off [%] [-1.04462438 -0.60827258  0.04679933]\n"
     ]
    },
    {
     "name": "stderr",
     "output_type": "stream",
     "text": [
      "\u001b[A\n",
      " 40%|████      | 505/1261 [00:57<01:28,  8.53it/s]\u001b[A\n",
      " 40%|████      | 506/1261 [00:58<01:26,  8.71it/s]"
     ]
    },
    {
     "name": "stdout",
     "output_type": "stream",
     "text": [
      "fit coeffs too far off [%] [-1.23010405 -0.64812291  0.02050873]\n",
      "fit coeffs too far off [%] [ 0.11523506  0.54285168 -0.00337289]\n"
     ]
    },
    {
     "name": "stderr",
     "output_type": "stream",
     "text": [
      "\u001b[A\n",
      " 40%|████      | 507/1261 [00:58<01:30,  8.34it/s]\u001b[A\n",
      " 40%|████      | 508/1261 [00:58<01:28,  8.55it/s]"
     ]
    },
    {
     "name": "stdout",
     "output_type": "stream",
     "text": [
      "fit coeffs too far off [%] [ 0.12269412  3.72360274 -0.03031376]\n",
      "fit coeffs too far off [%] [-0.32481332 -0.85596033  0.0075991 ]\n"
     ]
    },
    {
     "name": "stderr",
     "output_type": "stream",
     "text": [
      "\u001b[A\n",
      " 40%|████      | 509/1261 [00:58<01:29,  8.42it/s]\u001b[A\n",
      " 40%|████      | 510/1261 [00:58<01:26,  8.67it/s]"
     ]
    },
    {
     "name": "stdout",
     "output_type": "stream",
     "text": [
      "fit coeffs too far off [%] [-0.81662149  0.73087868 -0.02694518]\n",
      "fit coeffs too far off [%] [ 0.92940422 -0.57295077  0.00175848]\n"
     ]
    },
    {
     "name": "stderr",
     "output_type": "stream",
     "text": [
      "\u001b[A\n",
      " 41%|████      | 511/1261 [00:58<01:28,  8.48it/s]\u001b[A\n",
      " 41%|████      | 512/1261 [00:58<01:26,  8.65it/s]"
     ]
    },
    {
     "name": "stdout",
     "output_type": "stream",
     "text": [
      "fit coeffs too far off [%] [-2.03544245 -0.35570929  0.00261029]\n",
      "fit coeffs too far off [%] [  9.73941765e+01  -2.16364486e+00  -1.51634922e-02]\n"
     ]
    },
    {
     "name": "stderr",
     "output_type": "stream",
     "text": [
      "\u001b[A\n",
      " 41%|████      | 513/1261 [00:58<01:27,  8.51it/s]\u001b[A\n",
      " 41%|████      | 514/1261 [00:58<01:31,  8.14it/s]"
     ]
    },
    {
     "name": "stdout",
     "output_type": "stream",
     "text": [
      "fit coeffs too far off [%] [ 4.60280191  0.10845541  0.03436175]\n",
      "fit coeffs too far off [%] [-1.12706037 -1.05094431 -0.01000636]\n"
     ]
    },
    {
     "name": "stderr",
     "output_type": "stream",
     "text": [
      "\u001b[A\n",
      " 41%|████      | 515/1261 [00:59<01:28,  8.39it/s]\u001b[A\n",
      " 41%|████      | 516/1261 [00:59<01:26,  8.59it/s]"
     ]
    },
    {
     "name": "stdout",
     "output_type": "stream",
     "text": [
      "fit coeffs too far off [%] [ -2.99351825e+00   7.13986995e-01  -1.04162461e-03]\n",
      "fit coeffs too far off [%] [ -2.37145808e+00  -2.98634452e+00  -2.66075526e-03]\n"
     ]
    },
    {
     "name": "stderr",
     "output_type": "stream",
     "text": [
      "\u001b[A\n",
      " 41%|████      | 517/1261 [00:59<01:28,  8.43it/s]\u001b[A\n",
      " 41%|████      | 518/1261 [00:59<01:27,  8.52it/s]"
     ]
    },
    {
     "name": "stdout",
     "output_type": "stream",
     "text": [
      "fit coeffs too far off [%] [ -1.86071892 -18.08268335  -0.06934402]\n",
      "fit coeffs too far off [%] [ 0.77578067  0.82599659  0.00738842]\n"
     ]
    },
    {
     "name": "stderr",
     "output_type": "stream",
     "text": [
      "\u001b[A\n",
      " 41%|████      | 519/1261 [00:59<01:24,  8.74it/s]\u001b[A\n",
      " 41%|████      | 520/1261 [00:59<01:24,  8.81it/s]"
     ]
    },
    {
     "name": "stdout",
     "output_type": "stream",
     "text": [
      "fit coeffs too far off [%] [-1.17635789 -2.18016523 -0.07668335]\n",
      "fit coeffs too far off [%] [-0.7106204  -1.93790739  0.01958386]\n"
     ]
    },
    {
     "name": "stderr",
     "output_type": "stream",
     "text": [
      "\u001b[A\n",
      " 41%|████▏     | 521/1261 [00:59<01:22,  8.99it/s]\u001b[A\n",
      " 41%|████▏     | 522/1261 [00:59<01:25,  8.65it/s]"
     ]
    },
    {
     "name": "stdout",
     "output_type": "stream",
     "text": [
      "fit coeffs too far off [%] [-0.92755935 -1.05950595 -0.07585344]\n",
      "fit coeffs too far off [%] [ 0.46577847  0.95498735 -0.00619658]\n"
     ]
    },
    {
     "name": "stderr",
     "output_type": "stream",
     "text": [
      "\u001b[A\n",
      " 41%|████▏     | 523/1261 [01:00<01:23,  8.85it/s]\u001b[A\n",
      " 42%|████▏     | 524/1261 [01:00<01:22,  8.98it/s]"
     ]
    },
    {
     "name": "stdout",
     "output_type": "stream",
     "text": [
      "fit coeffs too far off [%] [-0.6774029  -0.8037221   0.01854878]\n"
     ]
    },
    {
     "name": "stderr",
     "output_type": "stream",
     "text": [
      "\u001b[A\n",
      " 42%|████▏     | 525/1261 [01:00<01:23,  8.79it/s]\u001b[A\n",
      " 42%|████▏     | 526/1261 [01:00<01:25,  8.62it/s]\u001b[A\n",
      " 42%|████▏     | 527/1261 [01:00<01:23,  8.78it/s]"
     ]
    },
    {
     "name": "stdout",
     "output_type": "stream",
     "text": [
      "fit coeffs too far off [%] [-1.95844044  2.68077369  0.02126593]\n",
      "fit coeffs too far off [%] [-3.51318209  2.80297559  0.02598967]\n"
     ]
    },
    {
     "name": "stderr",
     "output_type": "stream",
     "text": [
      "\u001b[A\n",
      " 42%|████▏     | 528/1261 [01:00<01:21,  8.98it/s]\u001b[A\n",
      " 42%|████▏     | 529/1261 [01:00<01:20,  9.14it/s]"
     ]
    },
    {
     "name": "stdout",
     "output_type": "stream",
     "text": [
      "fit coeffs too far off [%] [ 0.77447772  0.72457145  0.08002959]\n",
      "fit coeffs too far off [%] [ 0.52519863  0.56419236  0.08502854]\n",
      "fit coeffs too far off [%] [ 2.07873762 -0.19987942 -0.01043615]\n"
     ]
    },
    {
     "name": "stderr",
     "output_type": "stream",
     "text": [
      "\u001b[A\n",
      " 42%|████▏     | 530/1261 [01:00<01:23,  8.79it/s]\u001b[A\n",
      " 42%|████▏     | 531/1261 [01:00<01:26,  8.49it/s]"
     ]
    },
    {
     "name": "stdout",
     "output_type": "stream",
     "text": [
      "fit coeffs too far off [%] [ 1.10177839  1.25948147  0.24645725]\n",
      "fit coeffs too far off [%] [ 1.0927555  1.3329002  0.297296 ]\n",
      "fit coeffs too far off [%] [-3.43873549 -0.57582425 -0.01447777]\n"
     ]
    },
    {
     "name": "stderr",
     "output_type": "stream",
     "text": [
      "\u001b[A\n",
      " 42%|████▏     | 532/1261 [01:01<01:26,  8.42it/s]\u001b[A\n",
      " 42%|████▏     | 533/1261 [01:01<01:28,  8.24it/s]"
     ]
    },
    {
     "name": "stdout",
     "output_type": "stream",
     "text": [
      "fit coeffs too far off [%] [ 0.28377514  0.63432553  0.26247625]\n",
      "fit coeffs too far off [%] [ 0.88391721  1.33208381  0.42205322]\n"
     ]
    },
    {
     "name": "stderr",
     "output_type": "stream",
     "text": [
      "\u001b[A\n",
      " 42%|████▏     | 534/1261 [01:01<01:24,  8.57it/s]\u001b[A\n",
      " 42%|████▏     | 535/1261 [01:01<01:21,  8.88it/s]"
     ]
    },
    {
     "name": "stdout",
     "output_type": "stream",
     "text": [
      "fit coeffs too far off [%] [ 0.43287825  0.5019761   0.0096416 ]\n"
     ]
    },
    {
     "name": "stderr",
     "output_type": "stream",
     "text": [
      "\u001b[A\n",
      " 43%|████▎     | 536/1261 [01:01<01:20,  8.98it/s]\u001b[A\n",
      " 43%|████▎     | 537/1261 [01:01<01:19,  9.08it/s]"
     ]
    },
    {
     "name": "stdout",
     "output_type": "stream",
     "text": [
      "fit coeffs too far off [%] [-0.53552359 -0.54212022 -0.16434372]\n",
      "fit coeffs too far off [%] [-1.32473446 -1.19105835 -0.26480581]\n"
     ]
    },
    {
     "name": "stderr",
     "output_type": "stream",
     "text": [
      "\u001b[A\n",
      " 43%|████▎     | 538/1261 [01:01<01:17,  9.30it/s]\u001b[A\n",
      " 43%|████▎     | 539/1261 [01:01<01:17,  9.34it/s]\u001b[A\n",
      " 43%|████▎     | 540/1261 [01:01<01:16,  9.47it/s]"
     ]
    },
    {
     "name": "stdout",
     "output_type": "stream",
     "text": [
      "fit coeffs too far off [%] [-1.27570008 -0.84578696  0.00251507]\n",
      "fit coeffs too far off [%] [ 0.55127002  0.58110792  0.02652393]\n"
     ]
    },
    {
     "name": "stderr",
     "output_type": "stream",
     "text": [
      "\u001b[A\n",
      " 43%|████▎     | 541/1261 [01:02<01:15,  9.49it/s]\u001b[A\n",
      " 43%|████▎     | 542/1261 [01:02<01:15,  9.53it/s]"
     ]
    },
    {
     "name": "stdout",
     "output_type": "stream",
     "text": [
      "fit coeffs too far off [%] [-0.61287182 -0.53712104  0.04793311]\n",
      "fit coeffs too far off [%] [ 2.33084448  1.16945033  0.02683789]\n",
      "fit coeffs too far off [%] [ 3.41239319  1.15842129  0.01673588]\n"
     ]
    },
    {
     "name": "stderr",
     "output_type": "stream",
     "text": [
      "\u001b[A\n",
      " 43%|████▎     | 543/1261 [01:02<01:15,  9.47it/s]\u001b[A\n",
      " 43%|████▎     | 544/1261 [01:02<01:15,  9.44it/s]"
     ]
    },
    {
     "name": "stdout",
     "output_type": "stream",
     "text": [
      "fit coeffs too far off [%] [-0.67673314 -0.60281875  0.04339178]\n",
      "fit coeffs too far off [%] [ 3.86964163  1.35571982  0.02361193]\n",
      "fit coeffs too far off [%] [ 2.85673741  0.93687199  0.01015265]\n"
     ]
    },
    {
     "name": "stderr",
     "output_type": "stream",
     "text": [
      "\u001b[A\n",
      " 43%|████▎     | 545/1261 [01:02<01:20,  8.91it/s]\u001b[A"
     ]
    },
    {
     "name": "stdout",
     "output_type": "stream",
     "text": [
      "fit coeffs too far off [%] [-0.63522906 -0.55186197  0.05174338]\n",
      "fit coeffs too far off [%] [ 3.55095714  1.40662384  0.02851403]\n"
     ]
    },
    {
     "name": "stderr",
     "output_type": "stream",
     "text": [
      "\n",
      " 43%|████▎     | 547/1261 [01:02<01:16,  9.27it/s]\u001b[A\n",
      " 43%|████▎     | 548/1261 [01:02<01:15,  9.40it/s]\u001b[A\n",
      " 44%|████▎     | 549/1261 [01:02<01:18,  9.08it/s]"
     ]
    },
    {
     "name": "stdout",
     "output_type": "stream",
     "text": [
      "fit coeffs too far off [%] [-0.85909594 -0.69136805  0.09730769]\n",
      "fit coeffs too far off [%] [ 0.81105455  0.7130092  -0.10827025]\n"
     ]
    },
    {
     "name": "stderr",
     "output_type": "stream",
     "text": [
      "\u001b[A\n",
      " 44%|████▎     | 550/1261 [01:02<01:17,  9.23it/s]\u001b[A\n",
      " 44%|████▎     | 551/1261 [01:03<01:16,  9.29it/s]\u001b[A\n",
      " 44%|████▍     | 552/1261 [01:03<01:15,  9.41it/s]"
     ]
    },
    {
     "name": "stdout",
     "output_type": "stream",
     "text": [
      "fit coeffs too far off [%] [-0.74723151 -0.17459617  0.01750735]\n"
     ]
    },
    {
     "name": "stderr",
     "output_type": "stream",
     "text": [
      "\u001b[A\n",
      " 44%|████▍     | 553/1261 [01:03<01:14,  9.48it/s]\u001b[A\n",
      " 44%|████▍     | 554/1261 [01:03<01:13,  9.57it/s]"
     ]
    },
    {
     "name": "stdout",
     "output_type": "stream",
     "text": [
      "fit coeffs too far off [%] [-1.33169395 -0.39292457  0.0077037 ]\n",
      "fit coeffs too far off [%] [-1.02143221 -0.08630365  0.02310838]\n"
     ]
    },
    {
     "name": "stderr",
     "output_type": "stream",
     "text": [
      "\u001b[A\n",
      " 44%|████▍     | 555/1261 [01:03<01:16,  9.25it/s]\u001b[A\n",
      " 44%|████▍     | 556/1261 [01:03<01:18,  8.94it/s]\u001b[A\n",
      " 44%|████▍     | 557/1261 [01:03<01:16,  9.16it/s]\u001b[A\n",
      " 44%|████▍     | 558/1261 [01:03<01:14,  9.39it/s]"
     ]
    },
    {
     "name": "stdout",
     "output_type": "stream",
     "text": [
      "fit coeffs too far off [%] [-0.91444089 -0.25329511 -0.01042292]\n",
      "fit coeffs too far off [%] [-3.62298922 -0.77211727 -0.02510333]\n"
     ]
    },
    {
     "name": "stderr",
     "output_type": "stream",
     "text": [
      "\u001b[A\n",
      " 44%|████▍     | 559/1261 [01:03<01:15,  9.26it/s]\u001b[A\n",
      " 44%|████▍     | 560/1261 [01:04<01:14,  9.36it/s]"
     ]
    },
    {
     "name": "stdout",
     "output_type": "stream",
     "text": [
      "fit coeffs too far off [%] [-1.07596208  0.00746937  0.03017635]\n",
      "fit coeffs too far off [%] [-0.73091428 -0.13616828 -0.24708188]\n",
      "fit coeffs too far off [%] [-5.97160767 -0.09441016  0.08797785]\n"
     ]
    },
    {
     "name": "stderr",
     "output_type": "stream",
     "text": [
      "\u001b[A\n",
      " 44%|████▍     | 561/1261 [01:04<01:15,  9.33it/s]\u001b[A\n",
      " 45%|████▍     | 562/1261 [01:04<01:14,  9.38it/s]"
     ]
    },
    {
     "name": "stdout",
     "output_type": "stream",
     "text": [
      "fit coeffs too far off [%] [-0.29792518  0.24413306 -0.42054235]\n",
      "fit coeffs too far off [%] [-7.23401475 -0.08829188  0.10576968]\n",
      "fit coeffs too far off [%] [ 0.11241458  0.66141459 -0.63278863]\n"
     ]
    },
    {
     "name": "stderr",
     "output_type": "stream",
     "text": [
      "\u001b[A\n",
      " 45%|████▍     | 563/1261 [01:04<01:17,  8.98it/s]\u001b[A\n",
      " 45%|████▍     | 564/1261 [01:04<01:17,  9.04it/s]"
     ]
    },
    {
     "name": "stdout",
     "output_type": "stream",
     "text": [
      "fit coeffs too far off [%] [-0.25851222  0.06304237 -0.26485286]\n",
      "fit coeffs too far off [%] [-1.051016    0.82940184 -0.01705392]\n"
     ]
    },
    {
     "name": "stderr",
     "output_type": "stream",
     "text": [
      "\u001b[A\n",
      " 45%|████▍     | 565/1261 [01:04<01:16,  9.14it/s]\u001b[A\n",
      " 45%|████▍     | 566/1261 [01:04<01:15,  9.26it/s]"
     ]
    },
    {
     "name": "stdout",
     "output_type": "stream",
     "text": [
      "fit coeffs too far off [%] [ -2.14582604e-01   5.07915116e+01  -3.08405367e-02]\n",
      "fit coeffs too far off [%] [ 1.61665723  1.19704245 -0.34434616]\n"
     ]
    },
    {
     "name": "stderr",
     "output_type": "stream",
     "text": [
      "\u001b[A\n",
      " 45%|████▍     | 567/1261 [01:04<01:14,  9.30it/s]\u001b[A\n",
      " 45%|████▌     | 568/1261 [01:04<01:14,  9.25it/s]"
     ]
    },
    {
     "name": "stdout",
     "output_type": "stream",
     "text": [
      "fit coeffs too far off [%] [-0.7419699  -0.91169026  0.55384559]\n",
      "fit coeffs too far off [%] [-1.12588281 -0.9138307  -0.00223671]\n",
      "fit coeffs too far off [%] [-0.58646847 -0.75068551  0.50450232]\n"
     ]
    },
    {
     "name": "stderr",
     "output_type": "stream",
     "text": [
      "\u001b[A\n",
      " 45%|████▌     | 569/1261 [01:05<01:15,  9.21it/s]\u001b[A\n",
      " 45%|████▌     | 570/1261 [01:05<01:13,  9.36it/s]"
     ]
    },
    {
     "name": "stdout",
     "output_type": "stream",
     "text": [
      "fit coeffs too far off [%] [-0.89767075 -0.92389686  0.50499459]\n",
      "fit coeffs too far off [%] [-1.62124322 -1.27567173  0.02149188]\n",
      "fit coeffs too far off [%] [-0.7863499  -0.78977623  0.42194844]\n"
     ]
    },
    {
     "name": "stderr",
     "output_type": "stream",
     "text": [
      "\u001b[A\n",
      " 45%|████▌     | 571/1261 [01:05<01:13,  9.36it/s]\u001b[A\n",
      " 45%|████▌     | 572/1261 [01:05<01:12,  9.49it/s]"
     ]
    },
    {
     "name": "stdout",
     "output_type": "stream",
     "text": [
      "fit coeffs too far off [%] [ 3.98919338 -6.94452638  0.0170049 ]\n",
      "fit coeffs too far off [%] [-3.58207795  3.43300302 -0.03725319]\n"
     ]
    },
    {
     "name": "stderr",
     "output_type": "stream",
     "text": [
      "\u001b[A\n",
      " 45%|████▌     | 573/1261 [01:05<01:13,  9.38it/s]\u001b[A\n",
      " 46%|████▌     | 574/1261 [01:05<01:12,  9.47it/s]\u001b[A\n",
      " 46%|████▌     | 575/1261 [01:05<01:11,  9.58it/s]"
     ]
    },
    {
     "name": "stdout",
     "output_type": "stream",
     "text": [
      "fit coeffs too far off [%] [-0.8939313  -5.06290689  0.00749197]\n",
      "fit coeffs too far off [%] [-1.64283992 -1.30613152  0.23064571]\n",
      "fit coeffs too far off [%] [ -2.15474795 -15.45597005   0.01786355]\n"
     ]
    },
    {
     "name": "stderr",
     "output_type": "stream",
     "text": [
      "\u001b[A\n",
      " 46%|████▌     | 576/1261 [01:05<01:14,  9.19it/s]\u001b[A\n",
      " 46%|████▌     | 577/1261 [01:05<01:12,  9.41it/s]"
     ]
    },
    {
     "name": "stdout",
     "output_type": "stream",
     "text": [
      "fit coeffs too far off [%] [-1.82755713 -1.56091947  0.28801201]\n"
     ]
    },
    {
     "name": "stderr",
     "output_type": "stream",
     "text": [
      "\u001b[A\n",
      " 46%|████▌     | 578/1261 [01:05<01:12,  9.44it/s]\u001b[A\n",
      " 46%|████▌     | 579/1261 [01:06<01:11,  9.48it/s]\u001b[A\n",
      " 46%|████▌     | 581/1261 [01:06<01:09,  9.71it/s]\u001b[A\n",
      " 46%|████▌     | 582/1261 [01:06<01:13,  9.30it/s]\u001b[A\n",
      " 46%|████▌     | 583/1261 [01:06<01:15,  8.97it/s]\u001b[A\n",
      " 46%|████▋     | 584/1261 [01:06<01:14,  9.15it/s]"
     ]
    },
    {
     "name": "stdout",
     "output_type": "stream",
     "text": [
      "fit coeffs too far off [%] [-0.86043712 -0.80827296  0.24655059]\n",
      "lane too far away\n",
      "fit coeffs too far off [%] [-1.94860432 -1.38743354 -0.90563449]\n"
     ]
    },
    {
     "name": "stderr",
     "output_type": "stream",
     "text": [
      "\u001b[A\n",
      " 46%|████▋     | 585/1261 [01:06<01:12,  9.29it/s]\u001b[A\n",
      " 46%|████▋     | 586/1261 [01:06<01:14,  9.04it/s]"
     ]
    },
    {
     "name": "stdout",
     "output_type": "stream",
     "text": [
      "fit coeffs too far off [%] [-2.18494274 -1.46209284  0.21893208]\n",
      "lane too far away\n",
      "fit coeffs too far off [%] [-1.87592194 -1.3475515  -0.93047848]\n"
     ]
    },
    {
     "name": "stderr",
     "output_type": "stream",
     "text": [
      "\u001b[A\n",
      " 47%|████▋     | 587/1261 [01:06<01:13,  9.13it/s]\u001b[A\n",
      " 47%|████▋     | 588/1261 [01:07<01:13,  9.14it/s]"
     ]
    },
    {
     "name": "stdout",
     "output_type": "stream",
     "text": [
      "lane too far away\n",
      "fit coeffs too far off [%] [-3.27221521 -2.22108725 -0.74316372]\n",
      "lane too far away\n",
      "fit coeffs too far off [%] [-1.60139578 -1.29315509 -0.91298277]\n",
      "fit coeffs too far off [%] [ 0.76836898  0.74539461  0.02077561]\n"
     ]
    },
    {
     "name": "stderr",
     "output_type": "stream",
     "text": [
      "\u001b[A\n",
      " 47%|████▋     | 589/1261 [01:07<01:14,  9.02it/s]\u001b[A\n",
      " 47%|████▋     | 590/1261 [01:07<01:13,  9.09it/s]"
     ]
    },
    {
     "name": "stdout",
     "output_type": "stream",
     "text": [
      "lane too far away\n",
      "fit coeffs too far off [%] [ 0.74184055  0.76204955  0.02874678]\n"
     ]
    },
    {
     "name": "stderr",
     "output_type": "stream",
     "text": [
      "\u001b[A\n",
      " 47%|████▋     | 592/1261 [01:07<01:11,  9.36it/s]\u001b[A"
     ]
    },
    {
     "name": "stdout",
     "output_type": "stream",
     "text": [
      "fit coeffs too far off [%] [ 1.08170398  0.84952724 -0.04898013]\n"
     ]
    },
    {
     "name": "stderr",
     "output_type": "stream",
     "text": [
      "\n",
      " 47%|████▋     | 593/1261 [01:07<01:11,  9.34it/s]\u001b[A\n",
      " 47%|████▋     | 594/1261 [01:07<01:13,  9.12it/s]"
     ]
    },
    {
     "name": "stdout",
     "output_type": "stream",
     "text": [
      "fit coeffs too far off [%] [ 1.7250516   2.07144699  0.0114053 ]\n"
     ]
    },
    {
     "name": "stderr",
     "output_type": "stream",
     "text": [
      "\u001b[A\n",
      " 47%|████▋     | 595/1261 [01:07<01:12,  9.24it/s]\u001b[A\n",
      " 47%|████▋     | 596/1261 [01:07<01:11,  9.34it/s]"
     ]
    },
    {
     "name": "stdout",
     "output_type": "stream",
     "text": [
      "fit coeffs too far off [%] [ 0.35323224  0.61208422  0.0685723 ]\n",
      "fit coeffs too far off [%] [ 0.45805333  0.59221156  0.04432381]\n",
      "fit coeffs too far off [%] [ 0.82425866  0.85471048  0.06202565]\n"
     ]
    },
    {
     "name": "stderr",
     "output_type": "stream",
     "text": [
      "\u001b[A\n",
      " 47%|████▋     | 597/1261 [01:08<01:11,  9.31it/s]\u001b[A\n",
      " 47%|████▋     | 598/1261 [01:08<01:11,  9.33it/s]"
     ]
    },
    {
     "name": "stdout",
     "output_type": "stream",
     "text": [
      "fit coeffs too far off [%] [ 0.93732999  0.92691471  0.06938498]\n",
      "fit coeffs too far off [%] [ 0.94175617  0.92200215  0.07272068]\n"
     ]
    },
    {
     "name": "stderr",
     "output_type": "stream",
     "text": [
      "\u001b[A\n",
      " 48%|████▊     | 599/1261 [01:08<01:10,  9.45it/s]\u001b[A\n",
      " 48%|████▊     | 600/1261 [01:08<01:10,  9.40it/s]"
     ]
    },
    {
     "name": "stdout",
     "output_type": "stream",
     "text": [
      "fit coeffs too far off [%] [ 1.15728639  1.01703885  0.07832227]\n",
      "fit coeffs too far off [%] [ 1.76868488  1.19021289  0.07778193]\n"
     ]
    },
    {
     "name": "stderr",
     "output_type": "stream",
     "text": [
      "\u001b[A\n",
      " 48%|████▊     | 601/1261 [01:08<01:09,  9.43it/s]\u001b[A\n",
      " 48%|████▊     | 602/1261 [01:08<01:09,  9.49it/s]"
     ]
    },
    {
     "name": "stdout",
     "output_type": "stream",
     "text": [
      "fit coeffs too far off [%] [ 1.87796796  1.26958768  0.09321714]\n",
      "fit coeffs too far off [%] [ 1.42162742  1.11303536  0.10055768]\n"
     ]
    },
    {
     "name": "stderr",
     "output_type": "stream",
     "text": [
      "\u001b[A\n",
      " 48%|████▊     | 603/1261 [01:08<01:09,  9.53it/s]\u001b[A\n",
      " 48%|████▊     | 604/1261 [01:08<01:09,  9.48it/s]"
     ]
    },
    {
     "name": "stdout",
     "output_type": "stream",
     "text": [
      "fit coeffs too far off [%] [ 1.23969343  1.04421013  0.10329531]\n",
      "fit coeffs too far off [%] [ 1.15910727  0.99447413  0.0995569 ]\n"
     ]
    },
    {
     "name": "stderr",
     "output_type": "stream",
     "text": [
      "\u001b[A\n",
      " 48%|████▊     | 605/1261 [01:08<01:09,  9.50it/s]\u001b[A\n",
      " 48%|████▊     | 606/1261 [01:08<01:08,  9.53it/s]\u001b[A\n",
      " 48%|████▊     | 607/1261 [01:09<01:08,  9.60it/s]"
     ]
    },
    {
     "name": "stdout",
     "output_type": "stream",
     "text": [
      "fit coeffs too far off [%] [ 0.02146504  0.3885204   0.22003442]\n",
      "fit coeffs too far off [%] [ 0.77963686  1.56996021  0.57078531]\n"
     ]
    },
    {
     "name": "stderr",
     "output_type": "stream",
     "text": [
      "\u001b[A\n",
      " 48%|████▊     | 608/1261 [01:09<01:12,  9.02it/s]\u001b[A\n",
      " 48%|████▊     | 609/1261 [01:09<01:10,  9.21it/s]"
     ]
    },
    {
     "name": "stdout",
     "output_type": "stream",
     "text": [
      "fit coeffs too far off [%] [ 0.97359845  1.74663208  0.57568028]\n",
      "fit coeffs too far off [%] [ 1.13635066  1.83698314  0.56981485]\n"
     ]
    },
    {
     "name": "stderr",
     "output_type": "stream",
     "text": [
      "\u001b[A\n",
      " 48%|████▊     | 610/1261 [01:09<01:10,  9.22it/s]\u001b[A\n",
      " 48%|████▊     | 611/1261 [01:09<01:09,  9.42it/s]"
     ]
    },
    {
     "name": "stdout",
     "output_type": "stream",
     "text": [
      "fit coeffs too far off [%] [ 0.85692076  1.4316629   0.46910941]\n",
      "fit coeffs too far off [%] [ 0.74718482  1.21846293  0.39192594]\n"
     ]
    },
    {
     "name": "stderr",
     "output_type": "stream",
     "text": [
      "\u001b[A\n",
      " 49%|████▊     | 612/1261 [01:09<01:09,  9.37it/s]\u001b[A\n",
      " 49%|████▊     | 613/1261 [01:09<01:10,  9.17it/s]"
     ]
    },
    {
     "name": "stdout",
     "output_type": "stream",
     "text": [
      "fit coeffs too far off [%] [ 1.01284888  1.45711924  0.44459104]\n"
     ]
    },
    {
     "name": "stderr",
     "output_type": "stream",
     "text": [
      "\u001b[A\n",
      " 49%|████▊     | 614/1261 [01:09<01:10,  9.23it/s]\u001b[A\n",
      " 49%|████▉     | 616/1261 [01:10<01:08,  9.44it/s]\u001b[A\n",
      " 49%|████▉     | 617/1261 [01:10<01:07,  9.55it/s]\u001b[A\n",
      " 49%|████▉     | 618/1261 [01:10<01:06,  9.66it/s]\u001b[A\n",
      " 49%|████▉     | 620/1261 [01:10<01:05,  9.82it/s]\u001b[A\n",
      " 49%|████▉     | 621/1261 [01:10<01:05,  9.84it/s]\u001b[A\n",
      " 49%|████▉     | 622/1261 [01:10<01:05,  9.74it/s]\u001b[A\n",
      " 49%|████▉     | 624/1261 [01:10<01:05,  9.80it/s]\u001b[A\n",
      " 50%|████▉     | 625/1261 [01:10<01:04,  9.85it/s]\u001b[A\n",
      " 50%|████▉     | 627/1261 [01:11<01:03,  9.98it/s]\u001b[A\n",
      " 50%|████▉     | 629/1261 [01:11<01:03,  9.98it/s]\u001b[A\n",
      " 50%|████▉     | 630/1261 [01:11<01:04,  9.77it/s]\u001b[A\n",
      " 50%|█████     | 631/1261 [01:11<01:04,  9.80it/s]\u001b[A\n",
      " 50%|█████     | 632/1261 [01:11<01:04,  9.74it/s]\u001b[A\n",
      " 50%|█████     | 633/1261 [01:11<01:04,  9.76it/s]\u001b[A\n",
      " 50%|█████     | 634/1261 [01:11<01:04,  9.74it/s]\u001b[A\n",
      " 50%|█████     | 635/1261 [01:11<01:04,  9.64it/s]\u001b[A\n",
      " 50%|█████     | 636/1261 [01:12<01:08,  9.15it/s]\u001b[A\n",
      " 51%|█████     | 637/1261 [01:12<01:06,  9.36it/s]\u001b[A\n",
      " 51%|█████     | 638/1261 [01:12<01:05,  9.48it/s]\u001b[A\n",
      " 51%|█████     | 639/1261 [01:12<01:05,  9.43it/s]\u001b[A\n",
      " 51%|█████     | 640/1261 [01:12<01:05,  9.45it/s]\u001b[A\n",
      " 51%|█████     | 641/1261 [01:12<01:07,  9.19it/s]\u001b[A\n",
      " 51%|█████     | 642/1261 [01:12<01:06,  9.28it/s]\u001b[A\n",
      " 51%|█████     | 643/1261 [01:12<01:05,  9.45it/s]\u001b[A\n",
      " 51%|█████     | 644/1261 [01:12<01:06,  9.34it/s]\u001b[A\n",
      " 51%|█████     | 645/1261 [01:13<01:05,  9.37it/s]\u001b[A\n",
      " 51%|█████     | 646/1261 [01:13<01:06,  9.29it/s]\u001b[A\n",
      " 51%|█████▏    | 647/1261 [01:13<01:05,  9.40it/s]\u001b[A\n",
      " 51%|█████▏    | 648/1261 [01:13<01:04,  9.52it/s]\u001b[A\n",
      " 51%|█████▏    | 649/1261 [01:13<01:03,  9.58it/s]\u001b[A\n",
      " 52%|█████▏    | 650/1261 [01:13<01:07,  9.03it/s]\u001b[A\n",
      " 52%|█████▏    | 651/1261 [01:13<01:06,  9.22it/s]\u001b[A\n",
      " 52%|█████▏    | 652/1261 [01:13<01:05,  9.35it/s]\u001b[A\n",
      " 52%|█████▏    | 654/1261 [01:13<01:03,  9.49it/s]\u001b[A\n",
      " 52%|█████▏    | 655/1261 [01:14<01:03,  9.50it/s]\u001b[A\n",
      " 52%|█████▏    | 656/1261 [01:14<01:03,  9.58it/s]\u001b[A\n",
      " 52%|█████▏    | 657/1261 [01:14<01:05,  9.25it/s]\u001b[A\n",
      " 52%|█████▏    | 658/1261 [01:14<01:04,  9.31it/s]\u001b[A\n",
      " 52%|█████▏    | 659/1261 [01:14<01:03,  9.44it/s]\u001b[A\n",
      " 52%|█████▏    | 660/1261 [01:14<01:03,  9.53it/s]\u001b[A\n",
      " 52%|█████▏    | 661/1261 [01:14<01:02,  9.62it/s]\u001b[A\n",
      " 52%|█████▏    | 662/1261 [01:14<01:05,  9.12it/s]\u001b[A\n",
      " 53%|█████▎    | 663/1261 [01:14<01:07,  8.87it/s]\u001b[A\n",
      " 53%|█████▎    | 664/1261 [01:15<01:05,  9.08it/s]\u001b[A\n",
      " 53%|█████▎    | 665/1261 [01:15<01:04,  9.22it/s]\u001b[A\n",
      " 53%|█████▎    | 666/1261 [01:15<01:04,  9.21it/s]\u001b[A\n",
      " 53%|█████▎    | 667/1261 [01:15<01:03,  9.32it/s]\u001b[A\n",
      " 53%|█████▎    | 668/1261 [01:15<01:03,  9.40it/s]\u001b[A\n",
      " 53%|█████▎    | 669/1261 [01:15<01:06,  8.91it/s]\u001b[A\n",
      " 53%|█████▎    | 670/1261 [01:15<01:04,  9.20it/s]\u001b[A\n",
      " 53%|█████▎    | 671/1261 [01:15<01:06,  8.87it/s]\u001b[A\n",
      " 53%|█████▎    | 672/1261 [01:15<01:04,  9.07it/s]\u001b[A\n",
      " 53%|█████▎    | 673/1261 [01:16<01:06,  8.84it/s]\u001b[A\n",
      " 53%|█████▎    | 674/1261 [01:16<01:05,  8.98it/s]\u001b[A\n",
      " 54%|█████▎    | 675/1261 [01:16<01:03,  9.22it/s]\u001b[A\n",
      " 54%|█████▎    | 676/1261 [01:16<01:02,  9.37it/s]\u001b[A\n",
      " 54%|█████▎    | 677/1261 [01:16<01:02,  9.39it/s]\u001b[A\n",
      " 54%|█████▍    | 678/1261 [01:16<01:01,  9.49it/s]\u001b[A\n",
      " 54%|█████▍    | 679/1261 [01:16<01:04,  9.01it/s]\u001b[A\n",
      " 54%|█████▍    | 680/1261 [01:16<01:04,  9.06it/s]\u001b[A\n",
      " 54%|█████▍    | 681/1261 [01:16<01:03,  9.18it/s]\u001b[A\n",
      " 54%|█████▍    | 682/1261 [01:17<01:04,  8.94it/s]\u001b[A\n",
      " 54%|█████▍    | 683/1261 [01:17<01:03,  9.06it/s]\u001b[A\n",
      " 54%|█████▍    | 684/1261 [01:17<01:02,  9.26it/s]\u001b[A\n",
      " 54%|█████▍    | 685/1261 [01:17<01:02,  9.23it/s]\u001b[A\n",
      " 54%|█████▍    | 686/1261 [01:17<01:03,  9.12it/s]\u001b[A\n",
      " 55%|█████▍    | 688/1261 [01:17<01:02,  9.24it/s]\u001b[A\n",
      " 55%|█████▍    | 689/1261 [01:17<01:03,  9.02it/s]\u001b[A\n",
      " 55%|█████▍    | 690/1261 [01:17<01:02,  9.09it/s]\u001b[A\n",
      " 55%|█████▍    | 691/1261 [01:18<01:01,  9.22it/s]\u001b[A\n",
      " 55%|█████▍    | 692/1261 [01:18<01:01,  9.31it/s]\u001b[A\n",
      " 55%|█████▍    | 693/1261 [01:18<01:00,  9.39it/s]\u001b[A\n",
      " 55%|█████▌    | 695/1261 [01:18<00:59,  9.59it/s]\u001b[A\n",
      " 55%|█████▌    | 696/1261 [01:18<00:59,  9.54it/s]\u001b[A\n",
      " 55%|█████▌    | 697/1261 [01:18<00:58,  9.63it/s]\u001b[A\n",
      " 55%|█████▌    | 698/1261 [01:18<00:58,  9.65it/s]\u001b[A\n",
      " 55%|█████▌    | 699/1261 [01:18<00:58,  9.68it/s]\u001b[A\n",
      " 56%|█████▌    | 700/1261 [01:18<00:59,  9.39it/s]\u001b[A\n",
      " 56%|█████▌    | 701/1261 [01:19<00:59,  9.45it/s]\u001b[A\n",
      " 56%|█████▌    | 702/1261 [01:19<01:00,  9.20it/s]\u001b[A\n",
      " 56%|█████▌    | 703/1261 [01:19<01:01,  9.13it/s]\u001b[A\n",
      " 56%|█████▌    | 704/1261 [01:19<01:00,  9.18it/s]\u001b[A\n",
      " 56%|█████▌    | 705/1261 [01:19<01:00,  9.18it/s]\u001b[A\n",
      " 56%|█████▌    | 706/1261 [01:19<00:59,  9.35it/s]\u001b[A\n",
      " 56%|█████▌    | 707/1261 [01:19<00:58,  9.52it/s]\u001b[A\n",
      " 56%|█████▌    | 708/1261 [01:19<00:58,  9.43it/s]\u001b[A\n",
      " 56%|█████▋    | 710/1261 [01:20<00:58,  9.40it/s]\u001b[A\n",
      " 56%|█████▋    | 711/1261 [01:20<00:58,  9.36it/s]\u001b[A\n",
      " 56%|█████▋    | 712/1261 [01:20<00:58,  9.37it/s]\u001b[A\n",
      " 57%|█████▋    | 713/1261 [01:20<00:57,  9.46it/s]\u001b[A\n",
      " 57%|█████▋    | 714/1261 [01:20<00:57,  9.57it/s]\u001b[A\n",
      " 57%|█████▋    | 715/1261 [01:20<00:57,  9.57it/s]\u001b[A\n",
      " 57%|█████▋    | 716/1261 [01:20<00:56,  9.58it/s]\u001b[A\n",
      " 57%|█████▋    | 717/1261 [01:20<00:59,  9.13it/s]\u001b[A\n",
      " 57%|█████▋    | 718/1261 [01:20<00:58,  9.29it/s]\u001b[A\n",
      " 57%|█████▋    | 719/1261 [01:20<00:57,  9.37it/s]\u001b[A\n",
      " 57%|█████▋    | 720/1261 [01:21<01:00,  8.99it/s]\u001b[A\n",
      " 57%|█████▋    | 721/1261 [01:21<00:59,  9.09it/s]\u001b[A\n",
      " 57%|█████▋    | 722/1261 [01:21<00:58,  9.20it/s]\u001b[A\n",
      " 57%|█████▋    | 723/1261 [01:21<00:58,  9.27it/s]\u001b[A\n",
      " 57%|█████▋    | 724/1261 [01:21<00:57,  9.31it/s]\u001b[A\n",
      " 57%|█████▋    | 725/1261 [01:21<00:57,  9.28it/s]\u001b[A\n",
      " 58%|█████▊    | 726/1261 [01:21<00:56,  9.41it/s]\u001b[A\n",
      " 58%|█████▊    | 727/1261 [01:21<00:58,  9.13it/s]\u001b[A\n",
      " 58%|█████▊    | 728/1261 [01:21<00:58,  9.18it/s]\u001b[A\n",
      " 58%|█████▊    | 729/1261 [01:22<00:58,  9.09it/s]\u001b[A\n",
      " 58%|█████▊    | 730/1261 [01:22<00:58,  9.13it/s]\u001b[A\n",
      " 58%|█████▊    | 731/1261 [01:22<00:58,  9.12it/s]\u001b[A\n",
      " 58%|█████▊    | 732/1261 [01:22<00:57,  9.23it/s]\u001b[A\n",
      " 58%|█████▊    | 733/1261 [01:22<00:58,  8.99it/s]\u001b[A\n",
      " 58%|█████▊    | 734/1261 [01:22<00:57,  9.22it/s]\u001b[A\n",
      " 58%|█████▊    | 735/1261 [01:22<00:55,  9.42it/s]\u001b[A\n",
      " 58%|█████▊    | 736/1261 [01:22<00:54,  9.56it/s]\u001b[A\n",
      " 59%|█████▊    | 738/1261 [01:23<00:54,  9.59it/s]\u001b[A\n",
      " 59%|█████▊    | 739/1261 [01:23<00:53,  9.69it/s]\u001b[A\n",
      " 59%|█████▊    | 740/1261 [01:23<00:53,  9.72it/s]\u001b[A\n",
      " 59%|█████▉    | 742/1261 [01:23<00:52,  9.80it/s]\u001b[A\n",
      " 59%|█████▉    | 744/1261 [01:23<00:52,  9.89it/s]\u001b[A\n",
      " 59%|█████▉    | 745/1261 [01:23<00:52,  9.91it/s]\u001b[A\n",
      " 59%|█████▉    | 746/1261 [01:23<00:52,  9.79it/s]\u001b[A\n",
      " 59%|█████▉    | 747/1261 [01:23<00:52,  9.70it/s]\u001b[A\n",
      " 59%|█████▉    | 748/1261 [01:24<00:53,  9.60it/s]\u001b[A\n",
      " 59%|█████▉    | 749/1261 [01:24<00:53,  9.66it/s]\u001b[A\n",
      " 59%|█████▉    | 750/1261 [01:24<00:52,  9.71it/s]\u001b[A\n",
      " 60%|█████▉    | 751/1261 [01:24<00:52,  9.75it/s]\u001b[A\n",
      " 60%|█████▉    | 752/1261 [01:24<00:52,  9.64it/s]\u001b[A\n",
      " 60%|█████▉    | 753/1261 [01:24<00:54,  9.25it/s]\u001b[A\n",
      " 60%|█████▉    | 754/1261 [01:24<00:54,  9.34it/s]\u001b[A\n",
      " 60%|█████▉    | 755/1261 [01:24<00:53,  9.46it/s]\u001b[A\n",
      " 60%|█████▉    | 756/1261 [01:24<00:55,  9.09it/s]\u001b[A\n",
      " 60%|██████    | 757/1261 [01:25<00:57,  8.78it/s]\u001b[A\n",
      " 60%|██████    | 758/1261 [01:25<00:55,  9.03it/s]\u001b[A\n",
      " 60%|██████    | 760/1261 [01:25<00:54,  9.18it/s]\u001b[A\n",
      " 60%|██████    | 761/1261 [01:25<00:56,  8.87it/s]\u001b[A\n",
      " 60%|██████    | 762/1261 [01:25<00:54,  9.09it/s]\u001b[A\n",
      " 61%|██████    | 764/1261 [01:25<00:53,  9.31it/s]\u001b[A\n",
      " 61%|██████    | 766/1261 [01:25<00:51,  9.54it/s]\u001b[A\n",
      " 61%|██████    | 767/1261 [01:26<00:53,  9.20it/s]\u001b[A\n",
      " 61%|██████    | 768/1261 [01:26<00:54,  9.13it/s]\u001b[A\n",
      " 61%|██████    | 769/1261 [01:26<00:52,  9.30it/s]\u001b[A\n",
      " 61%|██████    | 770/1261 [01:26<00:51,  9.46it/s]\u001b[A\n",
      " 61%|██████    | 771/1261 [01:26<00:52,  9.27it/s]\u001b[A\n",
      " 61%|██████    | 772/1261 [01:26<00:52,  9.27it/s]\u001b[A\n",
      " 61%|██████▏   | 773/1261 [01:26<00:51,  9.41it/s]\u001b[A\n",
      " 61%|██████▏   | 774/1261 [01:26<00:51,  9.45it/s]\u001b[A\n",
      " 61%|██████▏   | 775/1261 [01:26<00:51,  9.50it/s]\u001b[A\n",
      " 62%|██████▏   | 776/1261 [01:27<00:50,  9.52it/s]\u001b[A\n",
      " 62%|██████▏   | 777/1261 [01:27<00:50,  9.52it/s]\u001b[A\n",
      " 62%|██████▏   | 778/1261 [01:27<00:50,  9.50it/s]\u001b[A\n",
      " 62%|██████▏   | 779/1261 [01:27<00:50,  9.56it/s]\u001b[A\n"
     ]
    },
    {
     "name": "stderr",
     "output_type": "stream",
     "text": [
      " 62%|██████▏   | 780/1261 [01:27<00:53,  9.03it/s]\u001b[A\n",
      " 62%|██████▏   | 781/1261 [01:27<00:51,  9.25it/s]\u001b[A\n",
      " 62%|██████▏   | 782/1261 [01:27<00:50,  9.41it/s]\u001b[A\n",
      " 62%|██████▏   | 783/1261 [01:27<00:50,  9.56it/s]\u001b[A\n",
      " 62%|██████▏   | 784/1261 [01:27<00:49,  9.61it/s]\u001b[A\n",
      " 62%|██████▏   | 785/1261 [01:27<00:49,  9.66it/s]\u001b[A\n",
      " 62%|██████▏   | 786/1261 [01:28<00:51,  9.23it/s]\u001b[A\n",
      " 62%|██████▏   | 787/1261 [01:28<00:50,  9.40it/s]\u001b[A\n",
      " 62%|██████▏   | 788/1261 [01:28<00:49,  9.50it/s]\u001b[A\n",
      " 63%|██████▎   | 789/1261 [01:28<00:49,  9.63it/s]\u001b[A\n",
      " 63%|██████▎   | 790/1261 [01:28<00:48,  9.66it/s]\u001b[A\n",
      " 63%|██████▎   | 791/1261 [01:28<00:48,  9.68it/s]\u001b[A\n",
      " 63%|██████▎   | 792/1261 [01:28<00:51,  9.14it/s]\u001b[A\n",
      " 63%|██████▎   | 793/1261 [01:28<00:53,  8.74it/s]\u001b[A\n",
      " 63%|██████▎   | 794/1261 [01:28<00:52,  8.95it/s]\u001b[A\n",
      " 63%|██████▎   | 795/1261 [01:29<00:50,  9.15it/s]\u001b[A\n",
      " 63%|██████▎   | 796/1261 [01:29<00:50,  9.19it/s]\u001b[A\n",
      " 63%|██████▎   | 797/1261 [01:29<00:52,  8.89it/s]\u001b[A\n",
      " 63%|██████▎   | 798/1261 [01:29<00:51,  9.07it/s]\u001b[A\n",
      " 63%|██████▎   | 799/1261 [01:29<00:49,  9.31it/s]\u001b[A\n",
      " 63%|██████▎   | 800/1261 [01:29<00:49,  9.41it/s]\u001b[A\n",
      " 64%|██████▎   | 801/1261 [01:29<00:49,  9.39it/s]\u001b[A\n",
      " 64%|██████▎   | 802/1261 [01:29<00:48,  9.38it/s]\u001b[A\n",
      " 64%|██████▎   | 803/1261 [01:29<00:48,  9.48it/s]\u001b[A\n",
      " 64%|██████▍   | 804/1261 [01:30<00:50,  8.97it/s]\u001b[A\n",
      " 64%|██████▍   | 805/1261 [01:30<00:50,  9.00it/s]\u001b[A\n",
      " 64%|██████▍   | 806/1261 [01:30<00:49,  9.21it/s]"
     ]
    },
    {
     "name": "stdout",
     "output_type": "stream",
     "text": [
      "fit coeffs too far off [%] [ 0.70553044  0.24317588 -0.00527843]\n",
      "fit coeffs too far off [%] [ 0.74701667  0.27236248 -0.00469817]\n"
     ]
    },
    {
     "name": "stderr",
     "output_type": "stream",
     "text": [
      "\u001b[A\n",
      " 64%|██████▍   | 807/1261 [01:30<00:50,  8.92it/s]\u001b[A\n",
      " 64%|██████▍   | 808/1261 [01:30<00:50,  9.02it/s]"
     ]
    },
    {
     "name": "stdout",
     "output_type": "stream",
     "text": [
      "fit coeffs too far off [%] [ 0.78795358  0.29329328 -0.0033384 ]\n",
      "fit coeffs too far off [%] [ 0.87655104  0.33420951 -0.00312081]\n"
     ]
    },
    {
     "name": "stderr",
     "output_type": "stream",
     "text": [
      "\u001b[A\n",
      " 64%|██████▍   | 809/1261 [01:30<00:49,  9.14it/s]\u001b[A\n",
      " 64%|██████▍   | 810/1261 [01:30<00:49,  9.03it/s]"
     ]
    },
    {
     "name": "stdout",
     "output_type": "stream",
     "text": [
      "fit coeffs too far off [%] [ 0.78450934  0.29800606 -0.00180213]\n",
      "fit coeffs too far off [%] [ 0.79659094  0.31689688  0.00372249]\n"
     ]
    },
    {
     "name": "stderr",
     "output_type": "stream",
     "text": [
      "\u001b[A\n",
      " 64%|██████▍   | 811/1261 [01:30<00:51,  8.79it/s]\u001b[A\n",
      " 64%|██████▍   | 812/1261 [01:30<00:49,  9.01it/s]"
     ]
    },
    {
     "name": "stdout",
     "output_type": "stream",
     "text": [
      "fit coeffs too far off [%] [ 0.83049781  0.33691766  0.00580257]\n",
      "fit coeffs too far off [%] [ 0.71552342  0.31591274  0.01289969]\n"
     ]
    },
    {
     "name": "stderr",
     "output_type": "stream",
     "text": [
      "\u001b[A\n",
      " 64%|██████▍   | 813/1261 [01:31<00:51,  8.67it/s]\u001b[A\n",
      " 65%|██████▍   | 814/1261 [01:31<00:49,  8.94it/s]\u001b[A\n",
      " 65%|██████▍   | 815/1261 [01:31<00:49,  8.99it/s]\u001b[A\n",
      " 65%|██████▍   | 816/1261 [01:31<00:50,  8.86it/s]\u001b[A\n",
      " 65%|██████▍   | 817/1261 [01:31<00:48,  9.08it/s]\u001b[A\n",
      " 65%|██████▍   | 818/1261 [01:31<00:47,  9.31it/s]\u001b[A\n",
      " 65%|██████▌   | 820/1261 [01:31<00:46,  9.47it/s]\u001b[A\n",
      " 65%|██████▌   | 821/1261 [01:31<00:46,  9.42it/s]\u001b[A\n",
      " 65%|██████▌   | 822/1261 [01:32<00:46,  9.48it/s]\u001b[A\n",
      " 65%|██████▌   | 823/1261 [01:32<00:45,  9.57it/s]\u001b[A\n",
      " 65%|██████▌   | 824/1261 [01:32<00:46,  9.40it/s]\u001b[A\n",
      " 65%|██████▌   | 825/1261 [01:32<00:46,  9.42it/s]\u001b[A\n",
      " 66%|██████▌   | 826/1261 [01:32<00:45,  9.51it/s]\u001b[A\n",
      " 66%|██████▌   | 827/1261 [01:32<00:45,  9.48it/s]\u001b[A\n",
      " 66%|██████▌   | 828/1261 [01:32<00:45,  9.54it/s]\u001b[A\n",
      " 66%|██████▌   | 829/1261 [01:32<00:44,  9.65it/s]\u001b[A\n",
      " 66%|██████▌   | 830/1261 [01:32<00:45,  9.44it/s]\u001b[A\n",
      " 66%|██████▌   | 831/1261 [01:32<00:45,  9.38it/s]\u001b[A\n",
      " 66%|██████▌   | 832/1261 [01:33<00:45,  9.50it/s]\u001b[A\n",
      " 66%|██████▌   | 833/1261 [01:33<00:44,  9.53it/s]\u001b[A\n",
      " 66%|██████▌   | 834/1261 [01:33<00:45,  9.46it/s]\u001b[A\n",
      " 66%|██████▌   | 835/1261 [01:33<00:44,  9.47it/s]\u001b[A\n",
      " 66%|██████▋   | 836/1261 [01:33<00:44,  9.58it/s]\u001b[A\n",
      " 66%|██████▋   | 838/1261 [01:33<00:43,  9.74it/s]\u001b[A\n",
      " 67%|██████▋   | 839/1261 [01:33<00:43,  9.62it/s]\u001b[A\n",
      " 67%|██████▋   | 840/1261 [01:33<00:43,  9.67it/s]\u001b[A\n",
      " 67%|██████▋   | 841/1261 [01:34<00:45,  9.19it/s]\u001b[A\n",
      " 67%|██████▋   | 842/1261 [01:34<00:45,  9.29it/s]\u001b[A\n",
      " 67%|██████▋   | 843/1261 [01:34<00:44,  9.38it/s]\u001b[A\n",
      " 67%|██████▋   | 845/1261 [01:34<00:43,  9.51it/s]\u001b[A\n",
      " 67%|██████▋   | 847/1261 [01:34<00:42,  9.63it/s]\u001b[A\n",
      " 67%|██████▋   | 848/1261 [01:34<00:42,  9.61it/s]\u001b[A\n",
      " 67%|██████▋   | 849/1261 [01:34<00:42,  9.65it/s]\u001b[A\n",
      " 67%|██████▋   | 850/1261 [01:34<00:44,  9.22it/s]\u001b[A\n",
      " 67%|██████▋   | 851/1261 [01:35<00:46,  8.80it/s]\u001b[A\n",
      " 68%|██████▊   | 852/1261 [01:35<00:45,  8.91it/s]\u001b[A\n",
      " 68%|██████▊   | 853/1261 [01:35<00:44,  9.11it/s]\u001b[A\n",
      " 68%|██████▊   | 854/1261 [01:35<00:44,  9.18it/s]\u001b[A\n",
      " 68%|██████▊   | 855/1261 [01:35<00:43,  9.30it/s]\u001b[A\n",
      " 68%|██████▊   | 856/1261 [01:35<00:43,  9.35it/s]\u001b[A\n",
      " 68%|██████▊   | 857/1261 [01:35<00:42,  9.48it/s]\u001b[A\n",
      " 68%|██████▊   | 858/1261 [01:35<00:42,  9.46it/s]\u001b[A\n",
      " 68%|██████▊   | 859/1261 [01:35<00:42,  9.50it/s]\u001b[A\n",
      " 68%|██████▊   | 860/1261 [01:36<00:41,  9.55it/s]\u001b[A\n",
      " 68%|██████▊   | 861/1261 [01:36<00:42,  9.43it/s]\u001b[A\n",
      " 68%|██████▊   | 862/1261 [01:36<00:42,  9.30it/s]\u001b[A\n",
      " 68%|██████▊   | 863/1261 [01:36<00:42,  9.38it/s]\u001b[A\n",
      " 69%|██████▊   | 865/1261 [01:36<00:41,  9.54it/s]\u001b[A\n",
      " 69%|██████▊   | 866/1261 [01:36<00:43,  9.10it/s]\u001b[A\n",
      " 69%|██████▉   | 867/1261 [01:36<00:43,  9.00it/s]\u001b[A\n",
      " 69%|██████▉   | 868/1261 [01:36<00:42,  9.16it/s]\u001b[A\n",
      " 69%|██████▉   | 869/1261 [01:37<00:42,  9.31it/s]\u001b[A\n",
      " 69%|██████▉   | 870/1261 [01:37<00:42,  9.20it/s]\u001b[A\n",
      " 69%|██████▉   | 871/1261 [01:37<00:42,  9.26it/s]\u001b[A\n",
      " 69%|██████▉   | 872/1261 [01:37<00:44,  8.82it/s]\u001b[A\n",
      " 69%|██████▉   | 873/1261 [01:37<00:42,  9.08it/s]\u001b[A\n",
      " 69%|██████▉   | 874/1261 [01:37<00:42,  9.21it/s]\u001b[A\n",
      " 69%|██████▉   | 875/1261 [01:37<00:43,  8.87it/s]\u001b[A\n",
      " 69%|██████▉   | 876/1261 [01:37<00:42,  9.01it/s]"
     ]
    },
    {
     "name": "stdout",
     "output_type": "stream",
     "text": [
      "fit coeffs too far off [%] [-0.75667162 -0.29032455 -0.02428817]\n"
     ]
    },
    {
     "name": "stderr",
     "output_type": "stream",
     "text": [
      "\u001b[A\n",
      " 70%|██████▉   | 877/1261 [01:37<00:44,  8.70it/s]\u001b[A\n",
      " 70%|██████▉   | 878/1261 [01:38<00:43,  8.76it/s]\u001b[A\n",
      " 70%|██████▉   | 879/1261 [01:38<00:42,  9.00it/s]\u001b[A\n",
      " 70%|██████▉   | 880/1261 [01:38<00:41,  9.16it/s]\u001b[A\n",
      " 70%|██████▉   | 881/1261 [01:38<00:41,  9.15it/s]\u001b[A\n",
      " 70%|██████▉   | 882/1261 [01:38<00:40,  9.27it/s]\u001b[A\n",
      " 70%|███████   | 883/1261 [01:38<00:42,  8.90it/s]\u001b[A\n",
      " 70%|███████   | 884/1261 [01:38<00:41,  9.07it/s]\u001b[A\n",
      " 70%|███████   | 885/1261 [01:38<00:41,  9.05it/s]\u001b[A\n",
      " 70%|███████   | 886/1261 [01:38<00:40,  9.16it/s]\u001b[A\n",
      " 70%|███████   | 887/1261 [01:38<00:40,  9.24it/s]\u001b[A\n",
      " 70%|███████   | 888/1261 [01:39<00:39,  9.35it/s]\u001b[A\n",
      " 70%|███████   | 889/1261 [01:39<00:39,  9.32it/s]\u001b[A\n",
      " 71%|███████   | 890/1261 [01:39<00:39,  9.28it/s]\u001b[A\n",
      " 71%|███████   | 891/1261 [01:39<00:40,  9.23it/s]\u001b[A\n",
      " 71%|███████   | 892/1261 [01:39<00:39,  9.44it/s]\u001b[A\n",
      " 71%|███████   | 893/1261 [01:39<00:38,  9.50it/s]\u001b[A\n",
      " 71%|███████   | 894/1261 [01:39<00:38,  9.51it/s]\u001b[A\n",
      " 71%|███████   | 895/1261 [01:39<00:40,  8.98it/s]\u001b[A\n",
      " 71%|███████   | 896/1261 [01:39<00:39,  9.21it/s]\u001b[A\n",
      " 71%|███████   | 897/1261 [01:40<00:39,  9.25it/s]\u001b[A\n",
      " 71%|███████   | 898/1261 [01:40<00:41,  8.80it/s]\u001b[A\n",
      " 71%|███████▏  | 899/1261 [01:40<00:40,  9.02it/s]\u001b[A\n",
      " 71%|███████▏  | 900/1261 [01:40<00:39,  9.03it/s]\u001b[A\n",
      " 71%|███████▏  | 901/1261 [01:40<00:38,  9.25it/s]\u001b[A\n",
      " 72%|███████▏  | 902/1261 [01:40<00:38,  9.27it/s]"
     ]
    },
    {
     "name": "stdout",
     "output_type": "stream",
     "text": [
      "fit coeffs too far off [%] [ 0.74369553  0.2910379   0.02578974]\n",
      "fit coeffs too far off [%] [ 0.76139921  0.30371198  0.03003071]\n"
     ]
    },
    {
     "name": "stderr",
     "output_type": "stream",
     "text": [
      "\u001b[A\n",
      " 72%|███████▏  | 903/1261 [01:40<00:38,  9.24it/s]\u001b[A\n",
      " 72%|███████▏  | 904/1261 [01:40<00:38,  9.19it/s]"
     ]
    },
    {
     "name": "stdout",
     "output_type": "stream",
     "text": [
      "fit coeffs too far off [%] [ 0.76417987  0.31020622  0.03192506]\n",
      "fit coeffs too far off [%] [ 0.87929401  0.36720788  0.04080972]\n"
     ]
    },
    {
     "name": "stderr",
     "output_type": "stream",
     "text": [
      "\u001b[A\n",
      " 72%|███████▏  | 905/1261 [01:40<00:38,  9.26it/s]\u001b[A\n",
      " 72%|███████▏  | 906/1261 [01:41<00:38,  9.26it/s]\u001b[A\n",
      " 72%|███████▏  | 907/1261 [01:41<00:38,  9.09it/s]\u001b[A\n",
      " 72%|███████▏  | 908/1261 [01:41<00:38,  9.23it/s]\u001b[A\n",
      " 72%|███████▏  | 909/1261 [01:41<00:37,  9.38it/s]\u001b[A\n",
      " 72%|███████▏  | 910/1261 [01:41<00:37,  9.35it/s]\u001b[A\n",
      " 72%|███████▏  | 911/1261 [01:41<00:37,  9.41it/s]\u001b[A\n",
      " 72%|███████▏  | 912/1261 [01:41<00:37,  9.41it/s]\u001b[A\n",
      " 72%|███████▏  | 913/1261 [01:41<00:36,  9.52it/s]\u001b[A\n",
      " 72%|███████▏  | 914/1261 [01:41<00:36,  9.50it/s]\u001b[A\n",
      " 73%|███████▎  | 915/1261 [01:42<00:36,  9.58it/s]\u001b[A\n",
      " 73%|███████▎  | 916/1261 [01:42<00:35,  9.63it/s]\u001b[A\n",
      " 73%|███████▎  | 917/1261 [01:42<00:35,  9.58it/s]\u001b[A\n",
      " 73%|███████▎  | 918/1261 [01:42<00:36,  9.40it/s]\u001b[A\n",
      " 73%|███████▎  | 919/1261 [01:42<00:36,  9.42it/s]\u001b[A\n",
      " 73%|███████▎  | 920/1261 [01:42<00:37,  9.02it/s]"
     ]
    },
    {
     "name": "stdout",
     "output_type": "stream",
     "text": [
      "fit coeffs too far off [%] [-0.70320759 -0.28930872 -0.02631428]\n"
     ]
    },
    {
     "name": "stderr",
     "output_type": "stream",
     "text": [
      "\u001b[A\n",
      " 73%|███████▎  | 921/1261 [01:42<00:37,  9.03it/s]\u001b[A\n",
      " 73%|███████▎  | 922/1261 [01:42<00:36,  9.17it/s]\u001b[A\n",
      " 73%|███████▎  | 923/1261 [01:42<00:36,  9.31it/s]\u001b[A\n",
      " 73%|███████▎  | 924/1261 [01:42<00:36,  9.30it/s]\u001b[A\n",
      " 73%|███████▎  | 925/1261 [01:43<00:36,  9.18it/s]\u001b[A\n",
      " 73%|███████▎  | 926/1261 [01:43<00:36,  9.21it/s]\u001b[A\n",
      " 74%|███████▎  | 927/1261 [01:43<00:37,  8.88it/s]\u001b[A\n",
      " 74%|███████▎  | 928/1261 [01:43<00:37,  8.86it/s]\u001b[A\n",
      " 74%|███████▎  | 929/1261 [01:43<00:38,  8.58it/s]\u001b[A\n",
      " 74%|███████▍  | 930/1261 [01:43<00:37,  8.72it/s]\u001b[A\n",
      " 74%|███████▍  | 931/1261 [01:43<00:38,  8.63it/s]\u001b[A\n",
      " 74%|███████▍  | 932/1261 [01:43<00:36,  8.93it/s]\u001b[A\n",
      " 74%|███████▍  | 933/1261 [01:43<00:36,  9.10it/s]\u001b[A\n",
      " 74%|███████▍  | 934/1261 [01:44<00:36,  9.05it/s]\u001b[A\n",
      " 74%|███████▍  | 935/1261 [01:44<00:35,  9.15it/s]\u001b[A\n",
      " 74%|███████▍  | 936/1261 [01:44<00:35,  9.21it/s]\u001b[A\n",
      " 74%|███████▍  | 937/1261 [01:44<00:35,  9.25it/s]\u001b[A\n",
      " 74%|███████▍  | 938/1261 [01:44<00:34,  9.40it/s]\u001b[A\n",
      " 74%|███████▍  | 939/1261 [01:44<00:36,  8.78it/s]\u001b[A\n",
      " 75%|███████▍  | 940/1261 [01:44<00:36,  8.84it/s]\u001b[A\n",
      " 75%|███████▍  | 941/1261 [01:44<00:35,  8.94it/s]\u001b[A\n",
      " 75%|███████▍  | 942/1261 [01:44<00:34,  9.18it/s]\u001b[A\n",
      " 75%|███████▍  | 943/1261 [01:45<00:36,  8.76it/s]\u001b[A\n",
      " 75%|███████▍  | 944/1261 [01:45<00:35,  8.91it/s]\u001b[A\n",
      " 75%|███████▍  | 945/1261 [01:45<00:34,  9.08it/s]\u001b[A\n",
      " 75%|███████▌  | 946/1261 [01:45<00:34,  9.18it/s]\u001b[A\n",
      " 75%|███████▌  | 947/1261 [01:45<00:33,  9.34it/s]\u001b[A\n",
      " 75%|███████▌  | 948/1261 [01:45<00:34,  9.00it/s]\u001b[A\n",
      " 75%|███████▌  | 949/1261 [01:45<00:33,  9.24it/s]\u001b[A\n",
      " 75%|███████▌  | 950/1261 [01:45<00:33,  9.27it/s]\u001b[A\n",
      " 75%|███████▌  | 951/1261 [01:45<00:33,  9.21it/s]\u001b[A\n",
      " 75%|███████▌  | 952/1261 [01:46<00:33,  9.27it/s]\u001b[A\n",
      " 76%|███████▌  | 953/1261 [01:46<00:32,  9.41it/s]\u001b[A\n",
      " 76%|███████▌  | 954/1261 [01:46<00:34,  8.90it/s]\u001b[A\n",
      " 76%|███████▌  | 955/1261 [01:46<00:33,  9.06it/s]"
     ]
    },
    {
     "name": "stdout",
     "output_type": "stream",
     "text": [
      "fit coeffs too far off [%] [-0.80774388 -0.29775141 -0.02253147]\n"
     ]
    },
    {
     "name": "stderr",
     "output_type": "stream",
     "text": [
      "\u001b[A\n",
      " 76%|███████▌  | 956/1261 [01:46<00:33,  9.16it/s]\u001b[A\n",
      " 76%|███████▌  | 957/1261 [01:46<00:32,  9.39it/s]\u001b[A\n",
      " 76%|███████▌  | 958/1261 [01:46<00:33,  9.12it/s]"
     ]
    },
    {
     "name": "stdout",
     "output_type": "stream",
     "text": [
      "fit coeffs too far off [%] [-0.79777002 -0.32437929 -0.03296507]\n"
     ]
    },
    {
     "name": "stderr",
     "output_type": "stream",
     "text": [
      "\u001b[A\n",
      " 76%|███████▌  | 959/1261 [01:46<00:34,  8.74it/s]\u001b[A\n",
      " 76%|███████▌  | 960/1261 [01:46<00:33,  8.98it/s]\u001b[A\n",
      " 76%|███████▌  | 961/1261 [01:47<00:32,  9.21it/s]\u001b[A\n",
      " 76%|███████▋  | 962/1261 [01:47<00:32,  9.28it/s]\u001b[A\n",
      " 76%|███████▋  | 963/1261 [01:47<00:31,  9.39it/s]\u001b[A\n",
      " 76%|███████▋  | 964/1261 [01:47<00:31,  9.47it/s]\u001b[A\n",
      " 77%|███████▋  | 965/1261 [01:47<00:31,  9.54it/s]\u001b[A\n",
      " 77%|███████▋  | 966/1261 [01:47<00:31,  9.51it/s]"
     ]
    },
    {
     "name": "stdout",
     "output_type": "stream",
     "text": [
      "fit coeffs too far off [%] [-1.08706646 -0.34555313 -0.03266604]\n",
      "fit coeffs too far off [%] [-2.02047741 -0.63517176 -0.06186436]\n"
     ]
    },
    {
     "name": "stderr",
     "output_type": "stream",
     "text": [
      "\u001b[A\n",
      " 77%|███████▋  | 967/1261 [01:47<00:31,  9.44it/s]\u001b[A\n",
      " 77%|███████▋  | 968/1261 [01:47<00:31,  9.39it/s]"
     ]
    },
    {
     "name": "stdout",
     "output_type": "stream",
     "text": [
      "fit coeffs too far off [%] [-2.42802797 -0.79571524 -0.07652131]\n",
      "fit coeffs too far off [%] [-2.32309071 -0.84896461 -0.09093887]\n"
     ]
    },
    {
     "name": "stderr",
     "output_type": "stream",
     "text": [
      "\u001b[A\n",
      " 77%|███████▋  | 969/1261 [01:47<00:31,  9.34it/s]\u001b[A\n",
      " 77%|███████▋  | 970/1261 [01:48<00:30,  9.40it/s]"
     ]
    },
    {
     "name": "stdout",
     "output_type": "stream",
     "text": [
      "fit coeffs too far off [%] [-1.29012588 -0.5326034  -0.06420964]\n",
      "fit coeffs too far off [%] [-1.37099056 -0.590017   -0.06913308]\n"
     ]
    },
    {
     "name": "stderr",
     "output_type": "stream",
     "text": [
      "\u001b[A\n",
      " 77%|███████▋  | 971/1261 [01:48<00:31,  9.35it/s]\u001b[A\n",
      " 77%|███████▋  | 972/1261 [01:48<00:30,  9.39it/s]"
     ]
    },
    {
     "name": "stdout",
     "output_type": "stream",
     "text": [
      "fit coeffs too far off [%] [-0.92778373 -0.44353593 -0.0579979 ]\n",
      "fit coeffs too far off [%] [-0.71765167 -0.37681503 -0.05335837]\n"
     ]
    },
    {
     "name": "stderr",
     "output_type": "stream",
     "text": [
      "\u001b[A\n",
      " 77%|███████▋  | 973/1261 [01:48<00:31,  9.04it/s]\u001b[A\n",
      " 77%|███████▋  | 974/1261 [01:48<00:31,  9.19it/s]\u001b[A\n",
      " 77%|███████▋  | 975/1261 [01:48<00:32,  8.78it/s]\u001b[A\n",
      " 77%|███████▋  | 976/1261 [01:48<00:33,  8.57it/s]\u001b[A\n",
      " 77%|███████▋  | 977/1261 [01:48<00:31,  8.92it/s]\u001b[A\n",
      " 78%|███████▊  | 978/1261 [01:48<00:31,  9.02it/s]\u001b[A\n",
      " 78%|███████▊  | 979/1261 [01:49<00:30,  9.25it/s]"
     ]
    },
    {
     "name": "stdout",
     "output_type": "stream",
     "text": [
      "fit coeffs too far off [%] [ 0.73959769  0.24383236  0.04189343]\n",
      "fit coeffs too far off [%] [  7.36410587e-01   2.04382400e-01   1.55960352e-04]\n"
     ]
    },
    {
     "name": "stderr",
     "output_type": "stream",
     "text": [
      "\u001b[A\n",
      " 78%|███████▊  | 980/1261 [01:49<00:30,  9.31it/s]\u001b[A\n",
      " 78%|███████▊  | 981/1261 [01:49<00:29,  9.41it/s]"
     ]
    },
    {
     "name": "stdout",
     "output_type": "stream",
     "text": [
      "fit coeffs too far off [%] [ 1.22700841  0.37712192  0.00984336]\n",
      "fit coeffs too far off [%] [ 1.44367198  0.50162244  0.02088424]\n"
     ]
    },
    {
     "name": "stderr",
     "output_type": "stream",
     "text": [
      "\u001b[A\n",
      " 78%|███████▊  | 982/1261 [01:49<00:30,  9.25it/s]\u001b[A\n",
      " 78%|███████▊  | 983/1261 [01:49<00:30,  9.17it/s]"
     ]
    },
    {
     "name": "stdout",
     "output_type": "stream",
     "text": [
      "fit coeffs too far off [%] [ 0.85089563  0.31367834  0.01232609]\n",
      "fit coeffs too far off [%] [ 1.13865197  0.46784766  0.02935831]\n"
     ]
    },
    {
     "name": "stderr",
     "output_type": "stream",
     "text": [
      "\u001b[A\n",
      " 78%|███████▊  | 984/1261 [01:49<00:29,  9.24it/s]\u001b[A\n",
      " 78%|███████▊  | 985/1261 [01:49<00:29,  9.32it/s]"
     ]
    },
    {
     "name": "stdout",
     "output_type": "stream",
     "text": [
      "fit coeffs too far off [%] [ 0.72821124  0.2947468   0.01588119]\n",
      "fit coeffs too far off [%] [ 0.85744352  0.41404657  0.03367425]\n"
     ]
    },
    {
     "name": "stderr",
     "output_type": "stream",
     "text": [
      "\u001b[A\n",
      " 78%|███████▊  | 986/1261 [01:49<00:29,  9.18it/s]\u001b[A\n",
      " 78%|███████▊  | 987/1261 [01:49<00:30,  9.13it/s]\u001b[A\n",
      " 78%|███████▊  | 988/1261 [01:49<00:30,  9.02it/s]"
     ]
    },
    {
     "name": "stdout",
     "output_type": "stream",
     "text": [
      "fit coeffs too far off [%] [ 1.3207883   0.53255335  0.04268251]\n",
      "fit coeffs too far off [%] [ 1.88292806  0.90168978  0.12290394]\n"
     ]
    },
    {
     "name": "stderr",
     "output_type": "stream",
     "text": [
      "\u001b[A\n",
      " 78%|███████▊  | 989/1261 [01:50<00:30,  8.98it/s]\u001b[A\n",
      " 79%|███████▊  | 990/1261 [01:50<00:30,  8.86it/s]"
     ]
    },
    {
     "name": "stdout",
     "output_type": "stream",
     "text": [
      "fit coeffs too far off [%] [ 1.41017074  0.60086992  0.04580875]\n",
      "fit coeffs too far off [%] [ 0.75736681  0.27341665 -0.01719083]\n"
     ]
    },
    {
     "name": "stderr",
     "output_type": "stream",
     "text": [
      "\u001b[A\n",
      " 79%|███████▊  | 991/1261 [01:50<00:30,  8.75it/s]\u001b[A\n",
      " 79%|███████▊  | 992/1261 [01:50<00:30,  8.80it/s]"
     ]
    },
    {
     "name": "stdout",
     "output_type": "stream",
     "text": [
      "fit coeffs too far off [%] [ 1.36762202  0.73395373  0.07427274]\n",
      "fit coeffs too far off [%] [ 1.11417778  0.551165    0.02598659]\n"
     ]
    },
    {
     "name": "stderr",
     "output_type": "stream",
     "text": [
      "\u001b[A\n",
      " 79%|███████▊  | 993/1261 [01:50<00:30,  8.73it/s]\u001b[A\n",
      " 79%|███████▉  | 994/1261 [01:50<00:30,  8.76it/s]"
     ]
    },
    {
     "name": "stdout",
     "output_type": "stream",
     "text": [
      "fit coeffs too far off [%] [ 1.2734778   0.75400838  0.0807679 ]\n"
     ]
    },
    {
     "name": "stderr",
     "output_type": "stream",
     "text": [
      "\u001b[A\n",
      " 79%|███████▉  | 995/1261 [01:50<00:30,  8.80it/s]\u001b[A\n",
      " 79%|███████▉  | 996/1261 [01:50<00:30,  8.83it/s]\u001b[A\n",
      " 79%|███████▉  | 997/1261 [01:51<00:30,  8.67it/s]\u001b[A\n",
      " 79%|███████▉  | 998/1261 [01:51<00:29,  8.80it/s]\u001b[A\n",
      " 79%|███████▉  | 999/1261 [01:51<00:29,  8.88it/s]\u001b[A\n",
      " 79%|███████▉  | 1000/1261 [01:51<00:30,  8.52it/s]\u001b[A\n",
      " 79%|███████▉  | 1001/1261 [01:51<00:29,  8.79it/s]\u001b[A\n",
      " 79%|███████▉  | 1002/1261 [01:51<00:29,  8.93it/s]"
     ]
    },
    {
     "name": "stdout",
     "output_type": "stream",
     "text": [
      "fit coeffs too far off [%] [-0.56578887 -0.47510764 -0.16850387]\n",
      "fit coeffs too far off [%] [-0.83929502 -0.76150365 -0.29247424]\n"
     ]
    },
    {
     "name": "stderr",
     "output_type": "stream",
     "text": [
      "\u001b[A\n",
      " 80%|███████▉  | 1003/1261 [01:51<00:29,  8.84it/s]\u001b[A\n",
      " 80%|███████▉  | 1004/1261 [01:51<00:28,  8.89it/s]"
     ]
    },
    {
     "name": "stdout",
     "output_type": "stream",
     "text": [
      "fit coeffs too far off [%] [-0.86053967 -0.85198123 -0.35817588]\n",
      "fit coeffs too far off [%] [-0.68970168 -0.8276191  -0.40307101]\n"
     ]
    },
    {
     "name": "stderr",
     "output_type": "stream",
     "text": [
      "\u001b[A\n",
      " 80%|███████▉  | 1005/1261 [01:51<00:28,  8.89it/s]\u001b[A\n",
      " 80%|███████▉  | 1006/1261 [01:52<00:28,  8.94it/s]"
     ]
    },
    {
     "name": "stdout",
     "output_type": "stream",
     "text": [
      "fit coeffs too far off [%] [-0.67949105 -0.76899149 -0.36173244]\n",
      "fit coeffs too far off [%] [-2.03069927 -1.59963494 -0.42753105]\n"
     ]
    },
    {
     "name": "stderr",
     "output_type": "stream",
     "text": [
      "\u001b[A\n",
      " 80%|███████▉  | 1007/1261 [01:52<00:28,  8.87it/s]\u001b[A\n",
      " 80%|███████▉  | 1008/1261 [01:52<00:28,  8.80it/s]"
     ]
    },
    {
     "name": "stdout",
     "output_type": "stream",
     "text": [
      "fit coeffs too far off [%] [-1.93527844 -1.52804273 -0.41041884]\n"
     ]
    },
    {
     "name": "stderr",
     "output_type": "stream",
     "text": [
      "\u001b[A\n",
      " 80%|████████  | 1009/1261 [01:52<00:28,  8.70it/s]\u001b[A\n",
      " 80%|████████  | 1010/1261 [01:52<00:28,  8.86it/s]\u001b[A\n",
      " 80%|████████  | 1011/1261 [01:52<00:28,  8.65it/s]"
     ]
    },
    {
     "name": "stdout",
     "output_type": "stream",
     "text": [
      "fit coeffs too far off [%] [-0.25204863 -0.28934297  0.35943434]\n",
      "fit coeffs too far off [%] [-1.37466236 -1.61289235  2.35745454]\n"
     ]
    },
    {
     "name": "stderr",
     "output_type": "stream",
     "text": [
      "\u001b[A\n",
      " 80%|████████  | 1012/1261 [01:52<00:28,  8.71it/s]\u001b[A\n",
      " 80%|████████  | 1013/1261 [01:52<00:28,  8.73it/s]\u001b[A\n",
      " 80%|████████  | 1014/1261 [01:52<00:28,  8.81it/s]\u001b[A\n",
      " 80%|████████  | 1015/1261 [01:53<00:27,  8.82it/s]\u001b[A\n",
      " 81%|████████  | 1016/1261 [01:53<00:27,  8.91it/s]\u001b[A\n",
      " 81%|████████  | 1017/1261 [01:53<00:27,  9.01it/s]"
     ]
    },
    {
     "name": "stdout",
     "output_type": "stream",
     "text": [
      "fit coeffs too far off [%] [-0.7122297  -0.31653182 -0.02901273]\n",
      "fit coeffs too far off [%] [-0.76795957 -0.35407972 -0.0335069 ]\n"
     ]
    },
    {
     "name": "stderr",
     "output_type": "stream",
     "text": [
      "\u001b[A\n",
      " 81%|████████  | 1018/1261 [01:53<00:26,  9.06it/s]\u001b[A\n",
      " 81%|████████  | 1019/1261 [01:53<00:26,  9.13it/s]\u001b[A\n",
      " 81%|████████  | 1020/1261 [01:53<00:26,  9.09it/s]\u001b[A\n",
      " 81%|████████  | 1021/1261 [01:53<00:26,  8.99it/s]"
     ]
    },
    {
     "name": "stdout",
     "output_type": "stream",
     "text": [
      "fit coeffs too far off [%] [ 0.62200284  0.50467803  0.1094842 ]\n",
      "fit coeffs too far off [%] [ 0.66622839  0.69390092  0.22525694]\n"
     ]
    },
    {
     "name": "stderr",
     "output_type": "stream",
     "text": [
      "\u001b[A\n",
      " 81%|████████  | 1022/1261 [01:53<00:26,  8.98it/s]\u001b[A\n",
      " 81%|████████  | 1023/1261 [01:53<00:26,  9.06it/s]"
     ]
    },
    {
     "name": "stdout",
     "output_type": "stream",
     "text": [
      "fit coeffs too far off [%] [ 0.63425656  0.59663983  0.16865234]\n"
     ]
    },
    {
     "name": "stderr",
     "output_type": "stream",
     "text": [
      "\u001b[A\n",
      " 81%|████████  | 1024/1261 [01:54<00:26,  9.06it/s]\u001b[A\n",
      " 81%|████████▏ | 1025/1261 [01:54<00:25,  9.17it/s]\u001b[A\n",
      " 81%|████████▏ | 1026/1261 [01:54<00:25,  9.23it/s]\u001b[A\n",
      " 81%|████████▏ | 1027/1261 [01:54<00:25,  9.19it/s]\u001b[A\n",
      " 82%|████████▏ | 1028/1261 [01:54<00:24,  9.32it/s]\u001b[A\n",
      " 82%|████████▏ | 1029/1261 [01:54<00:26,  8.67it/s]"
     ]
    },
    {
     "name": "stdout",
     "output_type": "stream",
     "text": [
      "fit coeffs too far off [%] [ 0.97447784  0.31022832  0.00636966]\n",
      "fit coeffs too far off [%] [ 1.20750548  0.41635174  0.01408329]\n"
     ]
    },
    {
     "name": "stderr",
     "output_type": "stream",
     "text": [
      "\u001b[A\n",
      " 82%|████████▏ | 1030/1261 [01:54<00:27,  8.26it/s]\u001b[A\n",
      " 82%|████████▏ | 1031/1261 [01:54<00:27,  8.49it/s]"
     ]
    },
    {
     "name": "stdout",
     "output_type": "stream",
     "text": [
      "fit coeffs too far off [%] [ 0.97708861  0.36585271  0.01596174]\n",
      "fit coeffs too far off [%] [ 1.00026407  0.40681066  0.01922547]\n"
     ]
    },
    {
     "name": "stderr",
     "output_type": "stream",
     "text": [
      "\u001b[A\n",
      " 82%|████████▏ | 1032/1261 [01:54<00:27,  8.31it/s]\u001b[A\n",
      " 82%|████████▏ | 1033/1261 [01:55<00:27,  8.24it/s]"
     ]
    },
    {
     "name": "stdout",
     "output_type": "stream",
     "text": [
      "fit coeffs too far off [%] [ 1.13186684  0.47002394  0.02670222]\n",
      "fit coeffs too far off [%] [ 0.97146315  0.43080551  0.03280583]\n"
     ]
    },
    {
     "name": "stderr",
     "output_type": "stream",
     "text": [
      "\u001b[A\n",
      " 82%|████████▏ | 1034/1261 [01:55<00:26,  8.51it/s]\u001b[A\n",
      " 82%|████████▏ | 1035/1261 [01:55<00:26,  8.64it/s]"
     ]
    },
    {
     "name": "stdout",
     "output_type": "stream",
     "text": [
      "fit coeffs too far off [%] [ 0.8068187   0.37023523  0.02628107]\n",
      "fit coeffs too far off [%] [ 0.71134524  0.3515725   0.02812007]\n"
     ]
    },
    {
     "name": "stderr",
     "output_type": "stream",
     "text": [
      "\u001b[A\n",
      " 82%|████████▏ | 1036/1261 [01:55<00:27,  8.33it/s]\u001b[A\n",
      " 82%|████████▏ | 1037/1261 [01:55<00:26,  8.53it/s]"
     ]
    },
    {
     "name": "stdout",
     "output_type": "stream",
     "text": [
      "fit coeffs too far off [%] [ 0.3138279   0.29865309  0.15612992]\n",
      "fit coeffs too far off [%] [ 0.74022775  0.40101097  0.03589557]\n",
      "fit coeffs too far off [%] [ 0.64745742  0.5070228   0.22239287]\n"
     ]
    },
    {
     "name": "stderr",
     "output_type": "stream",
     "text": [
      "\u001b[A\n",
      " 82%|████████▏ | 1038/1261 [01:55<00:25,  8.60it/s]\u001b[A\n",
      " 82%|████████▏ | 1039/1261 [01:55<00:25,  8.77it/s]"
     ]
    },
    {
     "name": "stdout",
     "output_type": "stream",
     "text": [
      "fit coeffs too far off [%] [ 0.58373095  0.44800338  0.19489259]\n",
      "fit coeffs too far off [%] [ 0.6185964   0.54370958  0.26474257]\n"
     ]
    },
    {
     "name": "stderr",
     "output_type": "stream",
     "text": [
      "\u001b[A\n",
      " 82%|████████▏ | 1040/1261 [01:55<00:26,  8.39it/s]\u001b[A\n",
      " 83%|████████▎ | 1041/1261 [01:56<00:25,  8.57it/s]"
     ]
    },
    {
     "name": "stdout",
     "output_type": "stream",
     "text": [
      "fit coeffs too far off [%] [ 0.61403655  0.46989635  0.20859509]\n"
     ]
    },
    {
     "name": "stderr",
     "output_type": "stream",
     "text": [
      "\u001b[A\n",
      " 83%|████████▎ | 1042/1261 [01:56<00:25,  8.48it/s]\u001b[A\n",
      " 83%|████████▎ | 1043/1261 [01:56<00:25,  8.71it/s]\u001b[A\n",
      " 83%|████████▎ | 1045/1261 [01:56<00:23,  9.04it/s]\u001b[A\n",
      " 83%|████████▎ | 1046/1261 [01:56<00:24,  8.86it/s]\u001b[A\n",
      " 83%|████████▎ | 1047/1261 [01:56<00:23,  9.11it/s]\u001b[A\n",
      " 83%|████████▎ | 1048/1261 [01:56<00:23,  9.22it/s]\u001b[A\n",
      " 83%|████████▎ | 1049/1261 [01:56<00:22,  9.43it/s]\u001b[A\n",
      " 83%|████████▎ | 1050/1261 [01:57<00:22,  9.36it/s]\u001b[A\n",
      " 83%|████████▎ | 1051/1261 [01:57<00:22,  9.42it/s]\u001b[A\n",
      " 83%|████████▎ | 1052/1261 [01:57<00:22,  9.32it/s]"
     ]
    },
    {
     "name": "stdout",
     "output_type": "stream",
     "text": [
      "fit coeffs too far off [%] [-0.82942174 -0.32438746 -0.0316676 ]\n",
      "fit coeffs too far off [%] [-0.7462921  -0.30791859 -0.03280243]\n"
     ]
    },
    {
     "name": "stderr",
     "output_type": "stream",
     "text": [
      "\u001b[A\n",
      " 84%|████████▎ | 1053/1261 [01:57<00:22,  9.33it/s]\u001b[A\n",
      " 84%|████████▎ | 1054/1261 [01:57<00:23,  8.84it/s]"
     ]
    },
    {
     "name": "stdout",
     "output_type": "stream",
     "text": [
      "fit coeffs too far off [%] [-0.76174537 -0.30459509 -0.02865206]\n"
     ]
    },
    {
     "name": "stderr",
     "output_type": "stream",
     "text": [
      "\u001b[A\n",
      " 84%|████████▎ | 1055/1261 [01:57<00:23,  8.84it/s]\u001b[A\n",
      " 84%|████████▎ | 1056/1261 [01:57<00:22,  9.03it/s]\u001b[A\n",
      " 84%|████████▍ | 1058/1261 [01:57<00:22,  9.05it/s]\u001b[A\n",
      " 84%|████████▍ | 1059/1261 [01:57<00:21,  9.27it/s]\u001b[A\n",
      " 84%|████████▍ | 1060/1261 [01:58<00:22,  8.86it/s]"
     ]
    },
    {
     "name": "stdout",
     "output_type": "stream",
     "text": [
      "fit coeffs too far off [%] [ 0.73160747  0.20086682 -0.00483014]\n",
      "fit coeffs too far off [%] [ 0.83250084  0.23029084 -0.0072378 ]\n"
     ]
    },
    {
     "name": "stderr",
     "output_type": "stream",
     "text": [
      "\u001b[A\n",
      " 84%|████████▍ | 1061/1261 [01:58<00:22,  8.80it/s]\u001b[A\n",
      " 84%|████████▍ | 1062/1261 [01:58<00:22,  8.81it/s]"
     ]
    },
    {
     "name": "stdout",
     "output_type": "stream",
     "text": [
      "fit coeffs too far off [%] [ 0.980594    0.28950901 -0.00757026]\n",
      "fit coeffs too far off [%] [ 0.75602902  0.22433452 -0.00985906]\n"
     ]
    },
    {
     "name": "stderr",
     "output_type": "stream",
     "text": [
      "\u001b[A\n",
      " 84%|████████▍ | 1063/1261 [01:58<00:22,  8.89it/s]\u001b[A\n",
      " 84%|████████▍ | 1064/1261 [01:58<00:21,  9.08it/s]\u001b[A\n",
      " 84%|████████▍ | 1065/1261 [01:58<00:21,  9.17it/s]\u001b[A\n",
      " 85%|████████▍ | 1066/1261 [01:58<00:21,  9.22it/s]\u001b[A\n",
      " 85%|████████▍ | 1067/1261 [01:58<00:21,  9.15it/s]\u001b[A\n",
      " 85%|████████▍ | 1068/1261 [01:59<00:21,  9.01it/s]\u001b[A\n",
      " 85%|████████▍ | 1069/1261 [01:59<00:21,  9.09it/s]\u001b[A\n",
      " 85%|████████▍ | 1070/1261 [01:59<00:21,  8.81it/s]\u001b[A\n",
      " 85%|████████▍ | 1071/1261 [01:59<00:21,  9.02it/s]\u001b[A\n",
      " 85%|████████▌ | 1072/1261 [01:59<00:20,  9.18it/s]\u001b[A\n",
      " 85%|████████▌ | 1073/1261 [01:59<00:20,  9.17it/s]\u001b[A\n",
      " 85%|████████▌ | 1074/1261 [01:59<00:21,  8.83it/s]\u001b[A\n",
      " 85%|████████▌ | 1075/1261 [01:59<00:20,  9.03it/s]\u001b[A\n",
      " 85%|████████▌ | 1076/1261 [01:59<00:20,  9.18it/s]\u001b[A\n",
      " 85%|████████▌ | 1077/1261 [01:59<00:20,  9.18it/s]\u001b[A\n",
      " 85%|████████▌ | 1078/1261 [02:00<00:19,  9.25it/s]\u001b[A\n",
      " 86%|████████▌ | 1079/1261 [02:00<00:19,  9.22it/s]\u001b[A\n",
      " 86%|████████▌ | 1080/1261 [02:00<00:19,  9.27it/s]\u001b[A\n",
      " 86%|████████▌ | 1081/1261 [02:00<00:19,  9.28it/s]\u001b[A\n",
      " 86%|████████▌ | 1082/1261 [02:00<00:19,  9.28it/s]\u001b[A\n",
      " 86%|████████▌ | 1083/1261 [02:00<00:19,  9.34it/s]\u001b[A\n",
      " 86%|████████▌ | 1084/1261 [02:00<00:19,  9.24it/s]\u001b[A\n",
      " 86%|████████▌ | 1085/1261 [02:00<00:18,  9.38it/s]\u001b[A\n",
      " 86%|████████▌ | 1086/1261 [02:00<00:18,  9.41it/s]\u001b[A\n",
      " 86%|████████▌ | 1087/1261 [02:01<00:18,  9.35it/s]\u001b[A\n",
      " 86%|████████▋ | 1088/1261 [02:01<00:18,  9.34it/s]\u001b[A\n",
      " 86%|████████▋ | 1089/1261 [02:01<00:18,  9.25it/s]\u001b[A\n",
      " 86%|████████▋ | 1090/1261 [02:01<00:18,  9.16it/s]\u001b[A\n",
      " 87%|████████▋ | 1091/1261 [02:01<00:18,  9.11it/s]\u001b[A\n",
      " 87%|████████▋ | 1092/1261 [02:01<00:18,  9.20it/s]\u001b[A\n",
      " 87%|████████▋ | 1093/1261 [02:01<00:18,  9.03it/s]\u001b[A\n",
      " 87%|████████▋ | 1094/1261 [02:01<00:18,  9.12it/s]\u001b[A\n",
      " 87%|████████▋ | 1095/1261 [02:01<00:18,  9.09it/s]\u001b[A\n",
      " 87%|████████▋ | 1096/1261 [02:02<00:18,  9.15it/s]"
     ]
    },
    {
     "name": "stdout",
     "output_type": "stream",
     "text": [
      "fit coeffs too far off [%] [-0.79723042 -0.33479307 -0.04666263]\n",
      "fit coeffs too far off [%] [-0.87667378 -0.38691545 -0.05594068]\n"
     ]
    },
    {
     "name": "stderr",
     "output_type": "stream",
     "text": [
      "\u001b[A\n",
      " 87%|████████▋ | 1097/1261 [02:02<00:18,  9.01it/s]\u001b[A\n",
      " 87%|████████▋ | 1098/1261 [02:02<00:17,  9.06it/s]"
     ]
    },
    {
     "name": "stdout",
     "output_type": "stream",
     "text": [
      "fit coeffs too far off [%] [-0.77967675 -0.36824298 -0.05621192]\n"
     ]
    },
    {
     "name": "stderr",
     "output_type": "stream",
     "text": [
      "\u001b[A\n",
      " 87%|████████▋ | 1099/1261 [02:02<00:18,  8.90it/s]\u001b[A\n",
      " 87%|████████▋ | 1100/1261 [02:02<00:17,  9.01it/s]\u001b[A\n",
      " 87%|████████▋ | 1101/1261 [02:02<00:17,  9.14it/s]\u001b[A\n",
      " 87%|████████▋ | 1102/1261 [02:02<00:17,  9.02it/s]\u001b[A\n",
      " 87%|████████▋ | 1103/1261 [02:02<00:17,  9.07it/s]\u001b[A\n",
      " 88%|████████▊ | 1104/1261 [02:02<00:17,  8.98it/s]\u001b[A\n",
      " 88%|████████▊ | 1105/1261 [02:03<00:17,  9.08it/s]\u001b[A\n",
      " 88%|████████▊ | 1106/1261 [02:03<00:17,  8.95it/s]\u001b[A\n",
      " 88%|████████▊ | 1107/1261 [02:03<00:17,  9.06it/s]"
     ]
    },
    {
     "name": "stdout",
     "output_type": "stream",
     "text": [
      "fit coeffs too far off [%] [ 0.82005505  0.23369761  0.0163022 ]\n",
      "fit coeffs too far off [%] [ 0.98532582  0.31167185  0.03443882]\n"
     ]
    },
    {
     "name": "stderr",
     "output_type": "stream",
     "text": [
      "\u001b[A\n",
      " 88%|████████▊ | 1108/1261 [02:03<00:16,  9.00it/s]\u001b[A\n",
      " 88%|████████▊ | 1109/1261 [02:03<00:16,  9.04it/s]"
     ]
    },
    {
     "name": "stdout",
     "output_type": "stream",
     "text": [
      "fit coeffs too far off [%] [ 1.15757474  0.3304065   0.02744808]\n",
      "fit coeffs too far off [%] [ 1.0952926  0.3432726  0.0335807]\n"
     ]
    },
    {
     "name": "stderr",
     "output_type": "stream",
     "text": [
      "\u001b[A\n",
      " 88%|████████▊ | 1110/1261 [02:03<00:16,  8.96it/s]\u001b[A\n",
      " 88%|████████▊ | 1111/1261 [02:03<00:16,  9.02it/s]"
     ]
    },
    {
     "name": "stdout",
     "output_type": "stream",
     "text": [
      "fit coeffs too far off [%] [ 0.74442996  0.22189127  0.0171444 ]\n",
      "fit coeffs too far off [%] [ 1.18759708  0.35888817  0.01891821]\n"
     ]
    },
    {
     "name": "stderr",
     "output_type": "stream",
     "text": [
      "\u001b[A\n",
      " 88%|████████▊ | 1112/1261 [02:03<00:16,  9.05it/s]\u001b[A\n",
      " 88%|████████▊ | 1113/1261 [02:03<00:16,  8.90it/s]"
     ]
    },
    {
     "name": "stdout",
     "output_type": "stream",
     "text": [
      "fit coeffs too far off [%] [ 1.41608773  0.42568411  0.02512022]\n",
      "fit coeffs too far off [%] [ 1.59793639  0.5377      0.03203916]\n"
     ]
    },
    {
     "name": "stderr",
     "output_type": "stream",
     "text": [
      "\u001b[A\n",
      " 88%|████████▊ | 1114/1261 [02:04<00:16,  8.95it/s]\u001b[A\n",
      " 88%|████████▊ | 1115/1261 [02:04<00:15,  9.13it/s]"
     ]
    },
    {
     "name": "stdout",
     "output_type": "stream",
     "text": [
      "fit coeffs too far off [%] [ 1.58767229  0.55396054  0.03391888]\n",
      "fit coeffs too far off [%] [ 1.21260373  0.4752306   0.03154431]\n"
     ]
    },
    {
     "name": "stderr",
     "output_type": "stream",
     "text": [
      "\u001b[A\n",
      " 89%|████████▊ | 1116/1261 [02:04<00:16,  8.99it/s]\u001b[A\n",
      " 89%|████████▊ | 1117/1261 [02:04<00:15,  9.05it/s]\u001b[A\n",
      " 89%|████████▊ | 1118/1261 [02:04<00:15,  8.99it/s]\u001b[A\n",
      " 89%|████████▊ | 1119/1261 [02:04<00:15,  9.15it/s]\u001b[A\n",
      " 89%|████████▉ | 1120/1261 [02:04<00:15,  8.85it/s]\u001b[A\n",
      " 89%|████████▉ | 1121/1261 [02:04<00:16,  8.59it/s]\u001b[A\n",
      " 89%|████████▉ | 1122/1261 [02:04<00:15,  8.96it/s]\u001b[A\n",
      " 89%|████████▉ | 1123/1261 [02:05<00:15,  8.70it/s]\u001b[A\n",
      " 89%|████████▉ | 1124/1261 [02:05<00:15,  9.00it/s]\u001b[A\n",
      " 89%|████████▉ | 1125/1261 [02:05<00:14,  9.10it/s]\u001b[A\n",
      " 89%|████████▉ | 1126/1261 [02:05<00:14,  9.31it/s]\u001b[A\n",
      " 89%|████████▉ | 1127/1261 [02:05<00:14,  9.32it/s]\u001b[A\n",
      " 89%|████████▉ | 1128/1261 [02:05<00:14,  9.42it/s]\u001b[A\n",
      " 90%|████████▉ | 1129/1261 [02:05<00:14,  9.40it/s]\u001b[A\n",
      " 90%|████████▉ | 1130/1261 [02:05<00:14,  9.30it/s]\u001b[A\n",
      " 90%|████████▉ | 1131/1261 [02:05<00:14,  9.28it/s]\u001b[A\n",
      " 90%|████████▉ | 1132/1261 [02:06<00:13,  9.41it/s]\u001b[A\n",
      " 90%|████████▉ | 1133/1261 [02:06<00:13,  9.47it/s]\u001b[A\n",
      " 90%|████████▉ | 1134/1261 [02:06<00:13,  9.33it/s]\u001b[A\n",
      " 90%|█████████ | 1135/1261 [02:06<00:14,  8.88it/s]\u001b[A\n",
      " 90%|█████████ | 1136/1261 [02:06<00:13,  9.06it/s]\u001b[A\n",
      " 90%|█████████ | 1137/1261 [02:06<00:13,  9.07it/s]\u001b[A\n",
      " 90%|█████████ | 1138/1261 [02:06<00:13,  9.09it/s]\u001b[A\n",
      " 90%|█████████ | 1139/1261 [02:06<00:13,  9.00it/s]\u001b[A\n",
      " 90%|█████████ | 1140/1261 [02:06<00:13,  9.16it/s]\u001b[A\n",
      " 90%|█████████ | 1141/1261 [02:07<00:12,  9.30it/s]\u001b[A\n",
      " 91%|█████████ | 1142/1261 [02:07<00:13,  9.12it/s]\u001b[A\n",
      " 91%|█████████ | 1143/1261 [02:07<00:12,  9.19it/s]\u001b[A\n",
      " 91%|█████████ | 1144/1261 [02:07<00:12,  9.33it/s]\u001b[A\n",
      " 91%|█████████ | 1145/1261 [02:07<00:12,  9.50it/s]\u001b[A\n",
      " 91%|█████████ | 1146/1261 [02:07<00:12,  9.06it/s]\u001b[A\n",
      " 91%|█████████ | 1147/1261 [02:07<00:12,  8.82it/s]\u001b[A\n",
      " 91%|█████████ | 1148/1261 [02:07<00:12,  8.83it/s]\u001b[A\n",
      " 91%|█████████ | 1149/1261 [02:07<00:12,  8.96it/s]\u001b[A\n",
      " 91%|█████████ | 1150/1261 [02:08<00:13,  8.37it/s]\u001b[A\n",
      " 91%|█████████▏| 1151/1261 [02:08<00:12,  8.57it/s]\u001b[A\n",
      " 91%|█████████▏| 1152/1261 [02:08<00:12,  8.68it/s]\u001b[A\n",
      " 91%|█████████▏| 1153/1261 [02:08<00:12,  8.63it/s]\u001b[A\n",
      " 92%|█████████▏| 1154/1261 [02:08<00:12,  8.87it/s]\u001b[A\n",
      " 92%|█████████▏| 1155/1261 [02:08<00:11,  9.03it/s]\u001b[A\n",
      " 92%|█████████▏| 1156/1261 [02:08<00:11,  9.10it/s]\u001b[A\n",
      " 92%|█████████▏| 1157/1261 [02:08<00:11,  8.87it/s]\u001b[A\n",
      " 92%|█████████▏| 1158/1261 [02:08<00:11,  9.06it/s]\u001b[A\n",
      " 92%|█████████▏| 1159/1261 [02:09<00:11,  9.23it/s]\u001b[A\n",
      " 92%|█████████▏| 1160/1261 [02:09<00:10,  9.32it/s]\u001b[A\n",
      " 92%|█████████▏| 1161/1261 [02:09<00:10,  9.46it/s]\u001b[A\n",
      " 92%|█████████▏| 1162/1261 [02:09<00:10,  9.46it/s]\u001b[A\n",
      " 92%|█████████▏| 1163/1261 [02:09<00:10,  9.14it/s]\u001b[A\n",
      " 92%|█████████▏| 1164/1261 [02:09<00:10,  9.27it/s]\u001b[A\n",
      " 92%|█████████▏| 1166/1261 [02:09<00:10,  9.44it/s]\u001b[A\n",
      " 93%|█████████▎| 1167/1261 [02:09<00:09,  9.55it/s]\u001b[A\n",
      " 93%|█████████▎| 1168/1261 [02:09<00:09,  9.63it/s]\u001b[A\n",
      " 93%|█████████▎| 1169/1261 [02:10<00:09,  9.72it/s]\u001b[A\n",
      " 93%|█████████▎| 1170/1261 [02:10<00:09,  9.45it/s]\u001b[A\n",
      " 93%|█████████▎| 1171/1261 [02:10<00:09,  9.48it/s]\u001b[A\n",
      " 93%|█████████▎| 1173/1261 [02:10<00:09,  9.62it/s]\u001b[A\n",
      " 93%|█████████▎| 1174/1261 [02:10<00:09,  9.57it/s]\u001b[A\n",
      " 93%|█████████▎| 1175/1261 [02:10<00:09,  9.29it/s]\u001b[A\n",
      " 93%|█████████▎| 1176/1261 [02:10<00:09,  9.31it/s]\u001b[A\n",
      " 93%|█████████▎| 1177/1261 [02:10<00:09,  9.03it/s]\u001b[A\n",
      " 93%|█████████▎| 1178/1261 [02:11<00:09,  8.94it/s]\u001b[A\n",
      " 93%|█████████▎| 1179/1261 [02:11<00:08,  9.16it/s]\u001b[A\n",
      " 94%|█████████▎| 1180/1261 [02:11<00:08,  9.19it/s]\u001b[A\n",
      " 94%|█████████▎| 1181/1261 [02:11<00:08,  9.20it/s]\u001b[A\n",
      " 94%|█████████▎| 1182/1261 [02:11<00:08,  9.29it/s]\u001b[A\n",
      " 94%|█████████▍| 1183/1261 [02:11<00:08,  9.20it/s]\u001b[A\n",
      " 94%|█████████▍| 1184/1261 [02:11<00:08,  9.31it/s]\u001b[A\n",
      " 94%|█████████▍| 1185/1261 [02:11<00:08,  9.09it/s]\u001b[A\n",
      " 94%|█████████▍| 1186/1261 [02:11<00:08,  9.24it/s]"
     ]
    },
    {
     "name": "stdout",
     "output_type": "stream",
     "text": [
      "fit coeffs too far off [%] [ 0.85212131  0.32290969  0.04044488]\n"
     ]
    },
    {
     "name": "stderr",
     "output_type": "stream",
     "text": [
      "\u001b[A\n",
      " 94%|█████████▍| 1187/1261 [02:12<00:08,  9.22it/s]\u001b[A\n",
      " 94%|█████████▍| 1188/1261 [02:12<00:08,  8.82it/s]\u001b[A\n",
      " 94%|█████████▍| 1189/1261 [02:12<00:08,  8.95it/s]\u001b[A\n",
      " 94%|█████████▍| 1190/1261 [02:12<00:07,  9.05it/s]\u001b[A\n",
      " 94%|█████████▍| 1191/1261 [02:12<00:07,  9.16it/s]\u001b[A\n",
      " 95%|█████████▍| 1192/1261 [02:12<00:07,  8.68it/s]\u001b[A\n",
      " 95%|█████████▍| 1193/1261 [02:12<00:07,  8.82it/s]\u001b[A\n",
      " 95%|█████████▍| 1194/1261 [02:12<00:07,  8.92it/s]\u001b[A\n",
      " 95%|█████████▍| 1195/1261 [02:12<00:07,  9.12it/s]\u001b[A\n",
      " 95%|█████████▍| 1196/1261 [02:13<00:07,  9.18it/s]\u001b[A\n",
      " 95%|█████████▍| 1197/1261 [02:13<00:06,  9.22it/s]\u001b[A\n",
      " 95%|█████████▌| 1198/1261 [02:13<00:06,  9.36it/s]\u001b[A\n",
      " 95%|█████████▌| 1199/1261 [02:13<00:06,  8.99it/s]\u001b[A\n",
      " 95%|█████████▌| 1200/1261 [02:13<00:06,  9.11it/s]\u001b[A\n",
      " 95%|█████████▌| 1201/1261 [02:13<00:06,  9.36it/s]\u001b[A\n",
      " 95%|█████████▌| 1202/1261 [02:13<00:06,  9.46it/s]\u001b[A\n",
      " 95%|█████████▌| 1203/1261 [02:13<00:06,  8.88it/s]\u001b[A\n",
      " 95%|█████████▌| 1204/1261 [02:13<00:06,  8.96it/s]\u001b[A\n",
      " 96%|█████████▌| 1205/1261 [02:14<00:06,  8.91it/s]\u001b[A\n",
      " 96%|█████████▌| 1206/1261 [02:14<00:06,  9.11it/s]\u001b[A\n",
      " 96%|█████████▌| 1207/1261 [02:14<00:05,  9.24it/s]\u001b[A\n",
      " 96%|█████████▌| 1208/1261 [02:14<00:05,  9.26it/s]\u001b[A\n",
      " 96%|█████████▌| 1209/1261 [02:14<00:05,  9.36it/s]\u001b[A\n",
      " 96%|█████████▌| 1210/1261 [02:14<00:05,  9.11it/s]\u001b[A\n",
      " 96%|█████████▌| 1211/1261 [02:14<00:05,  8.85it/s]\u001b[A\n",
      " 96%|█████████▌| 1212/1261 [02:14<00:05,  9.15it/s]\u001b[A\n",
      " 96%|█████████▌| 1213/1261 [02:14<00:05,  9.14it/s]\u001b[A\n",
      " 96%|█████████▋| 1214/1261 [02:14<00:05,  8.78it/s]\u001b[A\n",
      " 96%|█████████▋| 1215/1261 [02:15<00:05,  9.00it/s]\u001b[A\n",
      " 96%|█████████▋| 1216/1261 [02:15<00:04,  9.28it/s]\u001b[A\n",
      " 97%|█████████▋| 1217/1261 [02:15<00:04,  9.40it/s]\u001b[A\n",
      " 97%|█████████▋| 1218/1261 [02:15<00:04,  9.50it/s]\u001b[A\n",
      " 97%|█████████▋| 1219/1261 [02:15<00:04,  9.55it/s]\u001b[A\n",
      " 97%|█████████▋| 1220/1261 [02:15<00:04,  9.59it/s]\u001b[A\n",
      " 97%|█████████▋| 1221/1261 [02:15<00:04,  9.11it/s]\u001b[A\n",
      " 97%|█████████▋| 1222/1261 [02:15<00:04,  8.92it/s]\u001b[A\n",
      " 97%|█████████▋| 1223/1261 [02:15<00:04,  9.05it/s]"
     ]
    },
    {
     "name": "stdout",
     "output_type": "stream",
     "text": [
      "fit coeffs too far off [%] [ 0.820094    0.3161188   0.04230186]\n",
      "fit coeffs too far off [%] [ 0.93657476  0.31993129  0.03315029]\n"
     ]
    },
    {
     "name": "stderr",
     "output_type": "stream",
     "text": [
      "\u001b[A\n",
      " 97%|█████████▋| 1224/1261 [02:16<00:04,  8.58it/s]\u001b[A\n",
      " 97%|█████████▋| 1225/1261 [02:16<00:04,  8.75it/s]"
     ]
    },
    {
     "name": "stdout",
     "output_type": "stream",
     "text": [
      "fit coeffs too far off [%] [ 0.79087018  0.26716088  0.02885163]\n"
     ]
    },
    {
     "name": "stderr",
     "output_type": "stream",
     "text": [
      "\u001b[A\n",
      " 97%|█████████▋| 1226/1261 [02:16<00:03,  9.01it/s]\u001b[A\n",
      " 97%|█████████▋| 1227/1261 [02:16<00:03,  8.95it/s]\u001b[A\n",
      " 97%|█████████▋| 1228/1261 [02:16<00:03,  9.08it/s]\u001b[A\n",
      " 98%|█████████▊| 1230/1261 [02:16<00:03,  9.31it/s]\u001b[A\n",
      " 98%|█████████▊| 1231/1261 [02:16<00:03,  9.41it/s]\u001b[A\n",
      " 98%|█████████▊| 1232/1261 [02:16<00:03,  9.50it/s]\u001b[A\n",
      " 98%|█████████▊| 1233/1261 [02:17<00:02,  9.63it/s]\u001b[A\n",
      " 98%|█████████▊| 1234/1261 [02:17<00:03,  8.89it/s]"
     ]
    },
    {
     "name": "stdout",
     "output_type": "stream",
     "text": [
      "fit coeffs too far off [%] [-0.96091435 -0.37956328 -0.05318766]\n",
      "fit coeffs too far off [%] [-1.05248426 -0.44743223 -0.06398639]\n"
     ]
    },
    {
     "name": "stderr",
     "output_type": "stream",
     "text": [
      "\u001b[A\n",
      " 98%|█████████▊| 1235/1261 [02:17<00:03,  8.65it/s]\u001b[A\n",
      " 98%|█████████▊| 1236/1261 [02:17<00:02,  8.79it/s]"
     ]
    },
    {
     "name": "stdout",
     "output_type": "stream",
     "text": [
      "fit coeffs too far off [%] [-1.43071057 -0.57951569 -0.07589328]\n",
      "fit coeffs too far off [%] [-1.32404829 -0.57064854 -0.08052033]\n"
     ]
    },
    {
     "name": "stderr",
     "output_type": "stream",
     "text": [
      "\u001b[A\n",
      " 98%|█████████▊| 1237/1261 [02:17<00:02,  8.69it/s]\u001b[A\n",
      " 98%|█████████▊| 1238/1261 [02:17<00:02,  8.49it/s]"
     ]
    },
    {
     "name": "stdout",
     "output_type": "stream",
     "text": [
      "fit coeffs too far off [%] [-1.30801753 -0.5514352  -0.07398743]\n",
      "fit coeffs too far off [%] [-1.28368455 -0.52220821 -0.07105367]\n"
     ]
    },
    {
     "name": "stderr",
     "output_type": "stream",
     "text": [
      "\u001b[A\n",
      " 98%|█████████▊| 1239/1261 [02:17<00:02,  8.44it/s]\u001b[A\n",
      " 98%|█████████▊| 1240/1261 [02:17<00:02,  8.71it/s]\u001b[A\n",
      " 98%|█████████▊| 1241/1261 [02:17<00:02,  8.89it/s]\u001b[A\n",
      " 98%|█████████▊| 1242/1261 [02:18<00:02,  8.96it/s]\u001b[A\n",
      " 99%|█████████▊| 1243/1261 [02:18<00:01,  9.05it/s]"
     ]
    },
    {
     "name": "stdout",
     "output_type": "stream",
     "text": [
      "fit coeffs too far off [%] [-0.72675121 -0.3347669  -0.05409841]\n",
      "fit coeffs too far off [%] [-3.199325   -0.73420306 -0.07418305]\n"
     ]
    },
    {
     "name": "stderr",
     "output_type": "stream",
     "text": [
      "\u001b[A\n",
      " 99%|█████████▊| 1244/1261 [02:18<00:01,  9.05it/s]\u001b[A\n",
      " 99%|█████████▊| 1245/1261 [02:18<00:01,  9.23it/s]"
     ]
    },
    {
     "name": "stdout",
     "output_type": "stream",
     "text": [
      "fit coeffs too far off [%] [-1.67121765 -0.54230647 -0.07135389]\n",
      "fit coeffs too far off [%] [-1.94649674 -0.54127783 -0.06274765]\n"
     ]
    },
    {
     "name": "stderr",
     "output_type": "stream",
     "text": [
      "\u001b[A\n",
      " 99%|█████████▉| 1246/1261 [02:18<00:01,  8.93it/s]\u001b[A\n",
      " 99%|█████████▉| 1247/1261 [02:18<00:01,  8.80it/s]"
     ]
    },
    {
     "name": "stdout",
     "output_type": "stream",
     "text": [
      "fit coeffs too far off [%] [-1.72447425 -0.46002031 -0.05190567]\n"
     ]
    },
    {
     "name": "stderr",
     "output_type": "stream",
     "text": [
      "\u001b[A\n",
      " 99%|█████████▉| 1248/1261 [02:18<00:01,  8.97it/s]\u001b[A\n",
      " 99%|█████████▉| 1249/1261 [02:18<00:01,  8.92it/s]"
     ]
    },
    {
     "name": "stdout",
     "output_type": "stream",
     "text": [
      "fit coeffs too far off [%] [ 0.8906133  -0.14016539 -0.03435749]\n"
     ]
    },
    {
     "name": "stderr",
     "output_type": "stream",
     "text": [
      "\u001b[A\n",
      " 99%|█████████▉| 1250/1261 [02:18<00:01,  9.00it/s]\u001b[A\n",
      " 99%|█████████▉| 1251/1261 [02:19<00:01,  9.06it/s]"
     ]
    },
    {
     "name": "stdout",
     "output_type": "stream",
     "text": [
      "fit coeffs too far off [%] [ 2.22487257 -0.03009366 -0.03117174]\n"
     ]
    },
    {
     "name": "stderr",
     "output_type": "stream",
     "text": [
      "\u001b[A\n",
      " 99%|█████████▉| 1252/1261 [02:19<00:00,  9.07it/s]\u001b[A\n",
      " 99%|█████████▉| 1253/1261 [02:19<00:00,  9.11it/s]"
     ]
    },
    {
     "name": "stdout",
     "output_type": "stream",
     "text": [
      "fit coeffs too far off [%] [ 2.99874855  0.11301231 -0.00571769]\n",
      "fit coeffs too far off [%] [  6.00307756e+00   3.39081392e-01  -4.96047338e-03]\n"
     ]
    },
    {
     "name": "stderr",
     "output_type": "stream",
     "text": [
      "\u001b[A\n",
      " 99%|█████████▉| 1254/1261 [02:19<00:00,  8.99it/s]\u001b[A\n",
      "100%|█████████▉| 1255/1261 [02:19<00:00,  9.02it/s]"
     ]
    },
    {
     "name": "stdout",
     "output_type": "stream",
     "text": [
      "fit coeffs too far off [%] [ 1.73929267 -0.08914875 -0.07092518]\n",
      "fit coeffs too far off [%] [ 3.51040622  0.21890191 -0.0053167 ]\n"
     ]
    },
    {
     "name": "stderr",
     "output_type": "stream",
     "text": [
      "\u001b[A\n",
      "100%|█████████▉| 1256/1261 [02:19<00:00,  8.89it/s]\u001b[A\n",
      "100%|█████████▉| 1257/1261 [02:19<00:00,  8.84it/s]"
     ]
    },
    {
     "name": "stdout",
     "output_type": "stream",
     "text": [
      "fit coeffs too far off [%] [ 1.61526977 -0.1602302  -0.07885576]\n",
      "fit coeffs too far off [%] [-0.58055465 -0.63468684 -0.11436386]\n"
     ]
    },
    {
     "name": "stderr",
     "output_type": "stream",
     "text": [
      "\u001b[A\n",
      "100%|█████████▉| 1258/1261 [02:19<00:00,  8.80it/s]\u001b[A\n",
      "100%|█████████▉| 1259/1261 [02:19<00:00,  8.90it/s]"
     ]
    },
    {
     "name": "stdout",
     "output_type": "stream",
     "text": [
      "fit coeffs too far off [%] [-1.2807653  -0.72168358 -0.10968829]\n",
      "fit coeffs too far off [%] [-0.69410367 -0.86883564 -0.14006089]\n"
     ]
    },
    {
     "name": "stderr",
     "output_type": "stream",
     "text": [
      "\u001b[A\n",
      "100%|█████████▉| 1260/1261 [02:20<00:00,  8.90it/s]\u001b[A\n",
      "\u001b[A"
     ]
    },
    {
     "name": "stdout",
     "output_type": "stream",
     "text": [
      "fit coeffs too far off [%] [-1.50958516 -1.16304517 -0.16170166]\n",
      "[MoviePy] Done.\n",
      "[MoviePy] >>>> Video ready: test_videos_output/project_video.mp4 \n",
      "\n",
      "CPU times: user 5min 7s, sys: 34 s, total: 5min 41s\n",
      "Wall time: 2min 20s\n"
     ]
    }
   ],
   "source": [
    "with open('calibration_paraeters.pkl', mode='rb') as f:\n",
    "    dist_pickle = pickle.load(f)\n",
    "    mtx = dist_pickle[\"mtx\"]\n",
    "    dist = dist_pickle[\"dist\"]\n",
    "\n",
    "## global part\n",
    "left = Line(buffer_len=7)\n",
    "right = Line(buffer_len=10)\n",
    "image_info = None\n",
    "\n",
    "output_dir = 'test_videos_output'\n",
    "if not os.path.exists(output_dir):\n",
    "    os.mkdir(output_dir)\n",
    "video_file = 'project_video.mp4'\n",
    "clip1 = VideoFileClip(video_file)\n",
    "white_clip = clip1.fl_image(process_image) #NOTE: this function expects color images!!\n",
    "%time white_clip.write_videofile(os.path.join(output_dir, video_file), audio=False)"
   ]
  },
  {
   "cell_type": "code",
   "execution_count": 26,
   "metadata": {},
   "outputs": [
    {
     "data": {
      "text/html": [
       "\n",
       "<video width=\"960\" height=\"540\" controls>\n",
       "  <source src=\"test_videos_output/project_video.mp4\">\n",
       "</video>\n"
      ],
      "text/plain": [
       "<IPython.core.display.HTML object>"
      ]
     },
     "execution_count": 26,
     "metadata": {},
     "output_type": "execute_result"
    }
   ],
   "source": [
    "HTML(\"\"\"\n",
    "<video width=\"960\" height=\"540\" controls>\n",
    "  <source src=\"{0}\">\n",
    "</video>\n",
    "\"\"\".format(os.path.join(output_dir, video_file)))"
   ]
  },
  {
   "cell_type": "code",
   "execution_count": null,
   "metadata": {
    "collapsed": true
   },
   "outputs": [],
   "source": []
  }
 ],
 "metadata": {
  "kernelspec": {
   "display_name": "Python 2",
   "language": "python",
   "name": "python2"
  },
  "language_info": {
   "codemirror_mode": {
    "name": "ipython",
    "version": 2
   },
   "file_extension": ".py",
   "mimetype": "text/x-python",
   "name": "python",
   "nbconvert_exporter": "python",
   "pygments_lexer": "ipython2",
   "version": "2.7.12"
  }
 },
 "nbformat": 4,
 "nbformat_minor": 2
}
